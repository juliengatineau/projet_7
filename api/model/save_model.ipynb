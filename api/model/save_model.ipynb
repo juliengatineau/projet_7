{
 "cells": [
  {
   "cell_type": "code",
   "execution_count": 1,
   "metadata": {},
   "outputs": [],
   "source": [
    "import dill\n",
    "import myfunctions as myf"
   ]
  },
  {
   "cell_type": "code",
   "execution_count": 2,
   "metadata": {},
   "outputs": [],
   "source": [
    "# Lancement de Mlflow\n",
    "import mlflow\n",
    "from mlflow.tracking import MlflowClient\n",
    "\n",
    "# Démarrer le serveur MLflow\n",
    "mlflow_process = myf.start_mlflow_server()\n",
    "mlflow.set_tracking_uri(\"http://localhost:5000\")"
   ]
  },
  {
   "cell_type": "code",
   "execution_count": 3,
   "metadata": {},
   "outputs": [
    {
     "name": "stderr",
     "output_type": "stream",
     "text": [
      "2024-05-14 05:46:21.790467: I tensorflow/core/util/port.cc:113] oneDNN custom operations are on. You may see slightly different numerical results due to floating-point round-off errors from different computation orders. To turn them off, set the environment variable `TF_ENABLE_ONEDNN_OPTS=0`.\n",
      "2024-05-14 05:46:22.052677: I tensorflow/core/platform/cpu_feature_guard.cc:210] This TensorFlow binary is optimized to use available CPU instructions in performance-critical operations.\n",
      "To enable the following instructions: AVX2 AVX_VNNI FMA, in other operations, rebuild TensorFlow with the appropriate compiler flags.\n",
      "2024-05-14 05:46:22.920934: W tensorflow/compiler/tf2tensorrt/utils/py_utils.cc:38] TF-TRT Warning: Could not find TensorRT\n",
      "2024-05-14 05:46:34.888683: I external/local_xla/xla/stream_executor/cuda/cuda_executor.cc:984] could not open file to read NUMA node: /sys/bus/pci/devices/0000:01:00.0/numa_node\n",
      "Your kernel may have been built without NUMA support.\n",
      "2024-05-14 05:46:35.112704: W tensorflow/core/common_runtime/gpu/gpu_device.cc:2251] Cannot dlopen some GPU libraries. Please make sure the missing libraries mentioned above are installed properly if you would like to use GPU. Follow the guide at https://www.tensorflow.org/install/gpu for how to download and setup the required libraries for your platform.\n",
      "Skipping registering GPU devices...\n",
      "/home/jul/miniconda3/envs/tf/lib/python3.12/site-packages/tqdm/auto.py:21: TqdmWarning: IProgress not found. Please update jupyter and ipywidgets. See https://ipywidgets.readthedocs.io/en/stable/user_install.html\n",
      "  from .autonotebook import tqdm as notebook_tqdm\n",
      "Downloading artifacts: 100%|██████████| 1/1 [00:00<00:00, 1097.99it/s]\n"
     ]
    }
   ],
   "source": [
    "# Spécifiez le chemin du modèle\n",
    "run_id = \"c4dd26e536134711bed5914563db09da\"\n",
    "model_name = \"model_glove_optimized_no_tok\"\n",
    "\n",
    "# Chargez le modèle\n",
    "model = mlflow.keras.load_model(model_uri=f\"runs:/{run_id}/{model_name}\")\n",
    "\n",
    "# Créez un client MLflow\n",
    "client = MlflowClient()\n",
    "\n",
    "# Téléchargez le tokenizer\n",
    "artifact_uri = client.get_run(run_id).info.artifact_uri\n",
    "client.download_artifacts(run_id, \"tokenizer.dill\", \".\")\n",
    "\n",
    "# Chargez le tokenizer\n",
    "with open('tokenizer.dill', 'rb') as handle:\n",
    "    tokenizer = dill.load(handle)\n",
    "\n",
    "# Récupérez max_seq_len\n",
    "max_seq_len = mlflow.get_run(run_id).data.params[\"max_seq_len\"]"
   ]
  },
  {
   "cell_type": "code",
   "execution_count": 20,
   "metadata": {},
   "outputs": [],
   "source": [
    "# Sauvegardez le modèle Keras\n",
    "model.save(f\"model.keras\")\n",
    "\n",
    "# Sauvegardez le tokenizer\n",
    "with open('tokenizer.dill', 'wb') as f:\n",
    "    dill.dump(tokenizer, f)\n",
    "\n",
    "# Sauvegardez max_seq_len\n",
    "with open('max_seq_len.dill', 'wb') as f:\n",
    "    dill.dump(max_seq_len, f)"
   ]
  },
  {
   "cell_type": "code",
   "execution_count": null,
   "metadata": {},
   "outputs": [],
   "source": []
  }
 ],
 "metadata": {
  "kernelspec": {
   "display_name": "Python 3",
   "language": "python",
   "name": "python3"
  },
  "language_info": {
   "codemirror_mode": {
    "name": "ipython",
    "version": 3
   },
   "file_extension": ".py",
   "mimetype": "text/x-python",
   "name": "python",
   "nbconvert_exporter": "python",
   "pygments_lexer": "ipython3",
   "version": "3.12.3"
  }
 },
 "nbformat": 4,
 "nbformat_minor": 2
}
