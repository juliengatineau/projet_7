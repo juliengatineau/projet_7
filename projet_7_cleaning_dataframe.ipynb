{
 "cells": [
  {
   "cell_type": "markdown",
   "metadata": {},
   "source": [
    "<H1> Cleaning du dataframe</H1>\n",
    "\n",
    "* Dataframe sans noms de colonnes\n",
    "* Colonne 3 une seule valeur --> suppression\n",
    "* Les classes sont équilibrées\n",
    "* Certains tweets et ce qui semble être la colonne id du tweet semblent êtres dupliqués\n",
    "    * Certains tweets_id sont bien dupliqués et ont les deux étiquettes --> Supression de ces tweets et de la colonne tweet_id\n",
    "    * D'autres tweets sont dupliqués et n'ont pas le même label --> Suppression de ces tweets\n",
    "    * D'autres tweets sont dupliqués et ont le même label --> Conservation des tweets\n",
    "* Changement des labels en 0 et 1\n",
    "* Transformation de la colonne date en datetime"
   ]
  },
  {
   "cell_type": "code",
   "execution_count": 1,
   "metadata": {},
   "outputs": [],
   "source": [
    "import pandas as pd\n",
    "import numpy as np\n",
    "import seaborn as sns\n",
    "import matplotlib.pyplot as plt\n",
    "%matplotlib inline\n",
    "import missingno as msno\n",
    "import time\n",
    "\n",
    "from sklearn.model_selection import train_test_split\n",
    "from sklearn.metrics import confusion_matrix, classification_report, accuracy_score, precision_score, recall_score, f1_score\n",
    "\n",
    "import os\n",
    "\n",
    "# Afficher toutes les colonnes du dataframe\n",
    "pd.set_option('display.max_columns', None)\n",
    "# pd.set_option('display.max_columns', 20)"
   ]
  },
  {
   "cell_type": "markdown",
   "metadata": {},
   "source": [
    "# Vérification des données"
   ]
  },
  {
   "cell_type": "markdown",
   "metadata": {},
   "source": [
    "#### Vérifications basiques"
   ]
  },
  {
   "cell_type": "code",
   "execution_count": 2,
   "metadata": {},
   "outputs": [
    {
     "data": {
      "text/html": [
       "<div>\n",
       "<style scoped>\n",
       "    .dataframe tbody tr th:only-of-type {\n",
       "        vertical-align: middle;\n",
       "    }\n",
       "\n",
       "    .dataframe tbody tr th {\n",
       "        vertical-align: top;\n",
       "    }\n",
       "\n",
       "    .dataframe thead th {\n",
       "        text-align: right;\n",
       "    }\n",
       "</style>\n",
       "<table border=\"1\" class=\"dataframe\">\n",
       "  <thead>\n",
       "    <tr style=\"text-align: right;\">\n",
       "      <th></th>\n",
       "      <th>0</th>\n",
       "      <th>1</th>\n",
       "      <th>2</th>\n",
       "      <th>3</th>\n",
       "      <th>4</th>\n",
       "      <th>5</th>\n",
       "    </tr>\n",
       "  </thead>\n",
       "  <tbody>\n",
       "    <tr>\n",
       "      <th>0</th>\n",
       "      <td>0</td>\n",
       "      <td>1467810369</td>\n",
       "      <td>Mon Apr 06 22:19:45 PDT 2009</td>\n",
       "      <td>NO_QUERY</td>\n",
       "      <td>_TheSpecialOne_</td>\n",
       "      <td>@switchfoot http://twitpic.com/2y1zl - Awww, t...</td>\n",
       "    </tr>\n",
       "    <tr>\n",
       "      <th>1</th>\n",
       "      <td>0</td>\n",
       "      <td>1467810672</td>\n",
       "      <td>Mon Apr 06 22:19:49 PDT 2009</td>\n",
       "      <td>NO_QUERY</td>\n",
       "      <td>scotthamilton</td>\n",
       "      <td>is upset that he can't update his Facebook by ...</td>\n",
       "    </tr>\n",
       "    <tr>\n",
       "      <th>2</th>\n",
       "      <td>0</td>\n",
       "      <td>1467810917</td>\n",
       "      <td>Mon Apr 06 22:19:53 PDT 2009</td>\n",
       "      <td>NO_QUERY</td>\n",
       "      <td>mattycus</td>\n",
       "      <td>@Kenichan I dived many times for the ball. Man...</td>\n",
       "    </tr>\n",
       "    <tr>\n",
       "      <th>3</th>\n",
       "      <td>0</td>\n",
       "      <td>1467811184</td>\n",
       "      <td>Mon Apr 06 22:19:57 PDT 2009</td>\n",
       "      <td>NO_QUERY</td>\n",
       "      <td>ElleCTF</td>\n",
       "      <td>my whole body feels itchy and like its on fire</td>\n",
       "    </tr>\n",
       "    <tr>\n",
       "      <th>4</th>\n",
       "      <td>0</td>\n",
       "      <td>1467811193</td>\n",
       "      <td>Mon Apr 06 22:19:57 PDT 2009</td>\n",
       "      <td>NO_QUERY</td>\n",
       "      <td>Karoli</td>\n",
       "      <td>@nationwideclass no, it's not behaving at all....</td>\n",
       "    </tr>\n",
       "    <tr>\n",
       "      <th>...</th>\n",
       "      <td>...</td>\n",
       "      <td>...</td>\n",
       "      <td>...</td>\n",
       "      <td>...</td>\n",
       "      <td>...</td>\n",
       "      <td>...</td>\n",
       "    </tr>\n",
       "    <tr>\n",
       "      <th>1599995</th>\n",
       "      <td>4</td>\n",
       "      <td>2193601966</td>\n",
       "      <td>Tue Jun 16 08:40:49 PDT 2009</td>\n",
       "      <td>NO_QUERY</td>\n",
       "      <td>AmandaMarie1028</td>\n",
       "      <td>Just woke up. Having no school is the best fee...</td>\n",
       "    </tr>\n",
       "    <tr>\n",
       "      <th>1599996</th>\n",
       "      <td>4</td>\n",
       "      <td>2193601969</td>\n",
       "      <td>Tue Jun 16 08:40:49 PDT 2009</td>\n",
       "      <td>NO_QUERY</td>\n",
       "      <td>TheWDBoards</td>\n",
       "      <td>TheWDB.com - Very cool to hear old Walt interv...</td>\n",
       "    </tr>\n",
       "    <tr>\n",
       "      <th>1599997</th>\n",
       "      <td>4</td>\n",
       "      <td>2193601991</td>\n",
       "      <td>Tue Jun 16 08:40:49 PDT 2009</td>\n",
       "      <td>NO_QUERY</td>\n",
       "      <td>bpbabe</td>\n",
       "      <td>Are you ready for your MoJo Makeover? Ask me f...</td>\n",
       "    </tr>\n",
       "    <tr>\n",
       "      <th>1599998</th>\n",
       "      <td>4</td>\n",
       "      <td>2193602064</td>\n",
       "      <td>Tue Jun 16 08:40:49 PDT 2009</td>\n",
       "      <td>NO_QUERY</td>\n",
       "      <td>tinydiamondz</td>\n",
       "      <td>Happy 38th Birthday to my boo of alll time!!! ...</td>\n",
       "    </tr>\n",
       "    <tr>\n",
       "      <th>1599999</th>\n",
       "      <td>4</td>\n",
       "      <td>2193602129</td>\n",
       "      <td>Tue Jun 16 08:40:50 PDT 2009</td>\n",
       "      <td>NO_QUERY</td>\n",
       "      <td>RyanTrevMorris</td>\n",
       "      <td>happy #charitytuesday @theNSPCC @SparksCharity...</td>\n",
       "    </tr>\n",
       "  </tbody>\n",
       "</table>\n",
       "<p>1600000 rows × 6 columns</p>\n",
       "</div>"
      ],
      "text/plain": [
       "         0           1                             2         3  \\\n",
       "0        0  1467810369  Mon Apr 06 22:19:45 PDT 2009  NO_QUERY   \n",
       "1        0  1467810672  Mon Apr 06 22:19:49 PDT 2009  NO_QUERY   \n",
       "2        0  1467810917  Mon Apr 06 22:19:53 PDT 2009  NO_QUERY   \n",
       "3        0  1467811184  Mon Apr 06 22:19:57 PDT 2009  NO_QUERY   \n",
       "4        0  1467811193  Mon Apr 06 22:19:57 PDT 2009  NO_QUERY   \n",
       "...     ..         ...                           ...       ...   \n",
       "1599995  4  2193601966  Tue Jun 16 08:40:49 PDT 2009  NO_QUERY   \n",
       "1599996  4  2193601969  Tue Jun 16 08:40:49 PDT 2009  NO_QUERY   \n",
       "1599997  4  2193601991  Tue Jun 16 08:40:49 PDT 2009  NO_QUERY   \n",
       "1599998  4  2193602064  Tue Jun 16 08:40:49 PDT 2009  NO_QUERY   \n",
       "1599999  4  2193602129  Tue Jun 16 08:40:50 PDT 2009  NO_QUERY   \n",
       "\n",
       "                       4                                                  5  \n",
       "0        _TheSpecialOne_  @switchfoot http://twitpic.com/2y1zl - Awww, t...  \n",
       "1          scotthamilton  is upset that he can't update his Facebook by ...  \n",
       "2               mattycus  @Kenichan I dived many times for the ball. Man...  \n",
       "3                ElleCTF    my whole body feels itchy and like its on fire   \n",
       "4                 Karoli  @nationwideclass no, it's not behaving at all....  \n",
       "...                  ...                                                ...  \n",
       "1599995  AmandaMarie1028  Just woke up. Having no school is the best fee...  \n",
       "1599996      TheWDBoards  TheWDB.com - Very cool to hear old Walt interv...  \n",
       "1599997           bpbabe  Are you ready for your MoJo Makeover? Ask me f...  \n",
       "1599998     tinydiamondz  Happy 38th Birthday to my boo of alll time!!! ...  \n",
       "1599999   RyanTrevMorris  happy #charitytuesday @theNSPCC @SparksCharity...  \n",
       "\n",
       "[1600000 rows x 6 columns]"
      ]
     },
     "execution_count": 2,
     "metadata": {},
     "output_type": "execute_result"
    }
   ],
   "source": [
    "df_import = pd.read_csv('documents/training.1600000.processed.noemoticon.csv', encoding='ISO-8859-1', header=None)\n",
    "df_import"
   ]
  },
  {
   "cell_type": "code",
   "execution_count": 3,
   "metadata": {},
   "outputs": [
    {
     "data": {
      "text/plain": [
       "<Axes: >"
      ]
     },
     "execution_count": 3,
     "metadata": {},
     "output_type": "execute_result"
    },
    {
     "data": {
      "image/png": "[encoded data removed]",
      "text/plain": [
       "<Figure size 2500x1000 with 3 Axes>"
      ]
     },
     "metadata": {},
     "output_type": "display_data"
    }
   ],
   "source": [
    "msno.bar(df_import)"
   ]
  },
  {
   "cell_type": "code",
   "execution_count": 4,
   "metadata": {},
   "outputs": [
    {
     "name": "stdout",
     "output_type": "stream",
     "text": [
      "df shape : (1600000, 6)\n"
     ]
    },
    {
     "data": {
      "text/plain": [
       "0          2\n",
       "1    1598315\n",
       "2     774363\n",
       "3          1\n",
       "4     659775\n",
       "5    1581466\n",
       "dtype: int64"
      ]
     },
     "execution_count": 4,
     "metadata": {},
     "output_type": "execute_result"
    }
   ],
   "source": [
    "# Voir le nombre de valeurs par variable\n",
    "\n",
    "print(f'df shape : {df_import.shape}')\n",
    "df_import.nunique()"
   ]
  },
  {
   "cell_type": "code",
   "execution_count": 5,
   "metadata": {},
   "outputs": [
    {
     "data": {
      "text/plain": [
       "0\n",
       "0    800000\n",
       "4    800000\n",
       "Name: count, dtype: int64"
      ]
     },
     "execution_count": 5,
     "metadata": {},
     "output_type": "execute_result"
    }
   ],
   "source": [
    "# Voir si les classes sont équilibrées\n",
    "df_import[0].value_counts()"
   ]
  },
  {
   "cell_type": "code",
   "execution_count": 6,
   "metadata": {},
   "outputs": [],
   "source": [
    "# Retirer la colonne 3 qui n'a qu'une valeur\n",
    "df_import = df_import.drop(3, axis=1)"
   ]
  },
  {
   "cell_type": "code",
   "execution_count": 7,
   "metadata": {},
   "outputs": [],
   "source": [
    "# Donner un nom aux colonnes\n",
    "df_import = df_import.rename(columns={0: 'label', 1: 'tweet_id', 2: 'date', 4: 'author', 5: 'tweet'})"
   ]
  },
  {
   "cell_type": "code",
   "execution_count": 8,
   "metadata": {},
   "outputs": [],
   "source": [
    "# Transformation des labels\n",
    "df_import['label'] = df_import['label'].replace(4, 1)"
   ]
  },
  {
   "cell_type": "code",
   "execution_count": 9,
   "metadata": {},
   "outputs": [],
   "source": [
    "# Transformation des dates en datetime\n",
    "df_import['date'] = pd.to_datetime(df_import['date'], format='%a %b %d %H:%M:%S PDT %Y')"
   ]
  },
  {
   "cell_type": "code",
   "execution_count": 10,
   "metadata": {},
   "outputs": [
    {
     "data": {
      "text/plain": [
       "False"
      ]
     },
     "execution_count": 10,
     "metadata": {},
     "output_type": "execute_result"
    }
   ],
   "source": [
    "# Voir s'il y a des lignes dupliquées\n",
    "df_import.duplicated().any()"
   ]
  },
  {
   "cell_type": "markdown",
   "metadata": {},
   "source": [
    "#### Valeurs dupliquées tweet_id"
   ]
  },
  {
   "cell_type": "code",
   "execution_count": 11,
   "metadata": {},
   "outputs": [
    {
     "name": "stdout",
     "output_type": "stream",
     "text": [
      "df_import_duplicated shape : (3370, 5)\n"
     ]
    },
    {
     "data": {
      "text/plain": [
       "label          2\n",
       "tweet_id    1685\n",
       "date        1676\n",
       "author      1601\n",
       "tweet       1678\n",
       "dtype: int64"
      ]
     },
     "execution_count": 11,
     "metadata": {},
     "output_type": "execute_result"
    }
   ],
   "source": [
    "# Analyser les valeurs dupliquées de la colonne tweet_id\n",
    "df_import_duplicated = df_import[df_import['tweet_id'].duplicated(keep=False)].sort_values('tweet_id')\n",
    "print(f'df_import_duplicated shape : {df_import_duplicated.shape}')\n",
    "df_import_duplicated.nunique()"
   ]
  },
  {
   "cell_type": "code",
   "execution_count": 12,
   "metadata": {},
   "outputs": [
    {
     "data": {
      "text/plain": [
       "True"
      ]
     },
     "execution_count": 12,
     "metadata": {},
     "output_type": "execute_result"
    }
   ],
   "source": [
    "#  verifier que chaque valeur unique de la colonne tweet_id est bien répété deux fois et a 0 et 4 en valeur de la colonne label\n",
    "check_double_label = df_import_duplicated.groupby('tweet_id')['label'].nunique()\n",
    "(check_double_label == 2).all()"
   ]
  },
  {
   "cell_type": "code",
   "execution_count": 13,
   "metadata": {},
   "outputs": [],
   "source": [
    "# Récupérer les indices des tweets à double étiquette\n",
    "duplicated_indices = df_import_duplicated.index\n",
    "\n",
    "# Supprimer ces lignes du df\n",
    "df_import = df_import.drop(duplicated_indices)"
   ]
  },
  {
   "cell_type": "code",
   "execution_count": 14,
   "metadata": {},
   "outputs": [],
   "source": [
    "# Suppression de la colonne qui n'a plus qu'une valeur par tweet\n",
    "df_import = df_import.drop('tweet_id', axis=1)"
   ]
  },
  {
   "cell_type": "markdown",
   "metadata": {},
   "source": [
    "#### Valeurs dupliquées tweet"
   ]
  },
  {
   "cell_type": "code",
   "execution_count": 15,
   "metadata": {},
   "outputs": [
    {
     "data": {
      "text/plain": [
       "False"
      ]
     },
     "execution_count": 15,
     "metadata": {},
     "output_type": "execute_result"
    }
   ],
   "source": [
    "# Vérifier si les tweets dupliqués ont toujours le même label\n",
    "df_tweet_duplicated = df_import[df_import['tweet'].duplicated(keep=False)].sort_values('tweet')\n",
    "grouped_tweet = df_tweet_duplicated.groupby('tweet')['label'].nunique()\n",
    "(grouped_tweet == 1).all()"
   ]
  },
  {
   "cell_type": "code",
   "execution_count": 16,
   "metadata": {},
   "outputs": [
    {
     "data": {
      "text/html": [
       "<div>\n",
       "<style scoped>\n",
       "    .dataframe tbody tr th:only-of-type {\n",
       "        vertical-align: middle;\n",
       "    }\n",
       "\n",
       "    .dataframe tbody tr th {\n",
       "        vertical-align: top;\n",
       "    }\n",
       "\n",
       "    .dataframe thead th {\n",
       "        text-align: right;\n",
       "    }\n",
       "</style>\n",
       "<table border=\"1\" class=\"dataframe\">\n",
       "  <thead>\n",
       "    <tr style=\"text-align: right;\">\n",
       "      <th></th>\n",
       "      <th>label</th>\n",
       "      <th>date</th>\n",
       "      <th>author</th>\n",
       "      <th>tweet</th>\n",
       "    </tr>\n",
       "  </thead>\n",
       "  <tbody>\n",
       "    <tr>\n",
       "      <th>507399</th>\n",
       "      <td>0</td>\n",
       "      <td>2009-06-15 22:46:53</td>\n",
       "      <td>Aryy1</td>\n",
       "      <td>I love you</td>\n",
       "    </tr>\n",
       "    <tr>\n",
       "      <th>1272390</th>\n",
       "      <td>1</td>\n",
       "      <td>2009-06-01 22:42:09</td>\n",
       "      <td>thatLenakid</td>\n",
       "      <td>I love you</td>\n",
       "    </tr>\n",
       "    <tr>\n",
       "      <th>1030537</th>\n",
       "      <td>1</td>\n",
       "      <td>2009-05-26 22:35:11</td>\n",
       "      <td>bradbury731</td>\n",
       "      <td>That is all.</td>\n",
       "    </tr>\n",
       "    <tr>\n",
       "      <th>730048</th>\n",
       "      <td>0</td>\n",
       "      <td>2009-06-21 00:52:30</td>\n",
       "      <td>Jessica_Tucker</td>\n",
       "      <td>That is all.</td>\n",
       "    </tr>\n",
       "    <tr>\n",
       "      <th>1268996</th>\n",
       "      <td>1</td>\n",
       "      <td>2009-06-01 21:29:16</td>\n",
       "      <td>Richard_0</td>\n",
       "      <td>goodnight</td>\n",
       "    </tr>\n",
       "    <tr>\n",
       "      <th>...</th>\n",
       "      <td>...</td>\n",
       "      <td>...</td>\n",
       "      <td>...</td>\n",
       "      <td>...</td>\n",
       "    </tr>\n",
       "    <tr>\n",
       "      <th>1299468</th>\n",
       "      <td>1</td>\n",
       "      <td>2009-06-02 10:43:33</td>\n",
       "      <td>elainer614</td>\n",
       "      <td>working from home</td>\n",
       "    </tr>\n",
       "    <tr>\n",
       "      <th>645646</th>\n",
       "      <td>0</td>\n",
       "      <td>2009-06-19 03:26:33</td>\n",
       "      <td>ashokvarda</td>\n",
       "      <td>working from home</td>\n",
       "    </tr>\n",
       "    <tr>\n",
       "      <th>633849</th>\n",
       "      <td>0</td>\n",
       "      <td>2009-06-18 20:53:18</td>\n",
       "      <td>hashbrown311</td>\n",
       "      <td>working out</td>\n",
       "    </tr>\n",
       "    <tr>\n",
       "      <th>1264530</th>\n",
       "      <td>1</td>\n",
       "      <td>2009-06-01 19:54:49</td>\n",
       "      <td>lauriegold11</td>\n",
       "      <td>working out</td>\n",
       "    </tr>\n",
       "    <tr>\n",
       "      <th>1539979</th>\n",
       "      <td>1</td>\n",
       "      <td>2009-06-15 10:14:51</td>\n",
       "      <td>naomiDOLL</td>\n",
       "      <td>working out</td>\n",
       "    </tr>\n",
       "  </tbody>\n",
       "</table>\n",
       "<p>3500 rows × 4 columns</p>\n",
       "</div>"
      ],
      "text/plain": [
       "         label                date          author               tweet\n",
       "507399       0 2009-06-15 22:46:53           Aryy1          I love you\n",
       "1272390      1 2009-06-01 22:42:09     thatLenakid          I love you\n",
       "1030537      1 2009-05-26 22:35:11     bradbury731        That is all.\n",
       "730048       0 2009-06-21 00:52:30  Jessica_Tucker        That is all.\n",
       "1268996      1 2009-06-01 21:29:16       Richard_0           goodnight\n",
       "...        ...                 ...             ...                 ...\n",
       "1299468      1 2009-06-02 10:43:33      elainer614  working from home \n",
       "645646       0 2009-06-19 03:26:33      ashokvarda  working from home \n",
       "633849       0 2009-06-18 20:53:18    hashbrown311        working out \n",
       "1264530      1 2009-06-01 19:54:49    lauriegold11        working out \n",
       "1539979      1 2009-06-15 10:14:51       naomiDOLL        working out \n",
       "\n",
       "[3500 rows x 4 columns]"
      ]
     },
     "execution_count": 16,
     "metadata": {},
     "output_type": "execute_result"
    }
   ],
   "source": [
    "# Analyser les tweets identiques qui n'ont pas le même label\n",
    "tweets_with_multiple_labels = grouped_tweet[grouped_tweet > 1].index\n",
    "df_tweet_duplicated_different_label = df_tweet_duplicated[df_tweet_duplicated['tweet'].isin(tweets_with_multiple_labels)]\n",
    "df_tweet_duplicated_different_label"
   ]
  },
  {
   "cell_type": "code",
   "execution_count": 17,
   "metadata": {},
   "outputs": [],
   "source": [
    "# Récupérer les indices des tweets à double étiquette\n",
    "duplicated_indices_2 = df_tweet_duplicated_different_label.index\n",
    "\n",
    "# Supprimer ces lignes du df\n",
    "df_import = df_import.drop(duplicated_indices_2)"
   ]
  },
  {
   "cell_type": "markdown",
   "metadata": {},
   "source": [
    "#### Voir les valeurs dupliquées de date"
   ]
  },
  {
   "cell_type": "code",
   "execution_count": 18,
   "metadata": {},
   "outputs": [
    {
     "data": {
      "text/plain": [
       "(1593130, 4)"
      ]
     },
     "execution_count": 18,
     "metadata": {},
     "output_type": "execute_result"
    }
   ],
   "source": [
    "df_import.shape"
   ]
  },
  {
   "cell_type": "code",
   "execution_count": 19,
   "metadata": {},
   "outputs": [
    {
     "data": {
      "text/html": [
       "<div>\n",
       "<style scoped>\n",
       "    .dataframe tbody tr th:only-of-type {\n",
       "        vertical-align: middle;\n",
       "    }\n",
       "\n",
       "    .dataframe tbody tr th {\n",
       "        vertical-align: top;\n",
       "    }\n",
       "\n",
       "    .dataframe thead th {\n",
       "        text-align: right;\n",
       "    }\n",
       "</style>\n",
       "<table border=\"1\" class=\"dataframe\">\n",
       "  <thead>\n",
       "    <tr style=\"text-align: right;\">\n",
       "      <th></th>\n",
       "      <th>label</th>\n",
       "      <th>date</th>\n",
       "      <th>author</th>\n",
       "      <th>tweet</th>\n",
       "    </tr>\n",
       "  </thead>\n",
       "  <tbody>\n",
       "    <tr>\n",
       "      <th>812809</th>\n",
       "      <td>1</td>\n",
       "      <td>2009-04-17 21:27:11</td>\n",
       "      <td>quietyourcackle</td>\n",
       "      <td>productive friday night  i found an old song t...</td>\n",
       "    </tr>\n",
       "    <tr>\n",
       "      <th>812810</th>\n",
       "      <td>1</td>\n",
       "      <td>2009-04-17 21:27:11</td>\n",
       "      <td>quietyourcackle</td>\n",
       "      <td>productive friday night  i found an old song t...</td>\n",
       "    </tr>\n",
       "    <tr>\n",
       "      <th>9129</th>\n",
       "      <td>0</td>\n",
       "      <td>2009-04-17 21:27:22</td>\n",
       "      <td>YaaaaZ</td>\n",
       "      <td>Why am I awake @ 8am on a Sat morning?? Whyyyy...</td>\n",
       "    </tr>\n",
       "    <tr>\n",
       "      <th>9130</th>\n",
       "      <td>0</td>\n",
       "      <td>2009-04-17 21:27:22</td>\n",
       "      <td>YaaaaZ</td>\n",
       "      <td>Why am I awake @ 8am on a Sat morning?? Whyyyy...</td>\n",
       "    </tr>\n",
       "    <tr>\n",
       "      <th>9561</th>\n",
       "      <td>0</td>\n",
       "      <td>2009-04-17 22:00:01</td>\n",
       "      <td>tweetpet</td>\n",
       "      <td>@tweetchild  Clean Me!</td>\n",
       "    </tr>\n",
       "    <tr>\n",
       "      <th>...</th>\n",
       "      <td>...</td>\n",
       "      <td>...</td>\n",
       "      <td>...</td>\n",
       "      <td>...</td>\n",
       "    </tr>\n",
       "    <tr>\n",
       "      <th>770438</th>\n",
       "      <td>0</td>\n",
       "      <td>2009-06-23 16:11:03</td>\n",
       "      <td>Susanluann</td>\n",
       "      <td>I effin locked my keys in my house and I'm stu...</td>\n",
       "    </tr>\n",
       "    <tr>\n",
       "      <th>791656</th>\n",
       "      <td>0</td>\n",
       "      <td>2009-06-25 06:26:14</td>\n",
       "      <td>AlexandraG730</td>\n",
       "      <td>@Ashley_Cashen Yes! I have to see you before y...</td>\n",
       "    </tr>\n",
       "    <tr>\n",
       "      <th>791655</th>\n",
       "      <td>0</td>\n",
       "      <td>2009-06-25 06:26:14</td>\n",
       "      <td>AlexandraG730</td>\n",
       "      <td>@Ashley_Cashen Yes! I have to see you before y...</td>\n",
       "    </tr>\n",
       "    <tr>\n",
       "      <th>792528</th>\n",
       "      <td>0</td>\n",
       "      <td>2009-06-25 06:51:59</td>\n",
       "      <td>noTHINGfaced</td>\n",
       "      <td>Records retention policies are a PITA. 21 CFR ...</td>\n",
       "    </tr>\n",
       "    <tr>\n",
       "      <th>792527</th>\n",
       "      <td>0</td>\n",
       "      <td>2009-06-25 06:51:59</td>\n",
       "      <td>noTHINGfaced</td>\n",
       "      <td>Records retention policies are a PITA. 21 CFR ...</td>\n",
       "    </tr>\n",
       "  </tbody>\n",
       "</table>\n",
       "<p>366 rows × 4 columns</p>\n",
       "</div>"
      ],
      "text/plain": [
       "        label                date           author  \\\n",
       "812809      1 2009-04-17 21:27:11  quietyourcackle   \n",
       "812810      1 2009-04-17 21:27:11  quietyourcackle   \n",
       "9129        0 2009-04-17 21:27:22           YaaaaZ   \n",
       "9130        0 2009-04-17 21:27:22           YaaaaZ   \n",
       "9561        0 2009-04-17 22:00:01         tweetpet   \n",
       "...       ...                 ...              ...   \n",
       "770438      0 2009-06-23 16:11:03       Susanluann   \n",
       "791656      0 2009-06-25 06:26:14    AlexandraG730   \n",
       "791655      0 2009-06-25 06:26:14    AlexandraG730   \n",
       "792528      0 2009-06-25 06:51:59     noTHINGfaced   \n",
       "792527      0 2009-06-25 06:51:59     noTHINGfaced   \n",
       "\n",
       "                                                    tweet  \n",
       "812809  productive friday night  i found an old song t...  \n",
       "812810  productive friday night  i found an old song t...  \n",
       "9129    Why am I awake @ 8am on a Sat morning?? Whyyyy...  \n",
       "9130    Why am I awake @ 8am on a Sat morning?? Whyyyy...  \n",
       "9561                               @tweetchild  Clean Me!  \n",
       "...                                                   ...  \n",
       "770438  I effin locked my keys in my house and I'm stu...  \n",
       "791656  @Ashley_Cashen Yes! I have to see you before y...  \n",
       "791655  @Ashley_Cashen Yes! I have to see you before y...  \n",
       "792528  Records retention policies are a PITA. 21 CFR ...  \n",
       "792527  Records retention policies are a PITA. 21 CFR ...  \n",
       "\n",
       "[366 rows x 4 columns]"
      ]
     },
     "execution_count": 19,
     "metadata": {},
     "output_type": "execute_result"
    }
   ],
   "source": [
    "# Regarder les tweets qui sont identiques ont la même date et le même auteur\n",
    "df_date_tweet_duplicated = df_import[df_import.duplicated(subset=['date', 'tweet', 'author'], keep=False)].sort_values('date')\n",
    "df_date_tweet_duplicated"
   ]
  },
  {
   "cell_type": "code",
   "execution_count": 20,
   "metadata": {},
   "outputs": [],
   "source": [
    "df_import = df_import.drop_duplicates(subset=['date', 'tweet', 'author'], keep='first').sort_values('date')"
   ]
  },
  {
   "cell_type": "code",
   "execution_count": 21,
   "metadata": {},
   "outputs": [
    {
     "data": {
      "text/plain": [
       "(1592943, 4)"
      ]
     },
     "execution_count": 21,
     "metadata": {},
     "output_type": "execute_result"
    }
   ],
   "source": [
    "df_import.shape"
   ]
  },
  {
   "cell_type": "markdown",
   "metadata": {},
   "source": [
    "#### Enregistrement du dataframe"
   ]
  },
  {
   "cell_type": "code",
   "execution_count": 22,
   "metadata": {},
   "outputs": [],
   "source": [
    "df = df_import.copy().reset_index(drop=True)\n",
    "df.to_csv('data/tweets_clean.csv', index=False)"
   ]
  },
  {
   "cell_type": "markdown",
   "metadata": {},
   "source": [
    "# Tokenization des tweets"
   ]
  },
  {
   "cell_type": "code",
   "execution_count": 23,
   "metadata": {},
   "outputs": [],
   "source": [
    "import nltk\n",
    "from nltk.tokenize import sent_tokenize, word_tokenize\n",
    "from nltk.corpus import stopwords\n",
    "from nltk.stem import WordNetLemmatizer\n",
    "from nltk.stem import PorterStemmer"
   ]
  },
  {
   "cell_type": "code",
   "execution_count": 24,
   "metadata": {},
   "outputs": [
    {
     "name": "stderr",
     "output_type": "stream",
     "text": [
      "[nltk_data] Downloading package punkt to /home/jul/nltk_data...\n",
      "[nltk_data]   Package punkt is already up-to-date!\n",
      "[nltk_data] Downloading package stopwords to /home/jul/nltk_data...\n",
      "[nltk_data]   Package stopwords is already up-to-date!\n",
      "[nltk_data] Downloading package wordnet to /home/jul/nltk_data...\n",
      "[nltk_data]   Package wordnet is already up-to-date!\n"
     ]
    },
    {
     "data": {
      "text/plain": [
       "True"
      ]
     },
     "execution_count": 24,
     "metadata": {},
     "output_type": "execute_result"
    }
   ],
   "source": [
    "nltk.download('punkt')\n",
    "nltk.download('stopwords')\n",
    "nltk.download('wordnet')"
   ]
  },
  {
   "cell_type": "markdown",
   "metadata": {},
   "source": [
    "#### Fonctions de transformation et tokennization"
   ]
  },
  {
   "cell_type": "code",
   "execution_count": 25,
   "metadata": {},
   "outputs": [],
   "source": [
    "def tokenizer_with_hash_fct(sentence) :\n",
    "    # print(sentence)\n",
    "    sentence_clean = sentence.replace('-', ' ').replace('+', ' ').replace('/', ' ')\n",
    "    word_tokens = word_tokenize(sentence_clean)\n",
    "    return word_tokens\n",
    "\n",
    "def tokenizer_no_hash_fct(sentence) :\n",
    "    # print(sentence)\n",
    "    sentence_clean = sentence.replace('-', ' ').replace('+', ' ').replace('/', ' ').replace('#', ' ')\n",
    "    word_tokens = word_tokenize(sentence_clean)\n",
    "    return word_tokens\n",
    "\n",
    "# Stop words\n",
    "stop_w = list(set(stopwords.words('english'))) + ['[', ']', ',', '.', ':', '?', '(', ')']\n",
    "\n",
    "def stop_word_filter_fct(list_words) :\n",
    "    filtered_w = [w for w in list_words if not w in stop_w]\n",
    "    filtered_w2 = [w for w in filtered_w if len(w) > 2]\n",
    "    return filtered_w2\n",
    "\n",
    "# lower case et alpha\n",
    "def lower_start_fct(list_words) :\n",
    "    lw = [w.lower() for w in list_words if (not w.startswith(\"@\")) \n",
    "    #                                   and (not w.startswith(\"#\"))\n",
    "                                       and (not w.startswith(\"http\"))]\n",
    "    return lw\n",
    "\n",
    "# Lemmatizer (base d'un mot)\n",
    "def lemma_fct(list_words) :\n",
    "    lemmatizer = WordNetLemmatizer()\n",
    "    lem_w = [lemmatizer.lemmatize(w) for w in list_words]\n",
    "    return lem_w\n",
    "\n",
    "def stem_fct(list_words):\n",
    "    stemmer = PorterStemmer()\n",
    "    stemmed_words = [stemmer.stem(w) for w in list_words]\n",
    "    return stemmed_words"
   ]
  },
  {
   "cell_type": "code",
   "execution_count": 26,
   "metadata": {},
   "outputs": [],
   "source": [
    "# No hashtags\n",
    "# ---------------------------------------------------------\n",
    "\n",
    "# Fonction de préparation du texte pour le bag of words\n",
    "def transform_bow_no_hash_fct(desc_text) :\n",
    "    word_tokens = tokenizer_no_hash_fct(desc_text)\n",
    "    sw = stop_word_filter_fct(word_tokens)\n",
    "    lw = lower_start_fct(sw)\n",
    "    # lem_w = lemma_fct(lw)    \n",
    "    transf_desc_text = ' '.join(lw)\n",
    "    return transf_desc_text\n",
    "\n",
    "# Fonction de préparation du texte pour le bag of words avec lemmatization\n",
    "def transform_bow_no_hash_lem_fct(desc_text) :\n",
    "    word_tokens = tokenizer_no_hash_fct(desc_text)\n",
    "    sw = stop_word_filter_fct(word_tokens)\n",
    "    lw = lower_start_fct(sw)\n",
    "    lem_w = lemma_fct(lw)    \n",
    "    transf_desc_text = ' '.join(lem_w)\n",
    "    return transf_desc_text\n",
    "\n",
    "\n",
    "# Fonction de préparation du texte pour le bag of words avec stemming\n",
    "def transform_bow_with_hash_stem_fct(desc_text) :\n",
    "    word_tokens = tokenizer_no_hash_fct(desc_text)\n",
    "    sw = stop_word_filter_fct(word_tokens)\n",
    "    lw = lower_start_fct(sw)\n",
    "    lem_w = lemma_fct(lw)    \n",
    "    transf_desc_text = ' '.join(lem_w)\n",
    "    return transf_desc_text\n",
    "\n",
    "\n",
    "\n",
    "\n",
    "\n",
    "# With hashtags\n",
    "# ---------------------------------------------------------\n",
    "\n",
    "# Fonction de préparation du texte pour le bag of words avec hashtags\n",
    "def transform_bow_with_hash_fct(desc_text) :\n",
    "    word_tokens = tokenizer_with_hash_fct(desc_text)\n",
    "    sw = stop_word_filter_fct(word_tokens)\n",
    "    lw = lower_start_fct(sw)\n",
    "    # lem_w = lemma_fct(lw)    \n",
    "    transf_desc_text = ' '.join(lw)\n",
    "    return transf_desc_text\n",
    "\n",
    "# Fonction de préparation du texte pour le bag of words avec lemmatization et hashtags\n",
    "def transform_bow_with_hash_lem_fct(desc_text) :\n",
    "    word_tokens = tokenizer_with_hash_fct(desc_text)\n",
    "    sw = stop_word_filter_fct(word_tokens)\n",
    "    lw = lower_start_fct(sw)\n",
    "    stem_w = stem_fct(lw)    \n",
    "    transf_desc_text = ' '.join(stem_w)\n",
    "    return transf_desc_text\n",
    "\n",
    "# Fonction de préparation du texte pour le bag of words avec stemming et hashtags\n",
    "def transform_bow_with_hash_stem_fct(desc_text) :\n",
    "    word_tokens = tokenizer_with_hash_fct(desc_text)\n",
    "    sw = stop_word_filter_fct(word_tokens)\n",
    "    lw = lower_start_fct(sw)\n",
    "    lem_w = lemma_fct(lw)    \n",
    "    transf_desc_text = ' '.join(lem_w)\n",
    "    return transf_desc_text"
   ]
  },
  {
   "cell_type": "code",
   "execution_count": 27,
   "metadata": {},
   "outputs": [],
   "source": [
    "# No hashtags\n",
    "# ---------------------------------------------------------\n",
    "\n",
    "\n",
    "# Fonction de préparation du texte pour le Deep learning (USE et BERT) withour hashtage\n",
    "def transform_dl_no_hash_fct(desc_text) :\n",
    "    word_tokens = tokenizer_no_hash_fct(desc_text)\n",
    "#    sw = stop_word_filter_fct(word_tokens)\n",
    "    lw = lower_start_fct(word_tokens)\n",
    "    # lem_w = lemma_fct(lw)    \n",
    "    transf_desc_text = ' '.join(lw)\n",
    "    return transf_desc_text\n",
    "\n",
    "# Fonction de préparation du texte pour le Deep learning (USE et BERT) withour hashtage\n",
    "def transform_dl_no_hash_lem_fct(desc_text) :\n",
    "    word_tokens = tokenizer_no_hash_fct(desc_text)\n",
    "#    sw = stop_word_filter_fct(word_tokens)\n",
    "    lw = lower_start_fct(word_tokens)\n",
    "    lem_w = lemma_fct(lw)    \n",
    "    transf_desc_text = ' '.join(lem_w)\n",
    "    return transf_desc_text\n",
    "\n",
    "def transform_dl_with_hash_stem_fct(desc_text) :\n",
    "    word_tokens = tokenizer_no_hash_fct(desc_text)\n",
    "#    sw = stop_word_filter_fct(word_tokens)\n",
    "    lw = lower_start_fct(word_tokens)\n",
    "    stem_w = stem_fct(lw)    \n",
    "    transf_desc_text = ' '.join(stem_w)\n",
    "    return transf_desc_text\n",
    "\n",
    "\n",
    "\n",
    "\n",
    "# With hashtags\n",
    "# ---------------------------------------------------------\n",
    "\n",
    "# Fonction de préparation du texte pour le Deep learning (USE et BERT) with hashtag\n",
    "def transform_dl_with_hash_fct(desc_text) :\n",
    "    word_tokens = tokenizer_with_hash_fct(desc_text)\n",
    "#    sw = stop_word_filter_fct(word_tokens)\n",
    "    lw = lower_start_fct(word_tokens)\n",
    "    # lem_w = lemma_fct(lw)    \n",
    "    transf_desc_text = ' '.join(lw)\n",
    "    return transf_desc_text\n",
    "\n",
    "def transform_dl_with_hash_lem_fct(desc_text) :\n",
    "    word_tokens = tokenizer_with_hash_fct(desc_text)\n",
    "#    sw = stop_word_filter_fct(word_tokens)\n",
    "    lw = lower_start_fct(word_tokens)\n",
    "    lem_w = lemma_fct(lw)    \n",
    "    transf_desc_text = ' '.join(lem_w)\n",
    "    return transf_desc_text\n",
    "\n",
    "def transform_dl_with_hash_stem_fct(desc_text) :\n",
    "    word_tokens = tokenizer_with_hash_fct(desc_text)\n",
    "#    sw = stop_word_filter_fct(word_tokens)\n",
    "    lw = lower_start_fct(word_tokens)\n",
    "    stem_w = stem_fct(lw)    \n",
    "    transf_desc_text = ' '.join(stem_w)\n",
    "    return transf_desc_text\n"
   ]
  },
  {
   "cell_type": "markdown",
   "metadata": {},
   "source": [
    "#### Transformation des tweets"
   ]
  },
  {
   "cell_type": "code",
   "execution_count": 28,
   "metadata": {},
   "outputs": [],
   "source": [
    "df['hash'] = df['tweet'].apply(lambda x : transform_bow_with_hash_fct(x))\n",
    "df['hash_lem'] = df['tweet'].apply(lambda x : transform_bow_with_hash_lem_fct(x))\n",
    "df['hash_stem'] = df['tweet'].apply(lambda x : transform_bow_with_hash_stem_fct(x))\n",
    "\n",
    "df['no_hash'] = df['tweet'].apply(lambda x : transform_bow_no_hash_fct(x))\n",
    "df['no_hash_lem'] = df['tweet'].apply(lambda x : transform_bow_no_hash_lem_fct(x))\n",
    "df['no_hash_stem'] = df['tweet'].apply(lambda x : transform_bow_no_hash_fct(x))\n",
    "\n",
    "df['dl'] = df['tweet'].apply(lambda x : transform_dl_with_hash_fct(x))\n",
    "df['dl_lem'] = df['tweet'].apply(lambda x : transform_dl_with_hash_lem_fct(x))\n",
    "df['dl_stem'] = df['tweet'].apply(lambda x : transform_dl_with_hash_stem_fct(x))\n",
    "\n",
    "df['dl_no_hash'] = df['tweet'].apply(lambda x : transform_dl_no_hash_fct(x))\n",
    "df['dl_no_hash_lem'] = df['tweet'].apply(lambda x : transform_dl_no_hash_lem_fct(x))\n",
    "df['dl_no_hash_stem'] = df['tweet'].apply(lambda x : transform_dl_no_hash_fct(x))"
   ]
  },
  {
   "cell_type": "code",
   "execution_count": 29,
   "metadata": {},
   "outputs": [],
   "source": [
    "# Retirer les lignes qui contiennent des nan après transformation\n",
    "col = ['hash', 'hash_lem', 'hash_stem', 'no_hash', 'no_hash_lem', 'no_hash_stem', 'dl', 'dl_lem', 'dl_stem', 'dl_no_hash', 'dl_no_hash_lem', 'dl_no_hash_stem']\n",
    "for c in col :\n",
    "    df = df[df[c].isnull() == False]\n",
    "    df = df[df[c] != '']\n",
    "    df = df.reset_index(drop=True)"
   ]
  },
  {
   "cell_type": "code",
   "execution_count": 30,
   "metadata": {},
   "outputs": [],
   "source": [
    "df.to_csv('data/tweets_tokenized.csv')"
   ]
  },
  {
   "cell_type": "code",
   "execution_count": 31,
   "metadata": {},
   "outputs": [],
   "source": [
    "#df = pd.read_csv('data/tweets_tokenized.csv')"
   ]
  },
  {
   "cell_type": "code",
   "execution_count": 32,
   "metadata": {},
   "outputs": [],
   "source": [
    "_, df_sample = train_test_split(df, test_size=0.01, stratify=df['label'], random_state=42)\n",
    "df_sample.to_csv('data/tweets_tokenized_test_1.csv')\n",
    "\n",
    "_, df_sample = train_test_split(df, test_size=0.05, stratify=df['label'], random_state=42)\n",
    "df_sample.to_csv('data/tweets_tokenized_test_5.csv')\n",
    "\n",
    "_, df_sample = train_test_split(df, test_size=0.1, stratify=df['label'], random_state=42)\n",
    "df_sample.to_csv('data/tweets_tokenized_test_10.csv')\n",
    "\n",
    "_, df_sample = train_test_split(df, test_size=0.25, stratify=df['label'], random_state=42)\n",
    "df_sample.to_csv('data/tweets_tokenized_test_25.csv')"
   ]
  },
  {
   "cell_type": "code",
   "execution_count": null,
   "metadata": {},
   "outputs": [],
   "source": []
  }
 ],
 "metadata": {
  "kernelspec": {
   "display_name": "Python 3",
   "language": "python",
   "name": "python3"
  },
  "language_info": {
   "codemirror_mode": {
    "name": "ipython",
    "version": 3
   },
   "file_extension": ".py",
   "mimetype": "text/x-python",
   "name": "python",
   "nbconvert_exporter": "python",
   "pygments_lexer": "ipython3",
   "version": "3.12.3"
  }
 },
 "nbformat": 4,
 "nbformat_minor": 2
}
