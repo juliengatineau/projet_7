{
 "cells": [
  {
   "cell_type": "markdown",
   "metadata": {},
   "source": [
    "<h1> Classification des tweets - Approche simple </h1>"
   ]
  },
  {
   "cell_type": "code",
   "execution_count": 1,
   "metadata": {},
   "outputs": [],
   "source": [
    "import pandas as pd\n",
    "import numpy as np\n",
    "import seaborn as sns\n",
    "import matplotlib.pyplot as plt\n",
    "%matplotlib inline\n",
    "import missingno as msno\n",
    "import time\n",
    "\n",
    "from sklearn.model_selection import train_test_split\n",
    "from sklearn.metrics import confusion_matrix, classification_report, accuracy_score, precision_score, recall_score, f1_score\n",
    "\n",
    "import os"
   ]
  },
  {
   "cell_type": "code",
   "execution_count": 2,
   "metadata": {},
   "outputs": [],
   "source": [
    "# Afficher toutes les colonnes du dataframe\n",
    "pd.set_option('display.max_columns', None)\n",
    "# pd.set_option('display.max_columns', 20)"
   ]
  },
  {
   "cell_type": "code",
   "execution_count": 3,
   "metadata": {},
   "outputs": [
    {
     "data": {
      "text/plain": [
       "<Experiment: artifact_location='mlflow-artifacts:/557530386428684495', creation_time=1713335388110, experiment_id='557530386428684495', last_update_time=1713335388110, lifecycle_stage='active', name='projet_7', tags={}>"
      ]
     },
     "execution_count": 3,
     "metadata": {},
     "output_type": "execute_result"
    }
   ],
   "source": [
    "# Lancement de Mlflow\n",
    "import mlflow\n",
    "from mlflow.models import infer_signature\n",
    "\n",
    "mlflow.set_tracking_uri(\"http://localhost:5000\")\n",
    "mlflow.set_experiment(\"projet_7\")"
   ]
  },
  {
   "cell_type": "markdown",
   "metadata": {},
   "source": [
    "## Cleaning dataframe\n",
    "* Dataframe sans noms de colonnes\n",
    "* Colonne 3 une seule valeur --> suppression\n",
    "* Les classes sont équilibrées\n",
    "* Certains tweets et ce qui semble être la colonne id du tweet semblent êtres dupliqués\n",
    "    * Certains tweets_id sont bien dupliqués et ont les deux étiquettes --> Supression de ces tweets et de la colonne tweet_id\n",
    "    * D'autres tweets sont dupliqués et n'ont pas le même label --> Suppression de ces tweets\n",
    "    * D'autres tweets sont dupliqués et ont le même label --> Conservation des tweets\n",
    "* Changement des labels en 0 et 1\n",
    "* Transformation de la colonne date en datetime"
   ]
  },
  {
   "cell_type": "markdown",
   "metadata": {},
   "source": [
    "### Vérifications des données"
   ]
  },
  {
   "cell_type": "markdown",
   "metadata": {},
   "source": [
    "#### Début du cleaning"
   ]
  },
  {
   "cell_type": "code",
   "execution_count": 55,
   "metadata": {},
   "outputs": [],
   "source": [
    "df_import = pd.read_csv('documents/training.1600000.processed.noemoticon.csv', encoding='ISO-8859-1', header=None)"
   ]
  },
  {
   "cell_type": "code",
   "execution_count": 5,
   "metadata": {},
   "outputs": [
    {
     "data": {
      "text/html": [
       "<div>\n",
       "<style scoped>\n",
       "    .dataframe tbody tr th:only-of-type {\n",
       "        vertical-align: middle;\n",
       "    }\n",
       "\n",
       "    .dataframe tbody tr th {\n",
       "        vertical-align: top;\n",
       "    }\n",
       "\n",
       "    .dataframe thead th {\n",
       "        text-align: right;\n",
       "    }\n",
       "</style>\n",
       "<table border=\"1\" class=\"dataframe\">\n",
       "  <thead>\n",
       "    <tr style=\"text-align: right;\">\n",
       "      <th></th>\n",
       "      <th>0</th>\n",
       "      <th>1</th>\n",
       "      <th>2</th>\n",
       "      <th>3</th>\n",
       "      <th>4</th>\n",
       "      <th>5</th>\n",
       "    </tr>\n",
       "  </thead>\n",
       "  <tbody>\n",
       "    <tr>\n",
       "      <th>0</th>\n",
       "      <td>0</td>\n",
       "      <td>1467810369</td>\n",
       "      <td>Mon Apr 06 22:19:45 PDT 2009</td>\n",
       "      <td>NO_QUERY</td>\n",
       "      <td>_TheSpecialOne_</td>\n",
       "      <td>@switchfoot http://twitpic.com/2y1zl - Awww, t...</td>\n",
       "    </tr>\n",
       "    <tr>\n",
       "      <th>1</th>\n",
       "      <td>0</td>\n",
       "      <td>1467810672</td>\n",
       "      <td>Mon Apr 06 22:19:49 PDT 2009</td>\n",
       "      <td>NO_QUERY</td>\n",
       "      <td>scotthamilton</td>\n",
       "      <td>is upset that he can't update his Facebook by ...</td>\n",
       "    </tr>\n",
       "    <tr>\n",
       "      <th>2</th>\n",
       "      <td>0</td>\n",
       "      <td>1467810917</td>\n",
       "      <td>Mon Apr 06 22:19:53 PDT 2009</td>\n",
       "      <td>NO_QUERY</td>\n",
       "      <td>mattycus</td>\n",
       "      <td>@Kenichan I dived many times for the ball. Man...</td>\n",
       "    </tr>\n",
       "    <tr>\n",
       "      <th>3</th>\n",
       "      <td>0</td>\n",
       "      <td>1467811184</td>\n",
       "      <td>Mon Apr 06 22:19:57 PDT 2009</td>\n",
       "      <td>NO_QUERY</td>\n",
       "      <td>ElleCTF</td>\n",
       "      <td>my whole body feels itchy and like its on fire</td>\n",
       "    </tr>\n",
       "    <tr>\n",
       "      <th>4</th>\n",
       "      <td>0</td>\n",
       "      <td>1467811193</td>\n",
       "      <td>Mon Apr 06 22:19:57 PDT 2009</td>\n",
       "      <td>NO_QUERY</td>\n",
       "      <td>Karoli</td>\n",
       "      <td>@nationwideclass no, it's not behaving at all....</td>\n",
       "    </tr>\n",
       "    <tr>\n",
       "      <th>...</th>\n",
       "      <td>...</td>\n",
       "      <td>...</td>\n",
       "      <td>...</td>\n",
       "      <td>...</td>\n",
       "      <td>...</td>\n",
       "      <td>...</td>\n",
       "    </tr>\n",
       "    <tr>\n",
       "      <th>1599995</th>\n",
       "      <td>4</td>\n",
       "      <td>2193601966</td>\n",
       "      <td>Tue Jun 16 08:40:49 PDT 2009</td>\n",
       "      <td>NO_QUERY</td>\n",
       "      <td>AmandaMarie1028</td>\n",
       "      <td>Just woke up. Having no school is the best fee...</td>\n",
       "    </tr>\n",
       "    <tr>\n",
       "      <th>1599996</th>\n",
       "      <td>4</td>\n",
       "      <td>2193601969</td>\n",
       "      <td>Tue Jun 16 08:40:49 PDT 2009</td>\n",
       "      <td>NO_QUERY</td>\n",
       "      <td>TheWDBoards</td>\n",
       "      <td>TheWDB.com - Very cool to hear old Walt interv...</td>\n",
       "    </tr>\n",
       "    <tr>\n",
       "      <th>1599997</th>\n",
       "      <td>4</td>\n",
       "      <td>2193601991</td>\n",
       "      <td>Tue Jun 16 08:40:49 PDT 2009</td>\n",
       "      <td>NO_QUERY</td>\n",
       "      <td>bpbabe</td>\n",
       "      <td>Are you ready for your MoJo Makeover? Ask me f...</td>\n",
       "    </tr>\n",
       "    <tr>\n",
       "      <th>1599998</th>\n",
       "      <td>4</td>\n",
       "      <td>2193602064</td>\n",
       "      <td>Tue Jun 16 08:40:49 PDT 2009</td>\n",
       "      <td>NO_QUERY</td>\n",
       "      <td>tinydiamondz</td>\n",
       "      <td>Happy 38th Birthday to my boo of alll time!!! ...</td>\n",
       "    </tr>\n",
       "    <tr>\n",
       "      <th>1599999</th>\n",
       "      <td>4</td>\n",
       "      <td>2193602129</td>\n",
       "      <td>Tue Jun 16 08:40:50 PDT 2009</td>\n",
       "      <td>NO_QUERY</td>\n",
       "      <td>RyanTrevMorris</td>\n",
       "      <td>happy #charitytuesday @theNSPCC @SparksCharity...</td>\n",
       "    </tr>\n",
       "  </tbody>\n",
       "</table>\n",
       "<p>1600000 rows × 6 columns</p>\n",
       "</div>"
      ],
      "text/plain": [
       "         0           1                             2         3  \\\n",
       "0        0  1467810369  Mon Apr 06 22:19:45 PDT 2009  NO_QUERY   \n",
       "1        0  1467810672  Mon Apr 06 22:19:49 PDT 2009  NO_QUERY   \n",
       "2        0  1467810917  Mon Apr 06 22:19:53 PDT 2009  NO_QUERY   \n",
       "3        0  1467811184  Mon Apr 06 22:19:57 PDT 2009  NO_QUERY   \n",
       "4        0  1467811193  Mon Apr 06 22:19:57 PDT 2009  NO_QUERY   \n",
       "...     ..         ...                           ...       ...   \n",
       "1599995  4  2193601966  Tue Jun 16 08:40:49 PDT 2009  NO_QUERY   \n",
       "1599996  4  2193601969  Tue Jun 16 08:40:49 PDT 2009  NO_QUERY   \n",
       "1599997  4  2193601991  Tue Jun 16 08:40:49 PDT 2009  NO_QUERY   \n",
       "1599998  4  2193602064  Tue Jun 16 08:40:49 PDT 2009  NO_QUERY   \n",
       "1599999  4  2193602129  Tue Jun 16 08:40:50 PDT 2009  NO_QUERY   \n",
       "\n",
       "                       4                                                  5  \n",
       "0        _TheSpecialOne_  @switchfoot http://twitpic.com/2y1zl - Awww, t...  \n",
       "1          scotthamilton  is upset that he can't update his Facebook by ...  \n",
       "2               mattycus  @Kenichan I dived many times for the ball. Man...  \n",
       "3                ElleCTF    my whole body feels itchy and like its on fire   \n",
       "4                 Karoli  @nationwideclass no, it's not behaving at all....  \n",
       "...                  ...                                                ...  \n",
       "1599995  AmandaMarie1028  Just woke up. Having no school is the best fee...  \n",
       "1599996      TheWDBoards  TheWDB.com - Very cool to hear old Walt interv...  \n",
       "1599997           bpbabe  Are you ready for your MoJo Makeover? Ask me f...  \n",
       "1599998     tinydiamondz  Happy 38th Birthday to my boo of alll time!!! ...  \n",
       "1599999   RyanTrevMorris  happy #charitytuesday @theNSPCC @SparksCharity...  \n",
       "\n",
       "[1600000 rows x 6 columns]"
      ]
     },
     "execution_count": 5,
     "metadata": {},
     "output_type": "execute_result"
    }
   ],
   "source": [
    "df_import"
   ]
  },
  {
   "cell_type": "code",
   "execution_count": 6,
   "metadata": {},
   "outputs": [
    {
     "data": {
      "text/plain": [
       "<Axes: >"
      ]
     },
     "execution_count": 6,
     "metadata": {},
     "output_type": "execute_result"
    },
    {
     "data": {
      "image/png": "[encoded data removed]",
      "text/plain": [
       "<Figure size 2500x1000 with 3 Axes>"
      ]
     },
     "metadata": {},
     "output_type": "display_data"
    }
   ],
   "source": [
    "msno.bar(df_import)"
   ]
  },
  {
   "cell_type": "code",
   "execution_count": 7,
   "metadata": {},
   "outputs": [
    {
     "name": "stdout",
     "output_type": "stream",
     "text": [
      "df shape : (1600000, 6)\n"
     ]
    },
    {
     "data": {
      "text/plain": [
       "0          2\n",
       "1    1598315\n",
       "2     774363\n",
       "3          1\n",
       "4     659775\n",
       "5    1581466\n",
       "dtype: int64"
      ]
     },
     "execution_count": 7,
     "metadata": {},
     "output_type": "execute_result"
    }
   ],
   "source": [
    "# Voir le nombre de valeurs par variable\n",
    "\n",
    "print(f'df shape : {df_import.shape}')\n",
    "df_import.nunique()"
   ]
  },
  {
   "cell_type": "code",
   "execution_count": 57,
   "metadata": {},
   "outputs": [
    {
     "data": {
      "text/plain": [
       "0\n",
       "0    800000\n",
       "4    800000\n",
       "Name: count, dtype: int64"
      ]
     },
     "execution_count": 57,
     "metadata": {},
     "output_type": "execute_result"
    }
   ],
   "source": [
    "df_import[0].value_counts()"
   ]
  },
  {
   "cell_type": "code",
   "execution_count": 8,
   "metadata": {},
   "outputs": [],
   "source": [
    "# Retirer la colonne 3 qui n'a qu'une valeur\n",
    "df_import = df_import.drop(3, axis=1)"
   ]
  },
  {
   "cell_type": "code",
   "execution_count": 9,
   "metadata": {},
   "outputs": [],
   "source": [
    "# Donner un nom aux colonnes\n",
    "df_import = df_import.rename(columns={0: 'label', 1: 'tweet_id', 2: 'date', 4: 'author', 5: 'tweet'})"
   ]
  },
  {
   "cell_type": "code",
   "execution_count": 10,
   "metadata": {},
   "outputs": [
    {
     "data": {
      "text/plain": [
       "False"
      ]
     },
     "execution_count": 10,
     "metadata": {},
     "output_type": "execute_result"
    }
   ],
   "source": [
    "# Voir s'il y a des lignes dupliquées\n",
    "df_import.duplicated().any()"
   ]
  },
  {
   "cell_type": "code",
   "execution_count": 11,
   "metadata": {},
   "outputs": [
    {
     "name": "stdout",
     "output_type": "stream",
     "text": [
      "df_import_duplicated shape : (3370, 5)\n"
     ]
    },
    {
     "data": {
      "text/plain": [
       "label          2\n",
       "tweet_id    1685\n",
       "date        1676\n",
       "author      1601\n",
       "tweet       1678\n",
       "dtype: int64"
      ]
     },
     "execution_count": 11,
     "metadata": {},
     "output_type": "execute_result"
    }
   ],
   "source": [
    "# Analyser les valeurs dupliquées de la colonne tweet_id\n",
    "df_import_duplicated = df_import[df_import['tweet_id'].duplicated(keep=False)].sort_values('tweet_id')\n",
    "print(f'df_import_duplicated shape : {df_import_duplicated.shape}')\n",
    "df_import_duplicated.nunique()"
   ]
  },
  {
   "cell_type": "markdown",
   "metadata": {},
   "source": [
    "#### Duplicated tweet_id"
   ]
  },
  {
   "cell_type": "code",
   "execution_count": 12,
   "metadata": {},
   "outputs": [
    {
     "data": {
      "text/plain": [
       "True"
      ]
     },
     "execution_count": 12,
     "metadata": {},
     "output_type": "execute_result"
    }
   ],
   "source": [
    "#  verifier que chaque valeur unique de la colonne tweet_id est bien répété deux fois et a 0 et 4 en valeur de la colonne label\n",
    "check_double_label = df_import_duplicated.groupby('tweet_id')['label'].nunique()\n",
    "(check_double_label == 2).all()"
   ]
  },
  {
   "cell_type": "code",
   "execution_count": 13,
   "metadata": {},
   "outputs": [],
   "source": [
    "# Récupérer les indices des tweets à double étiquette\n",
    "duplicated_indices = df_import_duplicated.index\n",
    "\n",
    "# Supprimer ces lignes du df\n",
    "df_import = df_import.drop(duplicated_indices)"
   ]
  },
  {
   "cell_type": "code",
   "execution_count": 14,
   "metadata": {},
   "outputs": [],
   "source": [
    "# Suppression de la colonne qui n'a plus qu'une valeur\n",
    "df_import = df_import.drop('tweet_id', axis=1)"
   ]
  },
  {
   "cell_type": "markdown",
   "metadata": {},
   "source": [
    "#### Duplicated tweet"
   ]
  },
  {
   "cell_type": "code",
   "execution_count": 15,
   "metadata": {},
   "outputs": [
    {
     "name": "stdout",
     "output_type": "stream",
     "text": [
      "df shape : (1596630, 4)\n"
     ]
    },
    {
     "data": {
      "text/plain": [
       "label           2\n",
       "date       774242\n",
       "author     659502\n",
       "tweet     1579794\n",
       "dtype: int64"
      ]
     },
     "execution_count": 15,
     "metadata": {},
     "output_type": "execute_result"
    }
   ],
   "source": [
    "# Voir le nombre de valeurs par variable\n",
    "print(f'df shape : {df_import.shape}')\n",
    "df_import.nunique()"
   ]
  },
  {
   "cell_type": "code",
   "execution_count": 16,
   "metadata": {},
   "outputs": [
    {
     "data": {
      "text/plain": [
       "False"
      ]
     },
     "execution_count": 16,
     "metadata": {},
     "output_type": "execute_result"
    }
   ],
   "source": [
    "# Analyser les valeurs dupliquées de la colonne tweet\n",
    "df_tweet_duplicated = df_import[df_import['tweet'].duplicated(keep=False)].sort_values('tweet')\n",
    "grouped_tweet = df_tweet_duplicated.groupby('tweet')['label'].nunique()\n",
    "(grouped_tweet == 1).all()"
   ]
  },
  {
   "cell_type": "code",
   "execution_count": 17,
   "metadata": {},
   "outputs": [
    {
     "data": {
      "text/html": [
       "<div>\n",
       "<style scoped>\n",
       "    .dataframe tbody tr th:only-of-type {\n",
       "        vertical-align: middle;\n",
       "    }\n",
       "\n",
       "    .dataframe tbody tr th {\n",
       "        vertical-align: top;\n",
       "    }\n",
       "\n",
       "    .dataframe thead th {\n",
       "        text-align: right;\n",
       "    }\n",
       "</style>\n",
       "<table border=\"1\" class=\"dataframe\">\n",
       "  <thead>\n",
       "    <tr style=\"text-align: right;\">\n",
       "      <th></th>\n",
       "      <th>label</th>\n",
       "      <th>date</th>\n",
       "      <th>author</th>\n",
       "      <th>tweet</th>\n",
       "    </tr>\n",
       "  </thead>\n",
       "  <tbody>\n",
       "    <tr>\n",
       "      <th>507399</th>\n",
       "      <td>0</td>\n",
       "      <td>Mon Jun 15 22:46:53 PDT 2009</td>\n",
       "      <td>Aryy1</td>\n",
       "      <td>I love you</td>\n",
       "    </tr>\n",
       "    <tr>\n",
       "      <th>1272390</th>\n",
       "      <td>4</td>\n",
       "      <td>Mon Jun 01 22:42:09 PDT 2009</td>\n",
       "      <td>thatLenakid</td>\n",
       "      <td>I love you</td>\n",
       "    </tr>\n",
       "    <tr>\n",
       "      <th>1030537</th>\n",
       "      <td>4</td>\n",
       "      <td>Tue May 26 22:35:11 PDT 2009</td>\n",
       "      <td>bradbury731</td>\n",
       "      <td>That is all.</td>\n",
       "    </tr>\n",
       "    <tr>\n",
       "      <th>730048</th>\n",
       "      <td>0</td>\n",
       "      <td>Sun Jun 21 00:52:30 PDT 2009</td>\n",
       "      <td>Jessica_Tucker</td>\n",
       "      <td>That is all.</td>\n",
       "    </tr>\n",
       "    <tr>\n",
       "      <th>1268996</th>\n",
       "      <td>4</td>\n",
       "      <td>Mon Jun 01 21:29:16 PDT 2009</td>\n",
       "      <td>Richard_0</td>\n",
       "      <td>goodnight</td>\n",
       "    </tr>\n",
       "    <tr>\n",
       "      <th>...</th>\n",
       "      <td>...</td>\n",
       "      <td>...</td>\n",
       "      <td>...</td>\n",
       "      <td>...</td>\n",
       "    </tr>\n",
       "    <tr>\n",
       "      <th>1299468</th>\n",
       "      <td>4</td>\n",
       "      <td>Tue Jun 02 10:43:33 PDT 2009</td>\n",
       "      <td>elainer614</td>\n",
       "      <td>working from home</td>\n",
       "    </tr>\n",
       "    <tr>\n",
       "      <th>645646</th>\n",
       "      <td>0</td>\n",
       "      <td>Fri Jun 19 03:26:33 PDT 2009</td>\n",
       "      <td>ashokvarda</td>\n",
       "      <td>working from home</td>\n",
       "    </tr>\n",
       "    <tr>\n",
       "      <th>633849</th>\n",
       "      <td>0</td>\n",
       "      <td>Thu Jun 18 20:53:18 PDT 2009</td>\n",
       "      <td>hashbrown311</td>\n",
       "      <td>working out</td>\n",
       "    </tr>\n",
       "    <tr>\n",
       "      <th>1264530</th>\n",
       "      <td>4</td>\n",
       "      <td>Mon Jun 01 19:54:49 PDT 2009</td>\n",
       "      <td>lauriegold11</td>\n",
       "      <td>working out</td>\n",
       "    </tr>\n",
       "    <tr>\n",
       "      <th>1539979</th>\n",
       "      <td>4</td>\n",
       "      <td>Mon Jun 15 10:14:51 PDT 2009</td>\n",
       "      <td>naomiDOLL</td>\n",
       "      <td>working out</td>\n",
       "    </tr>\n",
       "  </tbody>\n",
       "</table>\n",
       "<p>3500 rows × 4 columns</p>\n",
       "</div>"
      ],
      "text/plain": [
       "         label                          date          author  \\\n",
       "507399       0  Mon Jun 15 22:46:53 PDT 2009           Aryy1   \n",
       "1272390      4  Mon Jun 01 22:42:09 PDT 2009     thatLenakid   \n",
       "1030537      4  Tue May 26 22:35:11 PDT 2009     bradbury731   \n",
       "730048       0  Sun Jun 21 00:52:30 PDT 2009  Jessica_Tucker   \n",
       "1268996      4  Mon Jun 01 21:29:16 PDT 2009       Richard_0   \n",
       "...        ...                           ...             ...   \n",
       "1299468      4  Tue Jun 02 10:43:33 PDT 2009      elainer614   \n",
       "645646       0  Fri Jun 19 03:26:33 PDT 2009      ashokvarda   \n",
       "633849       0  Thu Jun 18 20:53:18 PDT 2009    hashbrown311   \n",
       "1264530      4  Mon Jun 01 19:54:49 PDT 2009    lauriegold11   \n",
       "1539979      4  Mon Jun 15 10:14:51 PDT 2009       naomiDOLL   \n",
       "\n",
       "                      tweet  \n",
       "507399           I love you  \n",
       "1272390          I love you  \n",
       "1030537        That is all.  \n",
       "730048         That is all.  \n",
       "1268996           goodnight  \n",
       "...                     ...  \n",
       "1299468  working from home   \n",
       "645646   working from home   \n",
       "633849         working out   \n",
       "1264530        working out   \n",
       "1539979        working out   \n",
       "\n",
       "[3500 rows x 4 columns]"
      ]
     },
     "execution_count": 17,
     "metadata": {},
     "output_type": "execute_result"
    }
   ],
   "source": [
    "# Analyser les tweets identiques qui n'ont pas le même label\n",
    "tweets_with_multiple_labels = grouped_tweet[grouped_tweet > 1].index\n",
    "df_tweet_duplicated_different_label = df_tweet_duplicated[df_tweet_duplicated['tweet'].isin(tweets_with_multiple_labels)]\n",
    "df_tweet_duplicated_different_label"
   ]
  },
  {
   "cell_type": "code",
   "execution_count": 18,
   "metadata": {},
   "outputs": [],
   "source": [
    "# Récupérer les indices des tweets à double étiquette\n",
    "duplicated_indices_2 = df_tweet_duplicated_different_label.index\n",
    "\n",
    "# Supprimer ces lignes du df\n",
    "df_import = df_import.drop(duplicated_indices_2)"
   ]
  },
  {
   "cell_type": "markdown",
   "metadata": {},
   "source": [
    "#### Fin du cleaning et création de df"
   ]
  },
  {
   "cell_type": "code",
   "execution_count": 19,
   "metadata": {},
   "outputs": [],
   "source": [
    "# Transformation des labels\n",
    "df_import['label'] = df_import['label'].replace(4, 1)"
   ]
  },
  {
   "cell_type": "code",
   "execution_count": 20,
   "metadata": {},
   "outputs": [],
   "source": [
    "# Transformation des dates en datetime\n",
    "df_import['date'] = pd.to_datetime(df_import['date'], format='%a %b %d %H:%M:%S PDT %Y')"
   ]
  },
  {
   "cell_type": "code",
   "execution_count": 21,
   "metadata": {},
   "outputs": [
    {
     "data": {
      "text/html": [
       "<div>\n",
       "<style scoped>\n",
       "    .dataframe tbody tr th:only-of-type {\n",
       "        vertical-align: middle;\n",
       "    }\n",
       "\n",
       "    .dataframe tbody tr th {\n",
       "        vertical-align: top;\n",
       "    }\n",
       "\n",
       "    .dataframe thead th {\n",
       "        text-align: right;\n",
       "    }\n",
       "</style>\n",
       "<table border=\"1\" class=\"dataframe\">\n",
       "  <thead>\n",
       "    <tr style=\"text-align: right;\">\n",
       "      <th></th>\n",
       "      <th>label</th>\n",
       "      <th>date</th>\n",
       "      <th>author</th>\n",
       "      <th>tweet</th>\n",
       "    </tr>\n",
       "  </thead>\n",
       "  <tbody>\n",
       "    <tr>\n",
       "      <th>0</th>\n",
       "      <td>0</td>\n",
       "      <td>2009-04-06 22:19:45</td>\n",
       "      <td>_TheSpecialOne_</td>\n",
       "      <td>@switchfoot http://twitpic.com/2y1zl - Awww, t...</td>\n",
       "    </tr>\n",
       "    <tr>\n",
       "      <th>1</th>\n",
       "      <td>0</td>\n",
       "      <td>2009-04-06 22:19:49</td>\n",
       "      <td>scotthamilton</td>\n",
       "      <td>is upset that he can't update his Facebook by ...</td>\n",
       "    </tr>\n",
       "    <tr>\n",
       "      <th>2</th>\n",
       "      <td>0</td>\n",
       "      <td>2009-04-06 22:19:53</td>\n",
       "      <td>mattycus</td>\n",
       "      <td>@Kenichan I dived many times for the ball. Man...</td>\n",
       "    </tr>\n",
       "    <tr>\n",
       "      <th>3</th>\n",
       "      <td>0</td>\n",
       "      <td>2009-04-06 22:19:57</td>\n",
       "      <td>ElleCTF</td>\n",
       "      <td>my whole body feels itchy and like its on fire</td>\n",
       "    </tr>\n",
       "    <tr>\n",
       "      <th>4</th>\n",
       "      <td>0</td>\n",
       "      <td>2009-04-06 22:19:57</td>\n",
       "      <td>Karoli</td>\n",
       "      <td>@nationwideclass no, it's not behaving at all....</td>\n",
       "    </tr>\n",
       "    <tr>\n",
       "      <th>...</th>\n",
       "      <td>...</td>\n",
       "      <td>...</td>\n",
       "      <td>...</td>\n",
       "      <td>...</td>\n",
       "    </tr>\n",
       "    <tr>\n",
       "      <th>1593125</th>\n",
       "      <td>1</td>\n",
       "      <td>2009-06-16 08:40:49</td>\n",
       "      <td>AmandaMarie1028</td>\n",
       "      <td>Just woke up. Having no school is the best fee...</td>\n",
       "    </tr>\n",
       "    <tr>\n",
       "      <th>1593126</th>\n",
       "      <td>1</td>\n",
       "      <td>2009-06-16 08:40:49</td>\n",
       "      <td>TheWDBoards</td>\n",
       "      <td>TheWDB.com - Very cool to hear old Walt interv...</td>\n",
       "    </tr>\n",
       "    <tr>\n",
       "      <th>1593127</th>\n",
       "      <td>1</td>\n",
       "      <td>2009-06-16 08:40:49</td>\n",
       "      <td>bpbabe</td>\n",
       "      <td>Are you ready for your MoJo Makeover? Ask me f...</td>\n",
       "    </tr>\n",
       "    <tr>\n",
       "      <th>1593128</th>\n",
       "      <td>1</td>\n",
       "      <td>2009-06-16 08:40:49</td>\n",
       "      <td>tinydiamondz</td>\n",
       "      <td>Happy 38th Birthday to my boo of alll time!!! ...</td>\n",
       "    </tr>\n",
       "    <tr>\n",
       "      <th>1593129</th>\n",
       "      <td>1</td>\n",
       "      <td>2009-06-16 08:40:50</td>\n",
       "      <td>RyanTrevMorris</td>\n",
       "      <td>happy #charitytuesday @theNSPCC @SparksCharity...</td>\n",
       "    </tr>\n",
       "  </tbody>\n",
       "</table>\n",
       "<p>1593130 rows × 4 columns</p>\n",
       "</div>"
      ],
      "text/plain": [
       "         label                date           author  \\\n",
       "0            0 2009-04-06 22:19:45  _TheSpecialOne_   \n",
       "1            0 2009-04-06 22:19:49    scotthamilton   \n",
       "2            0 2009-04-06 22:19:53         mattycus   \n",
       "3            0 2009-04-06 22:19:57          ElleCTF   \n",
       "4            0 2009-04-06 22:19:57           Karoli   \n",
       "...        ...                 ...              ...   \n",
       "1593125      1 2009-06-16 08:40:49  AmandaMarie1028   \n",
       "1593126      1 2009-06-16 08:40:49      TheWDBoards   \n",
       "1593127      1 2009-06-16 08:40:49           bpbabe   \n",
       "1593128      1 2009-06-16 08:40:49     tinydiamondz   \n",
       "1593129      1 2009-06-16 08:40:50   RyanTrevMorris   \n",
       "\n",
       "                                                     tweet  \n",
       "0        @switchfoot http://twitpic.com/2y1zl - Awww, t...  \n",
       "1        is upset that he can't update his Facebook by ...  \n",
       "2        @Kenichan I dived many times for the ball. Man...  \n",
       "3          my whole body feels itchy and like its on fire   \n",
       "4        @nationwideclass no, it's not behaving at all....  \n",
       "...                                                    ...  \n",
       "1593125  Just woke up. Having no school is the best fee...  \n",
       "1593126  TheWDB.com - Very cool to hear old Walt interv...  \n",
       "1593127  Are you ready for your MoJo Makeover? Ask me f...  \n",
       "1593128  Happy 38th Birthday to my boo of alll time!!! ...  \n",
       "1593129  happy #charitytuesday @theNSPCC @SparksCharity...  \n",
       "\n",
       "[1593130 rows x 4 columns]"
      ]
     },
     "execution_count": 21,
     "metadata": {},
     "output_type": "execute_result"
    }
   ],
   "source": [
    "df = df_import.copy().reset_index(drop=True)\n",
    "df"
   ]
  },
  {
   "cell_type": "code",
   "execution_count": 22,
   "metadata": {},
   "outputs": [],
   "source": [
    "df.to_csv('data/tweets_clean.csv', index=False)"
   ]
  },
  {
   "cell_type": "markdown",
   "metadata": {},
   "source": [
    "### Tokenization des tweets"
   ]
  },
  {
   "cell_type": "markdown",
   "metadata": {},
   "source": [
    "#### Fonctions de tokenization"
   ]
  },
  {
   "cell_type": "code",
   "execution_count": 23,
   "metadata": {},
   "outputs": [],
   "source": [
    "import nltk\n",
    "from nltk.tokenize import sent_tokenize, word_tokenize\n",
    "from nltk.corpus import stopwords\n",
    "from nltk.stem import WordNetLemmatizer"
   ]
  },
  {
   "cell_type": "code",
   "execution_count": 24,
   "metadata": {},
   "outputs": [
    {
     "name": "stderr",
     "output_type": "stream",
     "text": [
      "[nltk_data] Downloading package punkt to /root/nltk_data...\n",
      "[nltk_data]   Unzipping tokenizers/punkt.zip.\n",
      "[nltk_data] Downloading package stopwords to /root/nltk_data...\n",
      "[nltk_data]   Unzipping corpora/stopwords.zip.\n",
      "[nltk_data] Downloading package wordnet to /root/nltk_data...\n"
     ]
    },
    {
     "data": {
      "text/plain": [
       "True"
      ]
     },
     "execution_count": 24,
     "metadata": {},
     "output_type": "execute_result"
    }
   ],
   "source": [
    "nltk.download('punkt')\n",
    "nltk.download('stopwords')\n",
    "nltk.download('wordnet')"
   ]
  },
  {
   "cell_type": "code",
   "execution_count": 25,
   "metadata": {},
   "outputs": [],
   "source": [
    "def tokenizer_with_hash_fct(sentence) :\n",
    "    # print(sentence)\n",
    "    sentence_clean = sentence.replace('-', ' ').replace('+', ' ').replace('/', ' ')\n",
    "    word_tokens = word_tokenize(sentence_clean)\n",
    "    return word_tokens\n",
    "\n",
    "def tokenizer_no_hash_fct(sentence) :\n",
    "    # print(sentence)\n",
    "    sentence_clean = sentence.replace('-', ' ').replace('+', ' ').replace('/', ' ').replace('#', ' ')\n",
    "    word_tokens = word_tokenize(sentence_clean)\n",
    "    return word_tokens\n",
    "\n",
    "# Stop words\n",
    "stop_w = list(set(stopwords.words('english'))) + ['[', ']', ',', '.', ':', '?', '(', ')']\n",
    "\n",
    "def stop_word_filter_fct(list_words) :\n",
    "    filtered_w = [w for w in list_words if not w in stop_w]\n",
    "    filtered_w2 = [w for w in filtered_w if len(w) > 2]\n",
    "    return filtered_w2\n",
    "\n",
    "# lower case et alpha\n",
    "def lower_start_fct(list_words) :\n",
    "    lw = [w.lower() for w in list_words if (not w.startswith(\"@\")) \n",
    "    #                                   and (not w.startswith(\"#\"))\n",
    "                                       and (not w.startswith(\"http\"))]\n",
    "    return lw\n",
    "\n",
    "# Lemmatizer (base d'un mot)\n",
    "def lemma_fct(list_words) :\n",
    "    lemmatizer = WordNetLemmatizer()\n",
    "    lem_w = [lemmatizer.lemmatize(w) for w in list_words]\n",
    "    return lem_w"
   ]
  },
  {
   "cell_type": "code",
   "execution_count": 26,
   "metadata": {},
   "outputs": [],
   "source": [
    "# Fonction de préparation du texte pour le bag of words\n",
    "def transform_bow_no_hash_fct(desc_text) :\n",
    "    word_tokens = tokenizer_no_hash_fct(desc_text)\n",
    "    sw = stop_word_filter_fct(word_tokens)\n",
    "    lw = lower_start_fct(sw)\n",
    "    # lem_w = lemma_fct(lw)    \n",
    "    transf_desc_text = ' '.join(lw)\n",
    "    return transf_desc_text\n",
    "\n",
    "# Fonction de préparation du texte pour le bag of words avec lemmatization\n",
    "def transform_bow_no_hash_lem_fct(desc_text) :\n",
    "    word_tokens = tokenizer_no_hash_fct(desc_text)\n",
    "    sw = stop_word_filter_fct(word_tokens)\n",
    "    lw = lower_start_fct(sw)\n",
    "    lem_w = lemma_fct(lw)    \n",
    "    transf_desc_text = ' '.join(lem_w)\n",
    "    return transf_desc_text\n",
    "\n",
    "# Fonction de préparation du texte pour le bag of words avec hashtags\n",
    "def transform_bow_with_hash_fct(desc_text) :\n",
    "    word_tokens = tokenizer_with_hash_fct(desc_text)\n",
    "    sw = stop_word_filter_fct(word_tokens)\n",
    "    lw = lower_start_fct(sw)\n",
    "    # lem_w = lemma_fct(lw)    \n",
    "    transf_desc_text = ' '.join(lw)\n",
    "    return transf_desc_text\n",
    "\n",
    "# Fonction de préparation du texte pour le bag of words avec lemmatization et hashtags\n",
    "def transform_bow_with_hash_lem_fct(desc_text) :\n",
    "    word_tokens = tokenizer_with_hash_fct(desc_text)\n",
    "    sw = stop_word_filter_fct(word_tokens)\n",
    "    lw = lower_start_fct(sw)\n",
    "    lem_w = lemma_fct(lw)    \n",
    "    transf_desc_text = ' '.join(lem_w)\n",
    "    return transf_desc_text\n",
    "\n",
    "# Fonction de préparation du texte pour le Deep learning (USE et BERT)\n",
    "def transform_dl_fct(desc_text) :\n",
    "    word_tokens = tokenizer_with_hash_fct(desc_text)\n",
    "#    sw = stop_word_filter_fct(word_tokens)\n",
    "    lw = lower_start_fct(word_tokens)\n",
    "    # lem_w = lemma_fct(lw)    \n",
    "    transf_desc_text = ' '.join(lw)\n",
    "    return transf_desc_text"
   ]
  },
  {
   "cell_type": "markdown",
   "metadata": {},
   "source": [
    "#### Transformation des tweets "
   ]
  },
  {
   "cell_type": "code",
   "execution_count": 57,
   "metadata": {},
   "outputs": [],
   "source": [
    "df_tok = pd.read_csv('data/tweets_clean.csv')"
   ]
  },
  {
   "cell_type": "code",
   "execution_count": 58,
   "metadata": {},
   "outputs": [],
   "source": [
    "df_tok['hash'] = df_tok['tweet'].apply(lambda x : transform_bow_with_hash_fct(x))\n",
    "df_tok['no_hash'] = df_tok['tweet'].apply(lambda x : transform_bow_no_hash_fct(x))\n",
    "df_tok['hash_lem'] = df_tok['tweet'].apply(lambda x : transform_bow_with_hash_lem_fct(x))\n",
    "df_tok['no_hash_lem'] = df_tok['tweet'].apply(lambda x : transform_bow_no_hash_lem_fct(x))\n",
    "df_tok['dl'] = df_tok['tweet'].apply(lambda x : transform_dl_fct(x))"
   ]
  },
  {
   "cell_type": "code",
   "execution_count": 69,
   "metadata": {},
   "outputs": [],
   "source": [
    "# Retirer les lignes qui contiennent des nan après transformation\n",
    "df_tok = df_tok[df_tok['hash'].isnull() == False]\n",
    "df_tok = df_tok[df_tok['hash'] != '']\n",
    "df_tok = df_tok.reset_index(drop=True)"
   ]
  },
  {
   "cell_type": "code",
   "execution_count": 71,
   "metadata": {},
   "outputs": [],
   "source": [
    "df_tok.to_csv('data/tweets_tokenized.csv')"
   ]
  },
  {
   "cell_type": "markdown",
   "metadata": {},
   "source": [
    "# Prédictions simples"
   ]
  },
  {
   "cell_type": "code",
   "execution_count": 63,
   "metadata": {},
   "outputs": [],
   "source": [
    "df = pd.read_csv('data/tweets_tokenized.csv')"
   ]
  },
  {
   "cell_type": "markdown",
   "metadata": {},
   "source": [
    "## Tf idf"
   ]
  },
  {
   "cell_type": "code",
   "execution_count": 64,
   "metadata": {},
   "outputs": [],
   "source": [
    "from sklearn.feature_extraction.text import TfidfVectorizer\n",
    "from sklearn.linear_model import LogisticRegression"
   ]
  },
  {
   "cell_type": "markdown",
   "metadata": {},
   "source": [
    "### test avec différentes tokenization"
   ]
  },
  {
   "cell_type": "code",
   "execution_count": 8,
   "metadata": {},
   "outputs": [],
   "source": [
    "def regression_tfidf(df, column) :\n",
    "    X = df[column]\n",
    "    y = df['label']\n",
    "\n",
    "    split_params = {\n",
    "        'test_size': 0.2,\n",
    "        'random_state': 42,\n",
    "        'stratify': y\n",
    "    }\n",
    "    X_train, X_test, y_train, y_test = train_test_split(X, y, **split_params)\n",
    "\n",
    "\n",
    "    vec_params = {\n",
    "        'stop_words': 'english',\n",
    "        'max_df': 0.95,\n",
    "        'min_df': 1\n",
    "    }\n",
    "    tfidf = TfidfVectorizer(**vec_params)\n",
    "    X_train_tfidf = tfidf.fit_transform(X_train)\n",
    "    X_test_tfidf = tfidf.transform(X_test)\n",
    "\n",
    "\n",
    "    model_params ={\n",
    "        'max_iter': 1000,\n",
    "        'solver': 'saga',\n",
    "        'penalty': 'l2'\n",
    "    }\n",
    "    lr = LogisticRegression(**model_params)\n",
    "    lr.fit(X_train_tfidf, y_train)\n",
    "    y_pred = lr.predict(X_test_tfidf)\n",
    "\n",
    "    print(confusion_matrix(y_test, y_pred))\n",
    "    print(classification_report(y_test, y_pred))"
   ]
  },
  {
   "cell_type": "code",
   "execution_count": 75,
   "metadata": {},
   "outputs": [
    {
     "name": "stdout",
     "output_type": "stream",
     "text": [
      "Formatage : hash\n",
      "\n",
      "[[120319  38909]\n",
      " [ 31834 127490]]\n",
      "              precision    recall  f1-score   support\n",
      "\n",
      "           0       0.79      0.76      0.77    159228\n",
      "           1       0.77      0.80      0.78    159324\n",
      "\n",
      "    accuracy                           0.78    318552\n",
      "   macro avg       0.78      0.78      0.78    318552\n",
      "weighted avg       0.78      0.78      0.78    318552\n",
      "\n",
      "\n",
      "--------------------------------------------\n",
      "\n",
      "Formatage : no_hash\n",
      "\n",
      "[[120319  38909]\n",
      " [ 31832 127492]]\n",
      "              precision    recall  f1-score   support\n",
      "\n",
      "           0       0.79      0.76      0.77    159228\n",
      "           1       0.77      0.80      0.78    159324\n",
      "\n",
      "    accuracy                           0.78    318552\n",
      "   macro avg       0.78      0.78      0.78    318552\n",
      "weighted avg       0.78      0.78      0.78    318552\n",
      "\n",
      "\n",
      "--------------------------------------------\n",
      "\n",
      "Formatage : hash_lem\n",
      "\n",
      "[[120223  39005]\n",
      " [ 32079 127245]]\n",
      "              precision    recall  f1-score   support\n",
      "\n",
      "           0       0.79      0.76      0.77    159228\n",
      "           1       0.77      0.80      0.78    159324\n",
      "\n",
      "    accuracy                           0.78    318552\n",
      "   macro avg       0.78      0.78      0.78    318552\n",
      "weighted avg       0.78      0.78      0.78    318552\n",
      "\n",
      "\n",
      "--------------------------------------------\n",
      "\n",
      "Formatage : no_hash_lem\n",
      "\n",
      "[[120224  39004]\n",
      " [ 32078 127246]]\n",
      "              precision    recall  f1-score   support\n",
      "\n",
      "           0       0.79      0.76      0.77    159228\n",
      "           1       0.77      0.80      0.78    159324\n",
      "\n",
      "    accuracy                           0.78    318552\n",
      "   macro avg       0.78      0.78      0.78    318552\n",
      "weighted avg       0.78      0.78      0.78    318552\n",
      "\n",
      "\n",
      "--------------------------------------------\n",
      "\n"
     ]
    }
   ],
   "source": [
    "columns = ['hash', 'no_hash', 'hash_lem', 'no_hash_lem']\n",
    "for column in columns :\n",
    "    print(f'Formatage : {column}')\n",
    "    print()\n",
    "    regression_tfidf(df, column)\n",
    "    print()\n",
    "    print('--------------------------------------------')\n",
    "    print()"
   ]
  },
  {
   "cell_type": "markdown",
   "metadata": {},
   "source": [
    "### Prédiction avec la tokenization choisie"
   ]
  },
  {
   "cell_type": "code",
   "execution_count": 65,
   "metadata": {},
   "outputs": [
    {
     "name": "stdout",
     "output_type": "stream",
     "text": [
      "[[120319  38909]\n",
      " [ 31834 127490]]\n",
      "              precision    recall  f1-score   support\n",
      "\n",
      "           0       0.79      0.76      0.77    159228\n",
      "           1       0.77      0.80      0.78    159324\n",
      "\n",
      "    accuracy                           0.78    318552\n",
      "   macro avg       0.78      0.78      0.78    318552\n",
      "weighted avg       0.78      0.78      0.78    318552\n",
      "\n"
     ]
    }
   ],
   "source": [
    "X = df['hash']\n",
    "y = df['label']\n",
    "\n",
    "# Séparer les données en ensemble de train et de test\n",
    "split_params = {\n",
    "    'test_size': 0.2,\n",
    "    'random_state': 42,\n",
    "    'stratify': y\n",
    "}\n",
    "X_train, X_test, y_train, y_test = train_test_split(X, y, **split_params)\n",
    "\n",
    "# Vectoriser les tweets\n",
    "vec_params = {\n",
    "    'stop_words': 'english',\n",
    "    'max_df': 0.95,\n",
    "    'min_df': 1\n",
    "}\n",
    "tfidf = TfidfVectorizer(**vec_params)\n",
    "X_train_tfidf = tfidf.fit_transform(X_train)\n",
    "X_test_tfidf = tfidf.transform(X_test)\n",
    "\n",
    "# Créer et entrainer le modèle\n",
    "model_params ={\n",
    "    'max_iter': 1000,\n",
    "    'solver': 'saga',\n",
    "    'penalty': 'l2'\n",
    "}\n",
    "lr = LogisticRegression(**model_params)\n",
    "lr.fit(X_train_tfidf, y_train)\n",
    "\n",
    "# Prédire les labels et enregistrer le temps de prédiction\n",
    "start_time = time.time()\n",
    "y_pred = lr.predict(X_test_tfidf)\n",
    "prediction_time = time.time() - start_time\n",
    "\n",
    "# Calculer le temps de prédiction par tweet\n",
    "prediction_time_per_tweet = prediction_time / len(y_test)\n",
    "\n",
    "# Afficher les résultats\n",
    "print(confusion_matrix(y_test, y_pred))\n",
    "print(classification_report(y_test, y_pred))\n",
    "accuracy = accuracy_score(y_test, y_pred)"
   ]
  },
  {
   "cell_type": "code",
   "execution_count": 66,
   "metadata": {},
   "outputs": [
    {
     "name": "stderr",
     "output_type": "stream",
     "text": [
      "/usr/local/lib/python3.11/dist-packages/_distutils_hack/__init__.py:26: UserWarning: Setuptools is replacing distutils.\n",
      "  warnings.warn(\"Setuptools is replacing distutils.\")\n",
      "Registered model 'Logistic_Regression_TfIdf' already exists. Creating a new version of this model...\n",
      "2024/04/17 13:06:14 INFO mlflow.store.model_registry.abstract_store: Waiting up to 300 seconds for model version to finish creation. Model name: Logistic_Regression_TfIdf, version 4\n",
      "Created version '4' of model 'Logistic_Regression_TfIdf'.\n"
     ]
    }
   ],
   "source": [
    "with mlflow.start_run(run_name=\"TfIdf with logistic regression\"):\n",
    "    # Log the hyperparameters\n",
    "    mlflow.log_params(model_params)\n",
    "\n",
    "    # Log the loss metric\n",
    "    mlflow.log_metric(\"accuracy\", accuracy)\n",
    "    mlflow.log_metric(\"total time\", prediction_time)\n",
    "    mlflow.log_metric(\"time per prediction\", prediction_time_per_tweet)\n",
    "\n",
    "    # Infer the model signature\n",
    "    signature = infer_signature(X_train_tfidf, lr.predict(X_train_tfidf))\n",
    "\n",
    "    # Log the model\n",
    "    model_info = mlflow.sklearn.log_model(\n",
    "        sk_model=lr,\n",
    "        artifact_path=\"Logistic_Regression_TfIdf\",\n",
    "        signature=signature,\n",
    "        input_example=X_train_tfidf,\n",
    "        registered_model_name=\"Logistic_Regression_TfIdf\",\n",
    "    )"
   ]
  },
  {
   "cell_type": "markdown",
   "metadata": {},
   "source": [
    "## Word2Vec"
   ]
  },
  {
   "cell_type": "markdown",
   "metadata": {},
   "source": [
    "### Méthode 1 : simple embedding"
   ]
  },
  {
   "cell_type": "code",
   "execution_count": 1,
   "metadata": {},
   "outputs": [],
   "source": []
  },
  {
   "cell_type": "code",
   "execution_count": 46,
   "metadata": {},
   "outputs": [],
   "source": [
    "def regression_word2vec(df, column):\n",
    "    X = df[column].apply(lambda x: x.split())  # split documents into words\n",
    "    y = df['label']\n",
    "\n",
    "    X_train, X_test, y_train, y_test = train_test_split(X, y, test_size=0.2, random_state=42)\n",
    "\n",
    "    # reset indices\n",
    "    X_train_lem = X_train_lem.reset_index(drop=True)\n",
    "    X_test = X_test.reset_index(drop=True)\n",
    "    y_train = y_train.reset_index(drop=True)\n",
    "    y_test = y_test.reset_index(drop=True)\n",
    "\n",
    "    # train Word2Vec model\n",
    "    w2v = Word2Vec(X_train, min_count=1)\n",
    "    \n",
    "    # transform documents to vectors\n",
    "    X_train_w2v = X_train.apply(lambda x: np.mean([w2v.wv[word] for word in x], axis=0))\n",
    "    X_test_w2v = X_test.apply(lambda x: np.mean([w2v.wv[word] for word in x if word in w2v.wv] or [np.zeros(w2v.vector_size)], axis=0))\n",
    "    # filter out None vectors\n",
    "    train_indices = [i for i, v in enumerate(X_train_w2v) if v is not None]\n",
    "    test_indices = [i for i, v in enumerate(X_test_w2v) if v is not None]\n",
    "    X_train_w2v = [X_train_w2v[i] for i in train_indices]\n",
    "    X_test_w2v = [X_test_w2v[i] for i in test_indices]\n",
    "    y_train = y_train.iloc[train_indices]\n",
    "    y_test = y_test.iloc[test_indices]\n",
    "\n",
    "\n",
    "    lr = LogisticRegression(max_iter=1000, solver='saga', penalty='l2')\n",
    "    lr.fit(list(X_train_w2v), y_train)\n",
    "    y_pred = lr.predict(list(X_test_w2v))\n",
    "\n",
    "    print(confusion_matrix(y_test, y_pred))\n",
    "    print(classification_report(y_test, y_pred))"
   ]
  },
  {
   "cell_type": "code",
   "execution_count": 2,
   "metadata": {},
   "outputs": [
    {
     "name": "stdout",
     "output_type": "stream",
     "text": [
      "Formatage : hash\n",
      "\n"
     ]
    },
    {
     "ename": "NameError",
     "evalue": "name 'regression_word2vec' is not defined",
     "output_type": "error",
     "traceback": [
      "\u001b[0;31m---------------------------------------------------------------------------\u001b[0m",
      "\u001b[0;31mNameError\u001b[0m                                 Traceback (most recent call last)",
      "Cell \u001b[0;32mIn[2], line 5\u001b[0m\n\u001b[1;32m      3\u001b[0m \u001b[38;5;28mprint\u001b[39m(\u001b[38;5;124mf\u001b[39m\u001b[38;5;124m'\u001b[39m\u001b[38;5;124mFormatage : \u001b[39m\u001b[38;5;132;01m{\u001b[39;00mcolumn\u001b[38;5;132;01m}\u001b[39;00m\u001b[38;5;124m'\u001b[39m)\n\u001b[1;32m      4\u001b[0m \u001b[38;5;28mprint\u001b[39m()\n\u001b[0;32m----> 5\u001b[0m \u001b[43mregression_word2vec\u001b[49m(df, column)\n\u001b[1;32m      6\u001b[0m \u001b[38;5;28mprint\u001b[39m()\n\u001b[1;32m      7\u001b[0m \u001b[38;5;28mprint\u001b[39m(\u001b[38;5;124m'\u001b[39m\u001b[38;5;124m--------------------------------------------\u001b[39m\u001b[38;5;124m'\u001b[39m)\n",
      "\u001b[0;31mNameError\u001b[0m: name 'regression_word2vec' is not defined"
     ]
    }
   ],
   "source": [
    "columns = ['hash', 'no_hash', 'hash_lem', 'no_hash_lem']\n",
    "for column in columns :\n",
    "    print(f'Formatage : {column}')\n",
    "    print()\n",
    "    regression_word2vec(df, column)\n",
    "    print()\n",
    "    print('--------------------------------------------')\n",
    "    print()"
   ]
  },
  {
   "cell_type": "markdown",
   "metadata": {},
   "source": [
    "### Méthode 2 : Embedding plus complexe"
   ]
  },
  {
   "cell_type": "code",
   "execution_count": 90,
   "metadata": {},
   "outputs": [
    {
     "name": "stderr",
     "output_type": "stream",
     "text": [
      "2024-04-17 07:59:53.052382: I tensorflow/core/util/port.cc:113] oneDNN custom operations are on. You may see slightly different numerical results due to floating-point round-off errors from different computation orders. To turn them off, set the environment variable `TF_ENABLE_ONEDNN_OPTS=0`.\n",
      "2024-04-17 07:59:53.124810: I tensorflow/core/platform/cpu_feature_guard.cc:210] This TensorFlow binary is optimized to use available CPU instructions in performance-critical operations.\n",
      "To enable the following instructions: AVX2 AVX_VNNI FMA, in other operations, rebuild TensorFlow with the appropriate compiler flags.\n"
     ]
    },
    {
     "ename": "ImportError",
     "evalue": "cannot import name 'triu' from 'scipy.linalg' (/usr/local/lib/python3.11/dist-packages/scipy/linalg/__init__.py)",
     "output_type": "error",
     "traceback": [
      "\u001b[0;31m---------------------------------------------------------------------------\u001b[0m",
      "\u001b[0;31mImportError\u001b[0m                               Traceback (most recent call last)",
      "Cell \u001b[0;32mIn[90], line 9\u001b[0m\n\u001b[1;32m      7\u001b[0m \u001b[38;5;28;01mfrom\u001b[39;00m \u001b[38;5;21;01mtensorflow\u001b[39;00m\u001b[38;5;21;01m.\u001b[39;00m\u001b[38;5;21;01mkeras\u001b[39;00m\u001b[38;5;21;01m.\u001b[39;00m\u001b[38;5;21;01mlayers\u001b[39;00m \u001b[38;5;28;01mimport\u001b[39;00m \u001b[38;5;241m*\u001b[39m\n\u001b[1;32m      8\u001b[0m \u001b[38;5;28;01mfrom\u001b[39;00m \u001b[38;5;21;01mtensorflow\u001b[39;00m\u001b[38;5;21;01m.\u001b[39;00m\u001b[38;5;21;01mkeras\u001b[39;00m\u001b[38;5;21;01m.\u001b[39;00m\u001b[38;5;21;01mmodels\u001b[39;00m \u001b[38;5;28;01mimport\u001b[39;00m Model\n\u001b[0;32m----> 9\u001b[0m \u001b[38;5;28;01mimport\u001b[39;00m \u001b[38;5;21;01mgensim\u001b[39;00m\n",
      "File \u001b[0;32m/usr/local/lib/python3.11/dist-packages/gensim/__init__.py:11\u001b[0m\n\u001b[1;32m      7\u001b[0m __version__ \u001b[38;5;241m=\u001b[39m \u001b[38;5;124m'\u001b[39m\u001b[38;5;124m4.3.2\u001b[39m\u001b[38;5;124m'\u001b[39m\n\u001b[1;32m      9\u001b[0m \u001b[38;5;28;01mimport\u001b[39;00m \u001b[38;5;21;01mlogging\u001b[39;00m\n\u001b[0;32m---> 11\u001b[0m \u001b[38;5;28;01mfrom\u001b[39;00m \u001b[38;5;21;01mgensim\u001b[39;00m \u001b[38;5;28;01mimport\u001b[39;00m parsing, corpora, matutils, interfaces, models, similarities, utils  \u001b[38;5;66;03m# noqa:F401\u001b[39;00m\n\u001b[1;32m     14\u001b[0m logger \u001b[38;5;241m=\u001b[39m logging\u001b[38;5;241m.\u001b[39mgetLogger(\u001b[38;5;124m'\u001b[39m\u001b[38;5;124mgensim\u001b[39m\u001b[38;5;124m'\u001b[39m)\n\u001b[1;32m     15\u001b[0m \u001b[38;5;28;01mif\u001b[39;00m \u001b[38;5;129;01mnot\u001b[39;00m logger\u001b[38;5;241m.\u001b[39mhandlers:  \u001b[38;5;66;03m# To ensure reload() doesn't add another one\u001b[39;00m\n",
      "File \u001b[0;32m/usr/local/lib/python3.11/dist-packages/gensim/corpora/__init__.py:6\u001b[0m\n\u001b[1;32m      1\u001b[0m \u001b[38;5;124;03m\"\"\"\u001b[39;00m\n\u001b[1;32m      2\u001b[0m \u001b[38;5;124;03mThis package contains implementations of various streaming corpus I/O format.\u001b[39;00m\n\u001b[1;32m      3\u001b[0m \u001b[38;5;124;03m\"\"\"\u001b[39;00m\n\u001b[1;32m      5\u001b[0m \u001b[38;5;66;03m# bring corpus classes directly into package namespace, to save some typing\u001b[39;00m\n\u001b[0;32m----> 6\u001b[0m \u001b[38;5;28;01mfrom\u001b[39;00m \u001b[38;5;21;01m.\u001b[39;00m\u001b[38;5;21;01mindexedcorpus\u001b[39;00m \u001b[38;5;28;01mimport\u001b[39;00m IndexedCorpus  \u001b[38;5;66;03m# noqa:F401 must appear before the other classes\u001b[39;00m\n\u001b[1;32m      8\u001b[0m \u001b[38;5;28;01mfrom\u001b[39;00m \u001b[38;5;21;01m.\u001b[39;00m\u001b[38;5;21;01mmmcorpus\u001b[39;00m \u001b[38;5;28;01mimport\u001b[39;00m MmCorpus  \u001b[38;5;66;03m# noqa:F401\u001b[39;00m\n\u001b[1;32m      9\u001b[0m \u001b[38;5;28;01mfrom\u001b[39;00m \u001b[38;5;21;01m.\u001b[39;00m\u001b[38;5;21;01mbleicorpus\u001b[39;00m \u001b[38;5;28;01mimport\u001b[39;00m BleiCorpus  \u001b[38;5;66;03m# noqa:F401\u001b[39;00m\n",
      "File \u001b[0;32m/usr/local/lib/python3.11/dist-packages/gensim/corpora/indexedcorpus.py:14\u001b[0m\n\u001b[1;32m     10\u001b[0m \u001b[38;5;28;01mimport\u001b[39;00m \u001b[38;5;21;01mlogging\u001b[39;00m\n\u001b[1;32m     12\u001b[0m \u001b[38;5;28;01mimport\u001b[39;00m \u001b[38;5;21;01mnumpy\u001b[39;00m\n\u001b[0;32m---> 14\u001b[0m \u001b[38;5;28;01mfrom\u001b[39;00m \u001b[38;5;21;01mgensim\u001b[39;00m \u001b[38;5;28;01mimport\u001b[39;00m interfaces, utils\n\u001b[1;32m     16\u001b[0m logger \u001b[38;5;241m=\u001b[39m logging\u001b[38;5;241m.\u001b[39mgetLogger(\u001b[38;5;18m__name__\u001b[39m)\n\u001b[1;32m     19\u001b[0m \u001b[38;5;28;01mclass\u001b[39;00m \u001b[38;5;21;01mIndexedCorpus\u001b[39;00m(interfaces\u001b[38;5;241m.\u001b[39mCorpusABC):\n",
      "File \u001b[0;32m/usr/local/lib/python3.11/dist-packages/gensim/interfaces.py:19\u001b[0m\n\u001b[1;32m      7\u001b[0m \u001b[38;5;124;03m\"\"\"Basic interfaces used across the whole Gensim package.\u001b[39;00m\n\u001b[1;32m      8\u001b[0m \n\u001b[1;32m      9\u001b[0m \u001b[38;5;124;03mThese interfaces are used for building corpora, model transformation and similarity queries.\u001b[39;00m\n\u001b[0;32m   (...)\u001b[0m\n\u001b[1;32m     14\u001b[0m \n\u001b[1;32m     15\u001b[0m \u001b[38;5;124;03m\"\"\"\u001b[39;00m\n\u001b[1;32m     17\u001b[0m \u001b[38;5;28;01mimport\u001b[39;00m \u001b[38;5;21;01mlogging\u001b[39;00m\n\u001b[0;32m---> 19\u001b[0m \u001b[38;5;28;01mfrom\u001b[39;00m \u001b[38;5;21;01mgensim\u001b[39;00m \u001b[38;5;28;01mimport\u001b[39;00m utils, matutils\n\u001b[1;32m     22\u001b[0m logger \u001b[38;5;241m=\u001b[39m logging\u001b[38;5;241m.\u001b[39mgetLogger(\u001b[38;5;18m__name__\u001b[39m)\n\u001b[1;32m     25\u001b[0m \u001b[38;5;28;01mclass\u001b[39;00m \u001b[38;5;21;01mCorpusABC\u001b[39;00m(utils\u001b[38;5;241m.\u001b[39mSaveLoad):\n",
      "File \u001b[0;32m/usr/local/lib/python3.11/dist-packages/gensim/matutils.py:20\u001b[0m\n\u001b[1;32m     18\u001b[0m \u001b[38;5;28;01mimport\u001b[39;00m \u001b[38;5;21;01mscipy\u001b[39;00m\u001b[38;5;21;01m.\u001b[39;00m\u001b[38;5;21;01msparse\u001b[39;00m\n\u001b[1;32m     19\u001b[0m \u001b[38;5;28;01mfrom\u001b[39;00m \u001b[38;5;21;01mscipy\u001b[39;00m\u001b[38;5;21;01m.\u001b[39;00m\u001b[38;5;21;01mstats\u001b[39;00m \u001b[38;5;28;01mimport\u001b[39;00m entropy\n\u001b[0;32m---> 20\u001b[0m \u001b[38;5;28;01mfrom\u001b[39;00m \u001b[38;5;21;01mscipy\u001b[39;00m\u001b[38;5;21;01m.\u001b[39;00m\u001b[38;5;21;01mlinalg\u001b[39;00m \u001b[38;5;28;01mimport\u001b[39;00m get_blas_funcs, triu\n\u001b[1;32m     21\u001b[0m \u001b[38;5;28;01mfrom\u001b[39;00m \u001b[38;5;21;01mscipy\u001b[39;00m\u001b[38;5;21;01m.\u001b[39;00m\u001b[38;5;21;01mlinalg\u001b[39;00m\u001b[38;5;21;01m.\u001b[39;00m\u001b[38;5;21;01mlapack\u001b[39;00m \u001b[38;5;28;01mimport\u001b[39;00m get_lapack_funcs\n\u001b[1;32m     22\u001b[0m \u001b[38;5;28;01mfrom\u001b[39;00m \u001b[38;5;21;01mscipy\u001b[39;00m\u001b[38;5;21;01m.\u001b[39;00m\u001b[38;5;21;01mspecial\u001b[39;00m \u001b[38;5;28;01mimport\u001b[39;00m psi  \u001b[38;5;66;03m# gamma function utils\u001b[39;00m\n",
      "\u001b[0;31mImportError\u001b[0m: cannot import name 'triu' from 'scipy.linalg' (/usr/local/lib/python3.11/dist-packages/scipy/linalg/__init__.py)"
     ]
    }
   ],
   "source": [
    "import tensorflow as tf\n",
    "import tensorflow.keras\n",
    "from tensorflow.keras import backend as K\n",
    "from tensorflow.keras.preprocessing.text import Tokenizer\n",
    "from tensorflow.keras.preprocessing.sequence import pad_sequences\n",
    "from tensorflow.keras import metrics as kmetrics\n",
    "from tensorflow.keras.layers import *\n",
    "from tensorflow.keras.models import Model\n",
    "import gensim"
   ]
  },
  {
   "cell_type": "code",
   "execution_count": 53,
   "metadata": {},
   "outputs": [],
   "source": [
    "import time\n",
    "\n",
    "def make_W2V_embeddings(df, col):\n",
    "    start_time = time.time()\n",
    "    \n",
    "    w2v_size=300\n",
    "    w2v_window=5\n",
    "    w2v_min_count=1\n",
    "    w2v_epochs=100\n",
    "    maxlen = df[col].apply(lambda x : len(x)).max()\n",
    "    sentences = df[col].to_list()\n",
    "    sentences = [gensim.utils.simple_preprocess(text) for text in sentences]\n",
    "\n",
    "    # Création et entraînement du modèle Word2Vec\n",
    "    w2v_model = gensim.models.Word2Vec(min_count=w2v_min_count, window=w2v_window,\n",
    "                                                vector_size=w2v_size,\n",
    "                                                seed=42,\n",
    "                                                workers=os.cpu_count())\n",
    "\n",
    "    w2v_model.build_vocab(sentences)\n",
    "    w2v_model.train(sentences, total_examples=w2v_model.corpus_count, epochs=w2v_epochs)\n",
    "    model_vectors = w2v_model.wv\n",
    "    w2v_words = model_vectors.index_to_key\n",
    "    print('Modèle Word2Vec entraîné. Temps écoulé: {:.2f} secondes'.format(time.time() - start_time))\n",
    "\n",
    "    # Préparation des sentences (tokenization)\n",
    "    tokenizer = Tokenizer()\n",
    "    tokenizer.fit_on_texts(sentences)\n",
    "    x_sentences = pad_sequences(tokenizer.texts_to_sequences(sentences),\n",
    "                                                        maxlen=maxlen,\n",
    "                                                        padding='post') \n",
    "                                                    \n",
    "    num_words = len(tokenizer.word_index) + 1\n",
    "    print('Sentences tokenizées. Temps écoulé: {:.2f} secondes'.format(time.time() - start_time))\n",
    "\n",
    "    # Création de la matrice d'embedding\n",
    "    w2v_size = 300\n",
    "    word_index = tokenizer.word_index\n",
    "    vocab_size = len(word_index) + 1\n",
    "    embedding_matrix = np.zeros((vocab_size, w2v_size))\n",
    "    i=0\n",
    "    j=0\n",
    "        \n",
    "    for word, idx in word_index.items():\n",
    "        i +=1\n",
    "        if word in w2v_words:\n",
    "            j +=1\n",
    "            embedding_vector = model_vectors[word]\n",
    "            if embedding_vector is not None:\n",
    "                embedding_matrix[idx] = model_vectors[word]\n",
    "                \n",
    "    word_rate = np.round(j/i,4)\n",
    "    print('Matrice d\\'embedding créée. Temps écoulé: {:.2f} secondes'.format(time.time() - start_time))\n",
    "\n",
    "    # Création du modèle\n",
    "    input=Input(shape=(len(x_sentences),maxlen),dtype='float64')\n",
    "    word_input=Input(shape=(maxlen,),dtype='float64')  \n",
    "    word_embedding=Embedding(input_dim=vocab_size,\n",
    "                            output_dim=w2v_size,)(word_input)\n",
    "    word_vec=GlobalAveragePooling1D()(word_embedding)  \n",
    "    embed_model = Model([word_input],word_vec)\n",
    "    print('Modèle créé. Temps écoulé: {:.2f} secondes'.format(time.time() - start_time))\n",
    "\n",
    "    # Création des embeddings\n",
    "    embeddings = embed_model.predict(x_sentences)\n",
    "    print('Embeddings créés. Temps écoulé: {:.2f} secondes'.format(time.time() - start_time))\n",
    "    \n",
    "    return embeddings"
   ]
  },
  {
   "cell_type": "code",
   "execution_count": 54,
   "metadata": {},
   "outputs": [],
   "source": [
    "def regression_word2vec(df, column):\n",
    "\n",
    "    embeddings = make_W2V_embeddings(df, column)\n",
    "\n",
    "    # Train logistic regression\n",
    "    y = df['label']\n",
    "    X_train, X_test, y_train, y_test = train_test_split(embeddings, y, test_size=0.2, random_state=42)\n",
    "\n",
    "    lr = LogisticRegression(max_iter=1000, solver='saga', penalty='l2')\n",
    "    lr.fit(X_train, y_train)\n",
    "    y_pred = lr.predict(X_test)\n",
    "\n",
    "    print(confusion_matrix(y_test, y_pred))\n",
    "    print(classification_report(y_test, y_pred))"
   ]
  },
  {
   "cell_type": "code",
   "execution_count": 55,
   "metadata": {},
   "outputs": [
    {
     "name": "stdout",
     "output_type": "stream",
     "text": [
      "Modèle Word2Vec entraîné. Temps écoulé: 617.67 secondes\n",
      "Sentences tokenizées. Temps écoulé: 631.05 secondes\n",
      "Matrice d'embedding créée. Temps écoulé: 5898.74 secondes\n"
     ]
    },
    {
     "name": "stderr",
     "output_type": "stream",
     "text": [
      "2024-04-15 15:05:43.450227: I external/local_xla/xla/stream_executor/cuda/cuda_executor.cc:984] could not open file to read NUMA node: /sys/bus/pci/devices/0000:01:00.0/numa_node\n",
      "Your kernel may have been built without NUMA support.\n",
      "2024-04-15 15:05:43.668710: I external/local_xla/xla/stream_executor/cuda/cuda_executor.cc:984] could not open file to read NUMA node: /sys/bus/pci/devices/0000:01:00.0/numa_node\n",
      "Your kernel may have been built without NUMA support.\n",
      "2024-04-15 15:05:43.669372: I external/local_xla/xla/stream_executor/cuda/cuda_executor.cc:984] could not open file to read NUMA node: /sys/bus/pci/devices/0000:01:00.0/numa_node\n",
      "Your kernel may have been built without NUMA support.\n",
      "2024-04-15 15:05:43.753586: I external/local_xla/xla/stream_executor/cuda/cuda_executor.cc:984] could not open file to read NUMA node: /sys/bus/pci/devices/0000:01:00.0/numa_node\n",
      "Your kernel may have been built without NUMA support.\n",
      "2024-04-15 15:05:43.753772: I external/local_xla/xla/stream_executor/cuda/cuda_executor.cc:984] could not open file to read NUMA node: /sys/bus/pci/devices/0000:01:00.0/numa_node\n",
      "Your kernel may have been built without NUMA support.\n",
      "2024-04-15 15:05:43.753791: I external/local_xla/xla/stream_executor/cuda/cuda_executor.cc:984] could not open file to read NUMA node: /sys/bus/pci/devices/0000:01:00.0/numa_node\n",
      "Your kernel may have been built without NUMA support.\n",
      "2024-04-15 15:05:45.643717: I external/local_xla/xla/stream_executor/cuda/cuda_executor.cc:984] could not open file to read NUMA node: /sys/bus/pci/devices/0000:01:00.0/numa_node\n",
      "Your kernel may have been built without NUMA support.\n",
      "2024-04-15 15:05:45.644098: I external/local_xla/xla/stream_executor/cuda/cuda_executor.cc:984] could not open file to read NUMA node: /sys/bus/pci/devices/0000:01:00.0/numa_node\n",
      "Your kernel may have been built without NUMA support.\n",
      "2024-04-15 15:05:45.644108: I tensorflow/core/common_runtime/gpu/gpu_device.cc:2019] Could not identify NUMA node of platform GPU id 0, defaulting to 0.  Your kernel may not have been built with NUMA support.\n",
      "2024-04-15 15:05:45.644267: I external/local_xla/xla/stream_executor/cuda/cuda_executor.cc:984] could not open file to read NUMA node: /sys/bus/pci/devices/0000:01:00.0/numa_node\n",
      "Your kernel may have been built without NUMA support.\n",
      "2024-04-15 15:05:45.644950: I tensorflow/core/common_runtime/gpu/gpu_device.cc:1928] Created device /job:localhost/replica:0/task:0/device:GPU:0 with 5564 MB memory:  -> device: 0, name: NVIDIA GeForce RTX 3070 Ti Laptop GPU, pci bus id: 0000:01:00.0, compute capability: 8.6\n"
     ]
    },
    {
     "name": "stdout",
     "output_type": "stream",
     "text": [
      "Modèle créé. Temps écoulé: 5910.06 secondes\n"
     ]
    },
    {
     "name": "stderr",
     "output_type": "stream",
     "text": [
      "WARNING: All log messages before absl::InitializeLog() is called are written to STDERR\n",
      "I0000 00:00:1713193556.446088   69555 service.cc:145] XLA service 0x7f4b28003250 initialized for platform CUDA (this does not guarantee that XLA will be used). Devices:\n",
      "I0000 00:00:1713193556.446951   69555 service.cc:153]   StreamExecutor device (0): NVIDIA GeForce RTX 3070 Ti Laptop GPU, Compute Capability 8.6\n",
      "2024-04-15 15:05:56.932404: I external/local_xla/xla/stream_executor/cuda/cuda_dnn.cc:465] Loaded cuDNN version 8907\n"
     ]
    },
    {
     "name": "stdout",
     "output_type": "stream",
     "text": [
      "\u001b[1m   85/49774\u001b[0m \u001b[37m━━━━━━━━━━━━━━━━━━━━\u001b[0m \u001b[1m1:30\u001b[0m 2ms/step"
     ]
    },
    {
     "name": "stderr",
     "output_type": "stream",
     "text": [
      "I0000 00:00:1713193557.255935   69555 device_compiler.h:188] Compiled cluster using XLA!  This line is logged at most once for the lifetime of the process.\n"
     ]
    },
    {
     "name": "stdout",
     "output_type": "stream",
     "text": [
      "\u001b[1m49774/49774\u001b[0m \u001b[32m━━━━━━━━━━━━━━━━━━━━\u001b[0m\u001b[37m\u001b[0m \u001b[1m55s\u001b[0m 1ms/step\n",
      "Embeddings créés. Temps écoulé: 5998.54 secondes\n",
      "[[108973  49690]\n",
      " [ 72315  87574]]\n",
      "              precision    recall  f1-score   support\n",
      "\n",
      "           0       0.60      0.69      0.64    158663\n",
      "           1       0.64      0.55      0.59    159889\n",
      "\n",
      "    accuracy                           0.62    318552\n",
      "   macro avg       0.62      0.62      0.62    318552\n",
      "weighted avg       0.62      0.62      0.62    318552\n",
      "\n"
     ]
    }
   ],
   "source": [
    "regression_word2vec(df, 'hash')"
   ]
  },
  {
   "cell_type": "markdown",
   "metadata": {},
   "source": [
    "# Prédictions avancées"
   ]
  },
  {
   "cell_type": "code",
   "execution_count": 51,
   "metadata": {},
   "outputs": [],
   "source": [
    "from gensim.models import Word2Vec, FastText\n",
    "import tensorflow as tf\n",
    "\n",
    "from tensorflow.keras.preprocessing.text import Tokenizer\n",
    "from tensorflow.keras.preprocessing.sequence import pad_sequences\n",
    "from tensorflow.keras.models import Sequential\n",
    "from tensorflow.keras.layers import Embedding, Flatten, Dense, Dropout, BatchNormalization, LSTM\n",
    "from tensorflow.keras.callbacks import ModelCheckpoint, EarlyStopping\n",
    "from tensorflow.keras.regularizers import l1, l2, l1_l2\n",
    "from keras.optimizers import Adam, RMSprop\n"
   ]
  },
  {
   "cell_type": "code",
   "execution_count": 4,
   "metadata": {},
   "outputs": [],
   "source": [
    "df = pd.read_csv('data/tweets_tokenized.csv')"
   ]
  },
  {
   "cell_type": "markdown",
   "metadata": {},
   "source": [
    "### Sélection des données"
   ]
  },
  {
   "cell_type": "code",
   "execution_count": 5,
   "metadata": {},
   "outputs": [],
   "source": [
    "X_full = df['dl']\n",
    "y_full = df['label']\n",
    "\n",
    "_, X, _, y = train_test_split(X_full, y_full, test_size=0.1, stratify=y_full, random_state=42)\n",
    "\n",
    "# Split the data into training, validation, and test sets\n",
    "X_train, X_temp, y_train, y_temp = train_test_split(X, y, test_size=0.4, stratify=y, random_state=42)\n",
    "X_val, X_test, y_val, y_test = train_test_split(X_temp, y_temp, test_size=0.5, stratify=y_temp, random_state=42)"
   ]
  },
  {
   "cell_type": "code",
   "execution_count": 10,
   "metadata": {},
   "outputs": [],
   "source": [
    "X_full_lem = df['hash_lem']\n",
    "\n",
    "_, X_lem, _, y_lem = train_test_split(X_full_lem, y_full, test_size=0.1, stratify=y_full, random_state=42)\n",
    "\n",
    "# Split the data into training, validation, and test sets\n",
    "X_train_lem, X_temp_lem, y_train_lem, y_temp_lem = train_test_split(X_lem, y_lem, test_size=0.4, stratify=y_lem, random_state=42)\n",
    "X_val_lem, X_test_lem, y_val_lem, y_test_lem = train_test_split(X_temp_lem, y_temp_lem, test_size=0.5, stratify=y_temp_lem, random_state=42)"
   ]
  },
  {
   "cell_type": "markdown",
   "metadata": {},
   "source": [
    "### Fonctions de visualisation"
   ]
  },
  {
   "cell_type": "code",
   "execution_count": 15,
   "metadata": {},
   "outputs": [],
   "source": [
    "def conf_mat_transform(y_true,y_pred) :\n",
    "    conf_mat = confusion_matrix(y_true,y_pred)\n",
    "    \n",
    "    corresp = np.argmax(conf_mat, axis=0)\n",
    "    print (\"Correspondance des clusters : \", corresp)\n",
    "    # y_pred_transform = np.apply_along_axis(correspond_fct, 1, y_pred)\n",
    "    labels = pd.Series(y_true, name=\"y_true\").to_frame()\n",
    "    labels['y_pred'] = y_pred\n",
    "    labels['y_pred_transform'] = labels['y_pred'].apply(lambda x : corresp[x]) \n",
    "    \n",
    "    return labels['y_pred_transform']"
   ]
  },
  {
   "cell_type": "code",
   "execution_count": 16,
   "metadata": {},
   "outputs": [],
   "source": [
    "# Afficher l'évolution des performances lors de l'entrainement\n",
    "def visualize_history(history):\n",
    "        fig, axes = plt.subplots(1, 2, figsize=(16, 6))\n",
    "\n",
    "        plt.subplot(121)\n",
    "        plt.plot(history.history['loss'], label='Loss')\n",
    "        plt.plot(history.history['val_loss'], label='Val Loss')\n",
    "        plt.xlabel('Epoch')\n",
    "        plt.ylabel('Loss')\n",
    "        plt.legend()\n",
    "\n",
    "        plt.subplot(122)\n",
    "        plt.plot(history.history['accuracy'], label='Accuracy')\n",
    "        plt.plot(history.history['val_accuracy'], label='Val Accuracy')\n",
    "        plt.xlabel('Epoch')\n",
    "        plt.ylabel('Accuracy')\n",
    "        plt.legend()\n",
    "\n",
    "        plt.tight_layout()\n",
    "        plt.show()"
   ]
  },
  {
   "cell_type": "markdown",
   "metadata": {},
   "source": [
    "## Modèle Kera simple avec embedding Word2Vec"
   ]
  },
  {
   "cell_type": "markdown",
   "metadata": {},
   "source": [
    "### Sans lemmatization"
   ]
  },
  {
   "cell_type": "code",
   "execution_count": 23,
   "metadata": {},
   "outputs": [],
   "source": [
    "# Préparation de l'embedding\n",
    "\n",
    "# Entrainer le modèle d'embedding sur les données d'entrainement\n",
    "word2vec = Word2Vec(X_train, min_count=1)\n",
    "\n",
    "# Préparer les datas pour keras\n",
    "tokenizer = Tokenizer()\n",
    "tokenizer.fit_on_texts(X_train)\n",
    "X_train_w2v = tokenizer.texts_to_sequences(X_train)\n",
    "X_val_w2v = tokenizer.texts_to_sequences(X_val)\n",
    "X_test_w2v = tokenizer.texts_to_sequences(X_test)\n",
    "word_index = tokenizer.word_index\n",
    "\n",
    "# Normalisation de la taille des séquences\n",
    "max_seq = max(len(seq) for seq in X_train_w2v)\n",
    "X_train_w2v = pad_sequences(X_train_w2v, maxlen=max_seq)\n",
    "X_val_w2v = pad_sequences(X_val_w2v, maxlen=max_seq)\n",
    "X_test_w2v = pad_sequences(X_test_w2v, maxlen=max_seq)\n",
    "\n",
    "# Préparation de la matrice d'embedding\n",
    "embedding_dim = word2vec.wv.vector_size\n",
    "embedding_matrix = np.zeros((len(word_index) + 1, embedding_dim))\n",
    "for word, i in word_index.items():\n",
    "    if word in word2vec.wv:\n",
    "        embedding_matrix[i] = word2vec.wv[word]"
   ]
  },
  {
   "cell_type": "code",
   "execution_count": 49,
   "metadata": {},
   "outputs": [],
   "source": [
    "# Définir le modèle\n",
    "\n",
    "model_w2v = Sequential()\n",
    "\n",
    "# Définir l'embedding\n",
    "embedding_layer = Embedding(len(word_index) + 1, embedding_dim, trainable=False)\n",
    "embedding_layer.build((None,))\n",
    "embedding_layer.set_weights([embedding_matrix])\n",
    "\n",
    "# Ajouter les couches\n",
    "model_w2v.add(embedding_layer)\n",
    "model_w2v.add(Flatten())\n",
    "model_w2v.add(Dense(32, activation='relu', kernel_regularizer=l1_l2(l1=0.01, l2=0.01)))\n",
    "model_w2v.add(BatchNormalization())\n",
    "model_w2v.add(Dense(1, activation='sigmoid'))\n",
    "\n",
    "# Compiler le modèle\n",
    "model_w2v.compile(optimizer='adam', loss='binary_crossentropy', metrics=['accuracy'])"
   ]
  },
  {
   "cell_type": "code",
   "execution_count": 50,
   "metadata": {},
   "outputs": [
    {
     "name": "stdout",
     "output_type": "stream",
     "text": [
      "Epoch 1/50\n"
     ]
    },
    {
     "name": "stdout",
     "output_type": "stream",
     "text": [
      "\u001b[1m2987/2987\u001b[0m \u001b[32m━━━━━━━━━━━━━━━━━━━━\u001b[0m\u001b[37m\u001b[0m \u001b[1m13s\u001b[0m 4ms/step - accuracy: 0.6003 - loss: 2.0157 - val_accuracy: 0.7551 - val_loss: 0.7980\n",
      "Epoch 2/50\n",
      "\u001b[1m2987/2987\u001b[0m \u001b[32m━━━━━━━━━━━━━━━━━━━━\u001b[0m\u001b[37m\u001b[0m \u001b[1m10s\u001b[0m 3ms/step - accuracy: 0.7950 - loss: 0.7626 - val_accuracy: 0.7745 - val_loss: 0.7947\n",
      "Epoch 3/50\n",
      "\u001b[1m2987/2987\u001b[0m \u001b[32m━━━━━━━━━━━━━━━━━━━━\u001b[0m\u001b[37m\u001b[0m \u001b[1m10s\u001b[0m 3ms/step - accuracy: 0.8375 - loss: 0.7093 - val_accuracy: 0.7639 - val_loss: 0.8464\n",
      "Epoch 4/50\n",
      "\u001b[1m2987/2987\u001b[0m \u001b[32m━━━━━━━━━━━━━━━━━━━━\u001b[0m\u001b[37m\u001b[0m \u001b[1m10s\u001b[0m 3ms/step - accuracy: 0.8824 - loss: 0.6482 - val_accuracy: 0.7534 - val_loss: 0.9167\n",
      "Epoch 5/50\n",
      "\u001b[1m2987/2987\u001b[0m \u001b[32m━━━━━━━━━━━━━━━━━━━━\u001b[0m\u001b[37m\u001b[0m \u001b[1m10s\u001b[0m 3ms/step - accuracy: 0.9190 - loss: 0.5844 - val_accuracy: 0.7424 - val_loss: 0.9971\n",
      "Epoch 6/50\n",
      "\u001b[1m2987/2987\u001b[0m \u001b[32m━━━━━━━━━━━━━━━━━━━━\u001b[0m\u001b[37m\u001b[0m \u001b[1m9s\u001b[0m 3ms/step - accuracy: 0.9416 - loss: 0.5336 - val_accuracy: 0.7415 - val_loss: 1.0786\n",
      "Epoch 7/50\n",
      "\u001b[1m2987/2987\u001b[0m \u001b[32m━━━━━━━━━━━━━━━━━━━━\u001b[0m\u001b[37m\u001b[0m \u001b[1m9s\u001b[0m 3ms/step - accuracy: 0.9537 - loss: 0.5025 - val_accuracy: 0.7282 - val_loss: 1.1913\n"
     ]
    }
   ],
   "source": [
    "# Entrainer le modèle\n",
    "\n",
    "# Création du callback\n",
    "model_save_path_w2v = \"./data/model_best_weights_w2v.keras\"\n",
    "checkpoint = ModelCheckpoint(model_save_path_w2v, monitor='val_loss', verbose=0, save_best_only=True, mode='min')\n",
    "es = EarlyStopping(monitor='val_loss', mode='min', verbose=0, patience=5)\n",
    "callbacks_list = [checkpoint, es]\n",
    "\n",
    "# Train the model\n",
    "batch_size = 32\n",
    "epochs = 50\n",
    "\n",
    "history_w2v = model_w2v.fit(\n",
    "    X_train_w2v, \n",
    "    y_train, \n",
    "    validation_data=(X_val_w2v, y_val), \n",
    "    batch_size=batch_size, \n",
    "    epochs=epochs, \n",
    "    callbacks=callbacks_list\n",
    "    )"
   ]
  },
  {
   "cell_type": "code",
   "execution_count": 51,
   "metadata": {},
   "outputs": [
    {
     "data": {
      "image/png": "[encoded data removed]",
      "text/plain": [
       "<Figure size 1600x600 with 2 Axes>"
      ]
     },
     "metadata": {},
     "output_type": "display_data"
    }
   ],
   "source": [
    "visualize_history(history_w2v)"
   ]
  },
  {
   "cell_type": "code",
   "execution_count": 52,
   "metadata": {},
   "outputs": [
    {
     "name": "stdout",
     "output_type": "stream",
     "text": [
      "Validation Accuracy :  0.7282\n",
      "Validation loss:  1.1913\n",
      "Test Accuracy       :  0.7325\n",
      "Test loss:  1.1826\n"
     ]
    }
   ],
   "source": [
    "# Prédire sur l'ensemble de test avec le dernier epoch\n",
    "\n",
    "loss, accuracy = model_w2v.evaluate(X_val_w2v, y_val, verbose=False)\n",
    "print(\"Validation Accuracy :  {:.4f}\".format(accuracy))\n",
    "print(\"Validation loss:  {:.4f}\".format(loss))\n",
    "\n",
    "loss, accuracy = model_w2v.evaluate(X_test_w2v, y_test, verbose=False)\n",
    "print(\"Test Accuracy       :  {:.4f}\".format(accuracy))\n",
    "print(\"Test loss:  {:.4f}\".format(loss))"
   ]
  },
  {
   "cell_type": "code",
   "execution_count": 69,
   "metadata": {},
   "outputs": [
    {
     "name": "stdout",
     "output_type": "stream",
     "text": [
      "Validation Accuracy :  0.7745\n",
      "Validation loss:  0.7947\n",
      "Test Accuracy       :  0.7750\n",
      "Test loss:  0.7897\n"
     ]
    }
   ],
   "source": [
    "# Prédire sur l'ensemble de test avec le meilleur epoch\n",
    "\n",
    "model_w2v.load_weights(model_save_path_w2v)\n",
    "\n",
    "loss, accuracy = model_w2v.evaluate(X_val_w2v, y_val, verbose=False)\n",
    "print(\"Validation Accuracy :  {:.4f}\".format(accuracy))\n",
    "print(\"Validation loss:  {:.4f}\".format(loss))\n",
    "\n",
    "start_time = time.time()\n",
    "loss, accuracy = model_w2v.evaluate(X_test_w2v, y_test, verbose=False)\n",
    "print(\"Test Accuracy       :  {:.4f}\".format(accuracy))\n",
    "print(\"Test loss:  {:.4f}\".format(loss))\n",
    "\n",
    "# Prédire les labels et enregistrer le temps de prédiction\n",
    "prediction_time = time.time() - start_time\n",
    "# Calculer le temps de prédiction par tweet\n",
    "prediction_time_per_tweet = prediction_time / len(y_test)"
   ]
  },
  {
   "cell_type": "code",
   "execution_count": 72,
   "metadata": {},
   "outputs": [
    {
     "name": "stdout",
     "output_type": "stream",
     "text": [
      "\u001b[1m2987/2987\u001b[0m \u001b[32m━━━━━━━━━━━━━━━━━━━━\u001b[0m\u001b[37m\u001b[0m \u001b[1m4s\u001b[0m 1ms/step\n"
     ]
    },
    {
     "name": "stderr",
     "output_type": "stream",
     "text": [
      "Successfully registered model 'Keras_Word2Vec'.\n",
      "2024/04/17 13:10:48 INFO mlflow.store.model_registry.abstract_store: Waiting up to 300 seconds for model version to finish creation. Model name: Keras_Word2Vec, version 1\n",
      "Created version '1' of model 'Keras_Word2Vec'.\n"
     ]
    }
   ],
   "source": [
    "# Enregistrer dans mlFlow\n",
    "\n",
    "with mlflow.start_run(run_name=\"Simple Keras model with Word2Vec W2V embedding\"):\n",
    "\n",
    "    # Enregistrement des paramètres du modèle\n",
    "    mlflow.log_params(model_w2v.get_config())\n",
    "\n",
    "    # Enregistrement des résultats\n",
    "    mlflow.log_metric(\"accuracy\", accuracy)\n",
    "    mlflow.log_metric(\"total time\", prediction_time)\n",
    "    mlflow.log_metric(\"time per prediction\", prediction_time_per_tweet)\n",
    "\n",
    "    # Définir la signature du modèle\n",
    "    signature = infer_signature(X_train_w2v, model_w2v.predict(X_train_w2v))\n",
    "\n",
    "    # Enregistrement du modèle\n",
    "    mlflow.keras.log_model(\n",
    "        model=model_w2v,\n",
    "        artifact_path=\"Keras_Word2Vec\",\n",
    "        signature=signature,\n",
    "        registered_model_name=\"Keras_Word2Vec\",\n",
    "    )"
   ]
  },
  {
   "cell_type": "markdown",
   "metadata": {},
   "source": [
    "### Avec lemmatization"
   ]
  },
  {
   "cell_type": "code",
   "execution_count": 11,
   "metadata": {},
   "outputs": [],
   "source": [
    "# Préparation de l'embedding\n",
    "\n",
    "# Entrainer le modèle d'embedding sur les données d'entrainement\n",
    "word2vec = Word2Vec(X_train_lem, min_count=1)\n",
    "\n",
    "# Préparer les datas pour keras\n",
    "tokenizer = Tokenizer()\n",
    "tokenizer.fit_on_texts(X_train_lem)\n",
    "X_train_lem_w2v = tokenizer.texts_to_sequences(X_train_lem)\n",
    "X_val_lem_w2v = tokenizer.texts_to_sequences(X_val_lem)\n",
    "X_test_lem_w2v = tokenizer.texts_to_sequences(X_test_lem)\n",
    "word_index = tokenizer.word_index\n",
    "\n",
    "# Normalisation de la taille des séquences\n",
    "max_seq = max(len(seq) for seq in X_train_lem_w2v)\n",
    "X_train_lem_w2v = pad_sequences(X_train_lem_w2v, maxlen=max_seq)\n",
    "X_val_lem_w2v = pad_sequences(X_val_lem_w2v, maxlen=max_seq)\n",
    "X_test_lem_w2v = pad_sequences(X_test_lem_w2v, maxlen=max_seq)\n",
    "\n",
    "# Préparation de la matrice d'embedding\n",
    "embedding_dim = word2vec.wv.vector_size\n",
    "embedding_matrix = np.zeros((len(word_index) + 1, embedding_dim))\n",
    "for word, i in word_index.items():\n",
    "    if word in word2vec.wv:\n",
    "        embedding_matrix[i] = word2vec.wv[word]"
   ]
  },
  {
   "cell_type": "code",
   "execution_count": 12,
   "metadata": {},
   "outputs": [
    {
     "name": "stderr",
     "output_type": "stream",
     "text": [
      "2024-04-18 06:14:14.261018: I external/local_xla/xla/stream_executor/cuda/cuda_executor.cc:984] could not open file to read NUMA node: /sys/bus/pci/devices/0000:01:00.0/numa_node\n",
      "Your kernel may have been built without NUMA support.\n",
      "2024-04-18 06:14:14.322273: I external/local_xla/xla/stream_executor/cuda/cuda_executor.cc:984] could not open file to read NUMA node: /sys/bus/pci/devices/0000:01:00.0/numa_node\n",
      "Your kernel may have been built without NUMA support.\n",
      "2024-04-18 06:14:14.322312: I external/local_xla/xla/stream_executor/cuda/cuda_executor.cc:984] could not open file to read NUMA node: /sys/bus/pci/devices/0000:01:00.0/numa_node\n",
      "Your kernel may have been built without NUMA support.\n",
      "2024-04-18 06:14:14.325551: I external/local_xla/xla/stream_executor/cuda/cuda_executor.cc:984] could not open file to read NUMA node: /sys/bus/pci/devices/0000:01:00.0/numa_node\n",
      "Your kernel may have been built without NUMA support.\n",
      "2024-04-18 06:14:14.325590: I external/local_xla/xla/stream_executor/cuda/cuda_executor.cc:984] could not open file to read NUMA node: /sys/bus/pci/devices/0000:01:00.0/numa_node\n",
      "Your kernel may have been built without NUMA support.\n",
      "2024-04-18 06:14:14.325607: I external/local_xla/xla/stream_executor/cuda/cuda_executor.cc:984] could not open file to read NUMA node: /sys/bus/pci/devices/0000:01:00.0/numa_node\n",
      "Your kernel may have been built without NUMA support.\n",
      "2024-04-18 06:14:14.509924: I external/local_xla/xla/stream_executor/cuda/cuda_executor.cc:984] could not open file to read NUMA node: /sys/bus/pci/devices/0000:01:00.0/numa_node\n",
      "Your kernel may have been built without NUMA support.\n",
      "2024-04-18 06:14:14.509978: I external/local_xla/xla/stream_executor/cuda/cuda_executor.cc:984] could not open file to read NUMA node: /sys/bus/pci/devices/0000:01:00.0/numa_node\n",
      "Your kernel may have been built without NUMA support.\n",
      "2024-04-18 06:14:14.509982: I tensorflow/core/common_runtime/gpu/gpu_device.cc:2019] Could not identify NUMA node of platform GPU id 0, defaulting to 0.  Your kernel may not have been built with NUMA support.\n",
      "2024-04-18 06:14:14.510004: I external/local_xla/xla/stream_executor/cuda/cuda_executor.cc:984] could not open file to read NUMA node: /sys/bus/pci/devices/0000:01:00.0/numa_node\n",
      "Your kernel may have been built without NUMA support.\n",
      "2024-04-18 06:14:14.511645: I tensorflow/core/common_runtime/gpu/gpu_device.cc:1928] Created device /job:localhost/replica:0/task:0/device:GPU:0 with 5564 MB memory:  -> device: 0, name: NVIDIA GeForce RTX 3070 Ti Laptop GPU, pci bus id: 0000:01:00.0, compute capability: 8.6\n"
     ]
    }
   ],
   "source": [
    "# Définir le modèle\n",
    "\n",
    "model_w2v_lem = Sequential()\n",
    "\n",
    "# Définir l'embedding\n",
    "embedding_layer = Embedding(len(word_index) + 1, embedding_dim, trainable=False)\n",
    "embedding_layer.build((None,))\n",
    "embedding_layer.set_weights([embedding_matrix])\n",
    "\n",
    "# Ajouter les couches\n",
    "model_w2v_lem.add(embedding_layer)\n",
    "model_w2v_lem.add(Flatten())\n",
    "model_w2v_lem.add(Dense(32, activation='relu', kernel_regularizer=l1_l2(l1=0.01, l2=0.01)))\n",
    "model_w2v_lem.add(BatchNormalization())\n",
    "model_w2v_lem.add(Dense(1, activation='sigmoid'))\n",
    "\n",
    "# Compiler le modèle\n",
    "model_w2v_lem.compile(optimizer='adam', loss='binary_crossentropy', metrics=['accuracy'])"
   ]
  },
  {
   "cell_type": "code",
   "execution_count": 13,
   "metadata": {},
   "outputs": [
    {
     "name": "stdout",
     "output_type": "stream",
     "text": [
      "Epoch 1/50\n"
     ]
    },
    {
     "name": "stderr",
     "output_type": "stream",
     "text": [
      "WARNING: All log messages before absl::InitializeLog() is called are written to STDERR\n",
      "I0000 00:00:1713420924.922905   12466 service.cc:145] XLA service 0x7fdcd40199b0 initialized for platform CUDA (this does not guarantee that XLA will be used). Devices:\n",
      "I0000 00:00:1713420924.922941   12466 service.cc:153]   StreamExecutor device (0): NVIDIA GeForce RTX 3070 Ti Laptop GPU, Compute Capability 8.6\n",
      "2024-04-18 06:15:24.964652: I tensorflow/compiler/mlir/tensorflow/utils/dump_mlir_util.cc:268] disabling MLIR crash reproducer, set env var `MLIR_CRASH_REPRODUCER_DIRECTORY` to enable.\n",
      "2024-04-18 06:15:25.135664: I external/local_xla/xla/stream_executor/cuda/cuda_dnn.cc:465] Loaded cuDNN version 8907\n"
     ]
    },
    {
     "name": "stdout",
     "output_type": "stream",
     "text": [
      "\u001b[1m   5/2987\u001b[0m \u001b[37m━━━━━━━━━━━━━━━━━━━━\u001b[0m \u001b[1m1:33\u001b[0m 31ms/step - accuracy: 0.5534 - loss: 22.0739"
     ]
    },
    {
     "name": "stderr",
     "output_type": "stream",
     "text": [
      "I0000 00:00:1713420925.770904   12466 device_compiler.h:188] Compiled cluster using XLA!  This line is logged at most once for the lifetime of the process.\n"
     ]
    },
    {
     "name": "stdout",
     "output_type": "stream",
     "text": [
      "\u001b[1m2987/2987\u001b[0m \u001b[32m━━━━━━━━━━━━━━━━━━━━\u001b[0m\u001b[37m\u001b[0m \u001b[1m12s\u001b[0m 4ms/step - accuracy: 0.6988 - loss: 1.5779 - val_accuracy: 0.7450 - val_loss: 0.7122\n",
      "Epoch 2/50\n",
      "\u001b[1m2987/2987\u001b[0m \u001b[32m━━━━━━━━━━━━━━━━━━━━\u001b[0m\u001b[37m\u001b[0m \u001b[1m9s\u001b[0m 3ms/step - accuracy: 0.8169 - loss: 0.6420 - val_accuracy: 0.7459 - val_loss: 0.7552\n",
      "Epoch 3/50\n",
      "\u001b[1m2987/2987\u001b[0m \u001b[32m━━━━━━━━━━━━━━━━━━━━\u001b[0m\u001b[37m\u001b[0m \u001b[1m8s\u001b[0m 3ms/step - accuracy: 0.8730 - loss: 0.5554 - val_accuracy: 0.7406 - val_loss: 0.8048\n",
      "Epoch 4/50\n",
      "\u001b[1m2987/2987\u001b[0m \u001b[32m━━━━━━━━━━━━━━━━━━━━\u001b[0m\u001b[37m\u001b[0m \u001b[1m8s\u001b[0m 3ms/step - accuracy: 0.9160 - loss: 0.4598 - val_accuracy: 0.7127 - val_loss: 0.9080\n",
      "Epoch 5/50\n",
      "\u001b[1m2987/2987\u001b[0m \u001b[32m━━━━━━━━━━━━━━━━━━━━\u001b[0m\u001b[37m\u001b[0m \u001b[1m8s\u001b[0m 3ms/step - accuracy: 0.9369 - loss: 0.4055 - val_accuracy: 0.7246 - val_loss: 0.9558\n",
      "Epoch 6/50\n",
      "\u001b[1m2987/2987\u001b[0m \u001b[32m━━━━━━━━━━━━━━━━━━━━\u001b[0m\u001b[37m\u001b[0m \u001b[1m8s\u001b[0m 3ms/step - accuracy: 0.9464 - loss: 0.3739 - val_accuracy: 0.7158 - val_loss: 1.0527\n"
     ]
    }
   ],
   "source": [
    "# Entrainer le modèle\n",
    "\n",
    "# Création du callback\n",
    "model_save_path_w2v = \"./data/model_best_weights_w2v_lem.keras\"\n",
    "checkpoint = ModelCheckpoint(model_save_path_w2v, monitor='val_loss', verbose=0, save_best_only=True, mode='min')\n",
    "es = EarlyStopping(monitor='val_loss', mode='min', verbose=0, patience=5)\n",
    "callbacks_list = [checkpoint, es]\n",
    "\n",
    "# Train the model\n",
    "batch_size = 32\n",
    "epochs = 50\n",
    "\n",
    "history_w2v_lem = model_w2v_lem.fit(\n",
    "    X_train_lem_w2v, \n",
    "    y_train_lem, \n",
    "    validation_data=(X_val_lem_w2v, y_val_lem), \n",
    "    batch_size=batch_size, \n",
    "    epochs=epochs, \n",
    "    callbacks=callbacks_list\n",
    "    )"
   ]
  },
  {
   "cell_type": "code",
   "execution_count": 17,
   "metadata": {},
   "outputs": [
    {
     "data": {
      "image/png": "[encoded data removed]",
      "text/plain": [
       "<Figure size 1600x600 with 2 Axes>"
      ]
     },
     "metadata": {},
     "output_type": "display_data"
    }
   ],
   "source": [
    "visualize_history(history_w2v_lem)"
   ]
  },
  {
   "cell_type": "code",
   "execution_count": 18,
   "metadata": {},
   "outputs": [
    {
     "name": "stdout",
     "output_type": "stream",
     "text": [
      "Validation Accuracy :  0.7158\n",
      "Validation loss:  1.0527\n",
      "Test Accuracy       :  0.7147\n",
      "Test loss:  1.0453\n"
     ]
    }
   ],
   "source": [
    "# Prédire sur l'ensemble de test avec le dernier epoch\n",
    "\n",
    "loss, accuracy = model_w2v_lem.evaluate(X_val_lem_w2v, y_val_lem, verbose=False)\n",
    "print(\"Validation Accuracy :  {:.4f}\".format(accuracy))\n",
    "print(\"Validation loss:  {:.4f}\".format(loss))\n",
    "\n",
    "loss, accuracy = model_w2v_lem.evaluate(X_test_lem_w2v, y_test_lem, verbose=False)\n",
    "print(\"Test Accuracy       :  {:.4f}\".format(accuracy))\n",
    "print(\"Test loss:  {:.4f}\".format(loss))"
   ]
  },
  {
   "cell_type": "code",
   "execution_count": 20,
   "metadata": {},
   "outputs": [
    {
     "name": "stdout",
     "output_type": "stream",
     "text": [
      "Validation Accuracy :  0.7450\n",
      "Validation loss:  0.7122\n",
      "Test Accuracy       :  0.7526\n",
      "Test loss:  0.7056\n"
     ]
    }
   ],
   "source": [
    "# Prédire sur l'ensemble de test avec le meilleur epoch\n",
    "\n",
    "model_w2v_lem.load_weights(model_save_path_w2v)\n",
    "\n",
    "loss, accuracy = model_w2v_lem.evaluate(X_val_lem_w2v, y_val, verbose=False)\n",
    "print(\"Validation Accuracy :  {:.4f}\".format(accuracy))\n",
    "print(\"Validation loss:  {:.4f}\".format(loss))\n",
    "\n",
    "start_time = time.time()\n",
    "loss, accuracy = model_w2v_lem.evaluate(X_test_lem_w2v, y_test_lem, verbose=False)\n",
    "print(\"Test Accuracy       :  {:.4f}\".format(accuracy))\n",
    "print(\"Test loss:  {:.4f}\".format(loss))\n",
    "\n",
    "# Prédire les labels et enregistrer le temps de prédiction\n",
    "prediction_time = time.time() - start_time\n",
    "# Calculer le temps de prédiction par tweet\n",
    "prediction_time_per_tweet = prediction_time / len(y_test)"
   ]
  },
  {
   "cell_type": "code",
   "execution_count": 22,
   "metadata": {},
   "outputs": [
    {
     "name": "stdout",
     "output_type": "stream",
     "text": [
      "\u001b[1m2987/2987\u001b[0m \u001b[32m━━━━━━━━━━━━━━━━━━━━\u001b[0m\u001b[37m\u001b[0m \u001b[1m3s\u001b[0m 1ms/step\n"
     ]
    },
    {
     "name": "stderr",
     "output_type": "stream",
     "text": [
      "/usr/local/lib/python3.11/dist-packages/_distutils_hack/__init__.py:26: UserWarning: Setuptools is replacing distutils.\n",
      "  warnings.warn(\"Setuptools is replacing distutils.\")\n",
      "Successfully registered model 'Keras_Word2Vec_lem'.\n",
      "2024/04/18 06:20:11 INFO mlflow.store.model_registry.abstract_store: Waiting up to 300 seconds for model version to finish creation. Model name: Keras_Word2Vec_lem, version 1\n",
      "Created version '1' of model 'Keras_Word2Vec_lem'.\n"
     ]
    }
   ],
   "source": [
    "# Enregistrer dans mlFlow\n",
    "\n",
    "with mlflow.start_run(run_name=\"Simple Keras model with Word2Vec W2V embedding + Lemmatization\"):\n",
    "\n",
    "    # Enregistrement des paramètres du modèle\n",
    "    mlflow.log_params(model_w2v_lem.get_config())\n",
    "\n",
    "    # Enregistrement des résultats\n",
    "    mlflow.log_metric(\"accuracy\", accuracy)\n",
    "    mlflow.log_metric(\"total time\", prediction_time)\n",
    "    mlflow.log_metric(\"time per prediction\", prediction_time_per_tweet)\n",
    "\n",
    "    # Définir la signature du modèle\n",
    "    signature = infer_signature(X_train_lem_w2v, model_w2v_lem.predict(X_train_lem_w2v))\n",
    "\n",
    "    # Enregistrement du modèle\n",
    "    mlflow.keras.log_model(\n",
    "        model=model_w2v_lem,\n",
    "        artifact_path=\"Keras_Word2Vec_lem\",\n",
    "        signature=signature,\n",
    "        registered_model_name=\"Keras_Word2Vec_lem\",\n",
    "    )"
   ]
  },
  {
   "cell_type": "markdown",
   "metadata": {},
   "source": [
    "### Avec couche lstm"
   ]
  },
  {
   "cell_type": "code",
   "execution_count": null,
   "metadata": {},
   "outputs": [],
   "source": [
    "# Préparation de l'embedding\n",
    "\n",
    "# Entrainer le modèle d'embedding sur les données d'entrainement\n",
    "word2vec = Word2Vec(X_train, min_count=1)\n",
    "\n",
    "# Préparer les datas pour keras\n",
    "tokenizer = Tokenizer()\n",
    "tokenizer.fit_on_texts(X_train)\n",
    "X_train_w2v = tokenizer.texts_to_sequences(X_train)\n",
    "X_val_w2v = tokenizer.texts_to_sequences(X_val)\n",
    "X_test_w2v = tokenizer.texts_to_sequences(X_test)\n",
    "word_index = tokenizer.word_index\n",
    "\n",
    "# Normalisation de la taille des séquences\n",
    "max_seq = max(len(seq) for seq in X_train_w2v)\n",
    "X_train_w2v = pad_sequences(X_train_w2v, maxlen=max_seq)\n",
    "X_val_w2v = pad_sequences(X_val_w2v, maxlen=max_seq)\n",
    "X_test_w2v = pad_sequences(X_test_w2v, maxlen=max_seq)\n",
    "\n",
    "# Préparation de la matrice d'embedding\n",
    "embedding_dim = word2vec.wv.vector_size\n",
    "embedding_matrix = np.zeros((len(word_index) + 1, embedding_dim))\n",
    "for word, i in word_index.items():\n",
    "    if word in word2vec.wv:\n",
    "        embedding_matrix[i] = word2vec.wv[word]"
   ]
  },
  {
   "cell_type": "code",
   "execution_count": 26,
   "metadata": {},
   "outputs": [],
   "source": [
    "model_w2v_lstm = Sequential()\n",
    "\n",
    "# Définir l'embedding\n",
    "embedding_layer = Embedding(len(word_index) + 1, embedding_dim, trainable=False)\n",
    "embedding_layer.build((None,))\n",
    "embedding_layer.set_weights([embedding_matrix])\n",
    "\n",
    "# Ajouter les couches\n",
    "model_w2v_lstm.add(embedding_layer)\n",
    "model_w2v_lstm.add(LSTM(32))\n",
    "model_w2v_lstm.add(Dense(32, activation='relu', kernel_regularizer=l1_l2(l1=0.01, l2=0.01)))\n",
    "model_w2v_lstm.add(BatchNormalization())\n",
    "model_w2v_lstm.add(Dense(1, activation='sigmoid'))\n",
    "\n",
    "# Compiler le modèle\n",
    "model_w2v_lstm.compile(optimizer='adam', loss='binary_crossentropy', metrics=['accuracy'])"
   ]
  },
  {
   "cell_type": "code",
   "execution_count": 28,
   "metadata": {},
   "outputs": [
    {
     "name": "stdout",
     "output_type": "stream",
     "text": [
      "Epoch 1/50\n"
     ]
    },
    {
     "name": "stdout",
     "output_type": "stream",
     "text": [
      "\u001b[1m2987/2987\u001b[0m \u001b[32m━━━━━━━━━━━━━━━━━━━━\u001b[0m\u001b[37m\u001b[0m \u001b[1m44s\u001b[0m 14ms/step - accuracy: 0.7271 - loss: 0.8776 - val_accuracy: 0.7892 - val_loss: 0.4587\n",
      "Epoch 2/50\n",
      "\u001b[1m2987/2987\u001b[0m \u001b[32m━━━━━━━━━━━━━━━━━━━━\u001b[0m\u001b[37m\u001b[0m \u001b[1m42s\u001b[0m 14ms/step - accuracy: 0.8617 - loss: 0.3356 - val_accuracy: 0.7717 - val_loss: 0.5096\n",
      "Epoch 3/50\n",
      "\u001b[1m2987/2987\u001b[0m \u001b[32m━━━━━━━━━━━━━━━━━━━━\u001b[0m\u001b[37m\u001b[0m \u001b[1m40s\u001b[0m 13ms/step - accuracy: 0.9281 - loss: 0.2009 - val_accuracy: 0.7589 - val_loss: 0.6534\n",
      "Epoch 4/50\n",
      "\u001b[1m2987/2987\u001b[0m \u001b[32m━━━━━━━━━━━━━━━━━━━━\u001b[0m\u001b[37m\u001b[0m \u001b[1m41s\u001b[0m 14ms/step - accuracy: 0.9514 - loss: 0.1454 - val_accuracy: 0.7684 - val_loss: 0.6820\n",
      "Epoch 5/50\n",
      "\u001b[1m2987/2987\u001b[0m \u001b[32m━━━━━━━━━━━━━━━━━━━━\u001b[0m\u001b[37m\u001b[0m \u001b[1m39s\u001b[0m 13ms/step - accuracy: 0.9648 - loss: 0.1109 - val_accuracy: 0.7632 - val_loss: 0.7757\n",
      "Epoch 6/50\n",
      "\u001b[1m2987/2987\u001b[0m \u001b[32m━━━━━━━━━━━━━━━━━━━━\u001b[0m\u001b[37m\u001b[0m \u001b[1m40s\u001b[0m 13ms/step - accuracy: 0.9716 - loss: 0.0918 - val_accuracy: 0.7535 - val_loss: 0.8806\n"
     ]
    }
   ],
   "source": [
    "# Entrainer le modèle\n",
    "\n",
    "# Création du callback\n",
    "model_save_path_w2v_lstm = \"./data/model_best_weights_w2v_lstm.keras\"\n",
    "checkpoint = ModelCheckpoint(model_save_path_w2v_lstm, monitor='val_loss', verbose=0, save_best_only=True, mode='min')\n",
    "es = EarlyStopping(monitor='val_loss', mode='min', verbose=0, patience=5)\n",
    "callbacks_list = [checkpoint, es]\n",
    "\n",
    "# Train the model\n",
    "batch_size = 32\n",
    "epochs = 50\n",
    "\n",
    "history_w2v_lstm = model_w2v_lstm.fit(\n",
    "    X_train_w2v, \n",
    "    y_train, \n",
    "    validation_data=(X_val_w2v, y_val), \n",
    "    batch_size=batch_size, \n",
    "    epochs=epochs, \n",
    "    callbacks=callbacks_list\n",
    "    )"
   ]
  },
  {
   "cell_type": "code",
   "execution_count": 29,
   "metadata": {},
   "outputs": [
    {
     "data": {
      "image/png": "[encoded data removed]",
      "text/plain": [
       "<Figure size 1600x600 with 2 Axes>"
      ]
     },
     "metadata": {},
     "output_type": "display_data"
    }
   ],
   "source": [
    "visualize_history(history_w2v_lstm)"
   ]
  },
  {
   "cell_type": "code",
   "execution_count": 30,
   "metadata": {},
   "outputs": [
    {
     "name": "stdout",
     "output_type": "stream",
     "text": [
      "Validation Accuracy :  0.7535\n",
      "Validation loss:  0.8806\n",
      "Test Accuracy       :  0.7568\n",
      "Test loss:  0.8701\n"
     ]
    }
   ],
   "source": [
    "# Prédire sur l'ensemble de test avec le dernier epoch\n",
    "\n",
    "loss, accuracy = model_w2v_lstm.evaluate(X_val_w2v, y_val, verbose=False)\n",
    "print(\"Validation Accuracy :  {:.4f}\".format(accuracy))\n",
    "print(\"Validation loss:  {:.4f}\".format(loss))\n",
    "\n",
    "loss, accuracy = model_w2v_lstm.evaluate(X_test_w2v, y_test, verbose=False)\n",
    "print(\"Test Accuracy       :  {:.4f}\".format(accuracy))\n",
    "print(\"Test loss:  {:.4f}\".format(loss))"
   ]
  },
  {
   "cell_type": "code",
   "execution_count": 31,
   "metadata": {},
   "outputs": [
    {
     "name": "stdout",
     "output_type": "stream",
     "text": [
      "Validation Accuracy :  0.7892\n",
      "Validation loss:  0.4587\n",
      "Test Accuracy       :  0.7912\n",
      "Test loss:  0.4540\n"
     ]
    }
   ],
   "source": [
    "# Prédire sur l'ensemble de test avec le meilleur epoch\n",
    "\n",
    "model_w2v_lstm.load_weights(model_save_path_w2v_lstm)\n",
    "\n",
    "loss, accuracy = model_w2v_lstm.evaluate(X_val_w2v, y_val, verbose=False)\n",
    "print(\"Validation Accuracy :  {:.4f}\".format(accuracy))\n",
    "print(\"Validation loss:  {:.4f}\".format(loss))\n",
    "\n",
    "start_time = time.time()\n",
    "loss, accuracy = model_w2v_lstm.evaluate(X_test_w2v, y_test, verbose=False)\n",
    "print(\"Test Accuracy       :  {:.4f}\".format(accuracy))\n",
    "print(\"Test loss:  {:.4f}\".format(loss))\n",
    "\n",
    "# Prédire les labels et enregistrer le temps de prédiction\n",
    "prediction_time = time.time() - start_time\n",
    "# Calculer le temps de prédiction par tweet\n",
    "prediction_time_per_tweet = prediction_time / len(y_test)"
   ]
  },
  {
   "cell_type": "code",
   "execution_count": 32,
   "metadata": {},
   "outputs": [
    {
     "name": "stdout",
     "output_type": "stream",
     "text": [
      "\u001b[1m2987/2987\u001b[0m \u001b[32m━━━━━━━━━━━━━━━━━━━━\u001b[0m\u001b[37m\u001b[0m \u001b[1m8s\u001b[0m 3ms/step\n"
     ]
    },
    {
     "name": "stderr",
     "output_type": "stream",
     "text": [
      "Successfully registered model 'Keras_Word2Vec_lstm'.\n",
      "2024/04/18 06:39:14 INFO mlflow.store.model_registry.abstract_store: Waiting up to 300 seconds for model version to finish creation. Model name: Keras_Word2Vec_lstm, version 1\n",
      "Created version '1' of model 'Keras_Word2Vec_lstm'.\n"
     ]
    }
   ],
   "source": [
    "# Enregistrer dans mlFlow\n",
    "\n",
    "with mlflow.start_run(run_name=\"Simple Keras model with LSTM layer and W2V embedding\"):\n",
    "\n",
    "    # Enregistrement des paramètres du modèle\n",
    "    mlflow.log_params(model_w2v_lstm.get_config())\n",
    "\n",
    "    # Enregistrement des résultats\n",
    "    mlflow.log_metric(\"accuracy\", accuracy)\n",
    "    mlflow.log_metric(\"total time\", prediction_time)\n",
    "    mlflow.log_metric(\"time per prediction\", prediction_time_per_tweet)\n",
    "\n",
    "    # Définir la signature du modèle\n",
    "    signature = infer_signature(X_train_w2v, model_w2v_lstm.predict(X_train_w2v))\n",
    "\n",
    "    # Enregistrement du modèle\n",
    "    mlflow.keras.log_model(\n",
    "        model=model_w2v_lstm,\n",
    "        artifact_path=\"Keras_Word2Vec_lstm\",\n",
    "        signature=signature,\n",
    "        registered_model_name=\"Keras_Word2Vec_lstm\",\n",
    "    )"
   ]
  },
  {
   "cell_type": "markdown",
   "metadata": {},
   "source": [
    "## Modèle kera lstm et embedding FastText"
   ]
  },
  {
   "cell_type": "markdown",
   "metadata": {},
   "source": [
    "### Premier test"
   ]
  },
  {
   "cell_type": "code",
   "execution_count": 53,
   "metadata": {},
   "outputs": [],
   "source": [
    "# Préparation de l'embedding\n",
    "\n",
    "# Entrainer le modèle d'embedding sur les données d'entrainement\n",
    "fasttext_model = FastText(X_train, min_count=1)\n",
    "\n",
    "# Préparer les datas pour keras\n",
    "tokenizer = Tokenizer()\n",
    "tokenizer.fit_on_texts(X_train)\n",
    "X_train_ft = tokenizer.texts_to_sequences(X_train)\n",
    "X_val_ft = tokenizer.texts_to_sequences(X_val)\n",
    "X_test_ft = tokenizer.texts_to_sequences(X_test)\n",
    "word_index = tokenizer.word_index\n",
    "\n",
    "# Normalisation de la taille des séquences\n",
    "max_seq = max(len(seq) for seq in X_train_ft)\n",
    "X_train_ft = pad_sequences(X_train_ft, maxlen=max_seq)\n",
    "X_val_ft = pad_sequences(X_val_ft, maxlen=max_seq)\n",
    "X_test_ft = pad_sequences(X_test_ft, maxlen=max_seq)\n",
    "\n",
    "# Préparation de la matrice d'embedding\n",
    "embedding_dim = fasttext_model.wv.vector_size\n",
    "embedding_matrix = np.zeros((len(word_index) + 1, embedding_dim))\n",
    "for word, i in word_index.items():\n",
    "    if word in fasttext_model.wv:\n",
    "        embedding_matrix[i] = fasttext_model.wv[word]\n",
    "\n",
    "# Définir l'embedding\n",
    "embedding_layer = Embedding(len(word_index) + 1, embedding_dim, trainable=False)\n",
    "embedding_layer.build((None,))\n",
    "embedding_layer.set_weights([embedding_matrix])"
   ]
  },
  {
   "cell_type": "code",
   "execution_count": 54,
   "metadata": {},
   "outputs": [],
   "source": [
    "model_ft = Sequential()\n",
    "\n",
    "# Ajouter les couches\n",
    "model_ft.add(embedding_layer)\n",
    "model_ft.add(LSTM(32))\n",
    "model_ft.add(Dropout(0.5))\n",
    "model_ft.add(Dense(32, activation='relu', kernel_regularizer=l1_l2(l1=0.01, l2=0.01)))\n",
    "model_ft.add(Dropout(0.5))\n",
    "model_ft.add(BatchNormalization())\n",
    "model_ft.add(Dense(1, activation='sigmoid'))\n",
    "\n",
    "# Compiler le modèle\n",
    "model_ft.compile(optimizer='adam', loss='binary_crossentropy', metrics=['accuracy'])"
   ]
  },
  {
   "cell_type": "code",
   "execution_count": 47,
   "metadata": {},
   "outputs": [
    {
     "name": "stdout",
     "output_type": "stream",
     "text": [
      "Epoch 1/50\n"
     ]
    },
    {
     "name": "stdout",
     "output_type": "stream",
     "text": [
      "\u001b[1m2987/2987\u001b[0m \u001b[32m━━━━━━━━━━━━━━━━━━━━\u001b[0m\u001b[37m\u001b[0m \u001b[1m45s\u001b[0m 15ms/step - accuracy: 0.6852 - loss: 0.9785 - val_accuracy: 0.7851 - val_loss: 0.4860\n",
      "Epoch 2/50\n",
      "\u001b[1m2987/2987\u001b[0m \u001b[32m━━━━━━━━━━━━━━━━━━━━\u001b[0m\u001b[37m\u001b[0m \u001b[1m42s\u001b[0m 14ms/step - accuracy: 0.8383 - loss: 0.4175 - val_accuracy: 0.7682 - val_loss: 0.5676\n",
      "Epoch 3/50\n",
      "\u001b[1m2987/2987\u001b[0m \u001b[32m━━━━━━━━━━━━━━━━━━━━\u001b[0m\u001b[37m\u001b[0m \u001b[1m41s\u001b[0m 14ms/step - accuracy: 0.8986 - loss: 0.2994 - val_accuracy: 0.7649 - val_loss: 0.5900\n",
      "Epoch 4/50\n",
      "\u001b[1m2987/2987\u001b[0m \u001b[32m━━━━━━━━━━━━━━━━━━━━\u001b[0m\u001b[37m\u001b[0m \u001b[1m43s\u001b[0m 14ms/step - accuracy: 0.9252 - loss: 0.2382 - val_accuracy: 0.7566 - val_loss: 0.7205\n",
      "Epoch 5/50\n",
      "\u001b[1m2987/2987\u001b[0m \u001b[32m━━━━━━━━━━━━━━━━━━━━\u001b[0m\u001b[37m\u001b[0m \u001b[1m42s\u001b[0m 14ms/step - accuracy: 0.9401 - loss: 0.1993 - val_accuracy: 0.7613 - val_loss: 0.7845\n",
      "Epoch 6/50\n",
      "\u001b[1m2987/2987\u001b[0m \u001b[32m━━━━━━━━━━━━━━━━━━━━\u001b[0m\u001b[37m\u001b[0m \u001b[1m42s\u001b[0m 14ms/step - accuracy: 0.9502 - loss: 0.1736 - val_accuracy: 0.7594 - val_loss: 0.8182\n"
     ]
    }
   ],
   "source": [
    "# Entrainer le modèle\n",
    "\n",
    "# Création du callback\n",
    "model_save_path_ft = \"./data/model_best_weights_ft.keras\"\n",
    "checkpoint = ModelCheckpoint(model_save_path_ft, monitor='val_loss', verbose=0, save_best_only=True, mode='min')\n",
    "es = EarlyStopping(monitor='val_loss', mode='min', verbose=0, patience=5)\n",
    "callbacks_list = [checkpoint, es]\n",
    "\n",
    "# Train the model\n",
    "batch_size = 32\n",
    "epochs = 50\n",
    "\n",
    "history_ft = model_ft.fit(\n",
    "    X_train_ft, \n",
    "    y_train, \n",
    "    validation_data=(X_val_ft, y_val), \n",
    "    batch_size=batch_size, \n",
    "    epochs=epochs, \n",
    "    callbacks=callbacks_list\n",
    "    )"
   ]
  },
  {
   "cell_type": "code",
   "execution_count": 48,
   "metadata": {},
   "outputs": [
    {
     "name": "stdout",
     "output_type": "stream",
     "text": [
      "Epoch: 1\n",
      "Train accuracy: 0.7359702587127686\n",
      "Validation accuracy: 0.7850886583328247\n",
      "Train loss: 0.6678287982940674\n",
      "Validation loss: 0.4859887659549713\n",
      "------------------------------\n",
      "Epoch: 2\n",
      "Train accuracy: 0.83824622631073\n",
      "Validation accuracy: 0.7681996822357178\n",
      "Train loss: 0.4145073890686035\n",
      "Validation loss: 0.5676175951957703\n",
      "------------------------------\n",
      "Epoch: 3\n",
      "Train accuracy: 0.8941558003425598\n",
      "Validation accuracy: 0.7649348378181458\n",
      "Train loss: 0.30717185139656067\n",
      "Validation loss: 0.5900370478630066\n",
      "------------------------------\n",
      "Epoch: 4\n",
      "Train accuracy: 0.9218123555183411\n",
      "Validation accuracy: 0.7565531134605408\n",
      "Train loss: 0.2462460845708847\n",
      "Validation loss: 0.720451831817627\n",
      "------------------------------\n",
      "Epoch: 5\n",
      "Train accuracy: 0.9362214207649231\n",
      "Validation accuracy: 0.7613247632980347\n",
      "Train loss: 0.20775216817855835\n",
      "Validation loss: 0.784461498260498\n",
      "------------------------------\n",
      "Epoch: 6\n",
      "Train accuracy: 0.9462355375289917\n",
      "Validation accuracy: 0.7593784332275391\n",
      "Train loss: 0.18236540257930756\n",
      "Validation loss: 0.818154513835907\n",
      "------------------------------\n",
      "Epoch: 7\n"
     ]
    },
    {
     "ename": "IndexError",
     "evalue": "list index out of range",
     "output_type": "error",
     "traceback": [
      "\u001b[0;31m---------------------------------------------------------------------------\u001b[0m",
      "\u001b[0;31mIndexError\u001b[0m                                Traceback (most recent call last)",
      "Cell \u001b[0;32mIn[48], line 4\u001b[0m\n\u001b[1;32m      2\u001b[0m \u001b[38;5;28;01mfor\u001b[39;00m epoch \u001b[38;5;129;01min\u001b[39;00m \u001b[38;5;28mrange\u001b[39m(epochs):\n\u001b[1;32m      3\u001b[0m     \u001b[38;5;28mprint\u001b[39m(\u001b[38;5;124mf\u001b[39m\u001b[38;5;124m\"\u001b[39m\u001b[38;5;124mEpoch: \u001b[39m\u001b[38;5;132;01m{\u001b[39;00mepoch\u001b[38;5;250m \u001b[39m\u001b[38;5;241m+\u001b[39m\u001b[38;5;250m \u001b[39m\u001b[38;5;241m1\u001b[39m\u001b[38;5;132;01m}\u001b[39;00m\u001b[38;5;124m\"\u001b[39m)\n\u001b[0;32m----> 4\u001b[0m     \u001b[38;5;28mprint\u001b[39m(\u001b[38;5;124mf\u001b[39m\u001b[38;5;124m\"\u001b[39m\u001b[38;5;124mTrain accuracy: \u001b[39m\u001b[38;5;132;01m{\u001b[39;00m\u001b[43mhistory_ft\u001b[49m\u001b[38;5;241;43m.\u001b[39;49m\u001b[43mhistory\u001b[49m\u001b[43m[\u001b[49m\u001b[38;5;124;43m'\u001b[39;49m\u001b[38;5;124;43maccuracy\u001b[39;49m\u001b[38;5;124;43m'\u001b[39;49m\u001b[43m]\u001b[49m\u001b[43m[\u001b[49m\u001b[43mepoch\u001b[49m\u001b[43m]\u001b[49m\u001b[38;5;132;01m}\u001b[39;00m\u001b[38;5;124m\"\u001b[39m)\n\u001b[1;32m      5\u001b[0m     \u001b[38;5;28mprint\u001b[39m(\u001b[38;5;124mf\u001b[39m\u001b[38;5;124m\"\u001b[39m\u001b[38;5;124mValidation accuracy: \u001b[39m\u001b[38;5;132;01m{\u001b[39;00mhistory_ft\u001b[38;5;241m.\u001b[39mhistory[\u001b[38;5;124m'\u001b[39m\u001b[38;5;124mval_accuracy\u001b[39m\u001b[38;5;124m'\u001b[39m][epoch]\u001b[38;5;132;01m}\u001b[39;00m\u001b[38;5;124m\"\u001b[39m)\n\u001b[1;32m      6\u001b[0m     \u001b[38;5;28mprint\u001b[39m(\u001b[38;5;124mf\u001b[39m\u001b[38;5;124m\"\u001b[39m\u001b[38;5;124mTrain loss: \u001b[39m\u001b[38;5;132;01m{\u001b[39;00mhistory_ft\u001b[38;5;241m.\u001b[39mhistory[\u001b[38;5;124m'\u001b[39m\u001b[38;5;124mloss\u001b[39m\u001b[38;5;124m'\u001b[39m][epoch]\u001b[38;5;132;01m}\u001b[39;00m\u001b[38;5;124m\"\u001b[39m)\n",
      "\u001b[0;31mIndexError\u001b[0m: list index out of range"
     ]
    }
   ],
   "source": [
    "# Imprimer les résultats\n",
    "'''\n",
    "for epoch in range(epochs):\n",
    "    print(f\"Epoch: {epoch + 1}\")\n",
    "    print(f\"Train accuracy: {history_ft.history['accuracy'][epoch]}\")\n",
    "    print(f\"Validation accuracy: {history_ft.history['val_accuracy'][epoch]}\")\n",
    "    print(f\"Train loss: {history_ft.history['loss'][epoch]}\")\n",
    "    print(f\"Validation loss: {history_ft.history['val_loss'][epoch]}\")\n",
    "    print(\"-\"*30)\n",
    "'''"
   ]
  },
  {
   "cell_type": "code",
   "execution_count": 49,
   "metadata": {},
   "outputs": [
    {
     "data": {
      "image/png": "[encoded data removed]",
      "text/plain": [
       "<Figure size 1600x600 with 2 Axes>"
      ]
     },
     "metadata": {},
     "output_type": "display_data"
    }
   ],
   "source": [
    "visualize_history(history_ft)"
   ]
  },
  {
   "cell_type": "code",
   "execution_count": 38,
   "metadata": {},
   "outputs": [
    {
     "name": "stdout",
     "output_type": "stream",
     "text": [
      "Validation Accuracy :  0.7601\n",
      "Validation loss:  0.8431\n",
      "Test Accuracy       :  0.7665\n",
      "Test loss:  0.8164\n"
     ]
    }
   ],
   "source": [
    "# Prédire sur l'ensemble de test avec le dernier epoch\n",
    "\n",
    "loss, accuracy = model_ft.evaluate(X_val_ft, y_val, verbose=False)\n",
    "print(\"Validation Accuracy :  {:.4f}\".format(accuracy))\n",
    "print(\"Validation loss:  {:.4f}\".format(loss))\n",
    "\n",
    "loss, accuracy = model_ft.evaluate(X_test_ft, y_test, verbose=False)\n",
    "print(\"Test Accuracy       :  {:.4f}\".format(accuracy))\n",
    "print(\"Test loss:  {:.4f}\".format(loss))"
   ]
  },
  {
   "cell_type": "code",
   "execution_count": 40,
   "metadata": {},
   "outputs": [
    {
     "name": "stdout",
     "output_type": "stream",
     "text": [
      "Validation Accuracy :  0.7899\n",
      "Validation loss:  0.4568\n",
      "Test Accuracy       :  0.7916\n",
      "Test loss:  0.4528\n"
     ]
    }
   ],
   "source": [
    "# Prédire sur l'ensemble de test avec le meilleur epoch\n",
    "\n",
    "model_ft.load_weights(model_save_path_ft)\n",
    "\n",
    "loss, accuracy = model_ft.evaluate(X_val_ft, y_val, verbose=False)\n",
    "print(\"Validation Accuracy :  {:.4f}\".format(accuracy))\n",
    "print(\"Validation loss:  {:.4f}\".format(loss))\n",
    "\n",
    "start_time = time.time()\n",
    "loss, accuracy = model_ft.evaluate(X_test_ft, y_test, verbose=False)\n",
    "print(\"Test Accuracy       :  {:.4f}\".format(accuracy))\n",
    "print(\"Test loss:  {:.4f}\".format(loss))\n",
    "\n",
    "# Prédire les labels et enregistrer le temps de prédiction\n",
    "prediction_time = time.time() - start_time\n",
    "# Calculer le temps de prédiction par tweet\n",
    "prediction_time_per_tweet = prediction_time / len(y_test)"
   ]
  },
  {
   "cell_type": "code",
   "execution_count": 41,
   "metadata": {},
   "outputs": [
    {
     "name": "stdout",
     "output_type": "stream",
     "text": [
      "\u001b[1m2987/2987\u001b[0m \u001b[32m━━━━━━━━━━━━━━━━━━━━\u001b[0m\u001b[37m\u001b[0m \u001b[1m8s\u001b[0m 3ms/step\n"
     ]
    },
    {
     "name": "stderr",
     "output_type": "stream",
     "text": [
      "Successfully registered model 'Keras_FastText_lstm'.\n",
      "2024/04/18 06:53:29 INFO mlflow.store.model_registry.abstract_store: Waiting up to 300 seconds for model version to finish creation. Model name: Keras_FastText_lstm, version 1\n",
      "Created version '1' of model 'Keras_FastText_lstm'.\n"
     ]
    }
   ],
   "source": [
    "# Enregistrer dans mlFlow\n",
    "\n",
    "with mlflow.start_run(run_name=\"Simple Keras model with LSTM layer and FastText embedding\"):\n",
    "\n",
    "    # Enregistrement des paramètres du modèle\n",
    "    mlflow.log_params(model_ft.get_config())\n",
    "\n",
    "    # Enregistrement des résultats\n",
    "    mlflow.log_metric(\"accuracy\", accuracy)\n",
    "    mlflow.log_metric(\"total time\", prediction_time)\n",
    "    mlflow.log_metric(\"time per prediction\", prediction_time_per_tweet)\n",
    "\n",
    "    # Définir la signature du modèle\n",
    "    signature = infer_signature(X_train_ft, model_ft.predict(X_train_ft))\n",
    "\n",
    "    # Enregistrement du modèle\n",
    "    mlflow.keras.log_model(\n",
    "        model=model_ft,\n",
    "        artifact_path=\"Keras_FastText_lstm\",\n",
    "        signature=signature,\n",
    "        registered_model_name=\"Keras_FastText_lstm\",\n",
    "    )"
   ]
  },
  {
   "cell_type": "markdown",
   "metadata": {},
   "source": [
    "### Optimisation optuna"
   ]
  },
  {
   "cell_type": "markdown",
   "metadata": {},
   "source": [
    "#### Study"
   ]
  },
  {
   "cell_type": "code",
   "execution_count": 55,
   "metadata": {},
   "outputs": [],
   "source": [
    "# Préparation de l'embedding\n",
    "\n",
    "# Entrainer le modèle d'embedding sur les données d'entrainement\n",
    "fasttext_model = FastText(X_train, min_count=1)\n",
    "\n",
    "# Préparer les datas pour keras\n",
    "tokenizer = Tokenizer()\n",
    "tokenizer.fit_on_texts(X_train)\n",
    "X_train_ft = tokenizer.texts_to_sequences(X_train)\n",
    "X_val_ft = tokenizer.texts_to_sequences(X_val)\n",
    "X_test_ft = tokenizer.texts_to_sequences(X_test)\n",
    "word_index = tokenizer.word_index\n",
    "\n",
    "# Normalisation de la taille des séquences\n",
    "max_seq = max(len(seq) for seq in X_train_ft)\n",
    "X_train_ft = pad_sequences(X_train_ft, maxlen=max_seq)\n",
    "X_val_ft = pad_sequences(X_val_ft, maxlen=max_seq)\n",
    "X_test_ft = pad_sequences(X_test_ft, maxlen=max_seq)\n",
    "\n",
    "# Préparation de la matrice d'embedding\n",
    "embedding_dim = fasttext_model.wv.vector_size\n",
    "embedding_matrix = np.zeros((len(word_index) + 1, embedding_dim))\n",
    "for word, i in word_index.items():\n",
    "    if word in fasttext_model.wv:\n",
    "        embedding_matrix[i] = fasttext_model.wv[word]\n",
    "\n",
    "# Définir l'embedding\n",
    "embedding_layer = Embedding(len(word_index) + 1, embedding_dim, trainable=False)\n",
    "embedding_layer.build((None,))\n",
    "embedding_layer.set_weights([embedding_matrix])"
   ]
  },
  {
   "cell_type": "code",
   "execution_count": 66,
   "metadata": {},
   "outputs": [],
   "source": [
    "import optuna\n",
    "\n",
    "def objective(trial):\n",
    "    \n",
    "    print()\n",
    "    print('------------------------------------------------------------------------------')\n",
    "    print(f\"Progress: {trial.number + 1}/{trial_number}\")\n",
    "    print('------------------------------------------------------------------------------')\n",
    "    print()\n",
    "\n",
    "    # Définir les hyperparamètres à optimiser\n",
    "    lstm_units = trial.suggest_int('lstm_units', 8, 64)\n",
    "    dense_units = trial.suggest_int('dense_units', 8, 64)\n",
    "    dropout_rate = trial.suggest_uniform('dropout_rate', 0.1, 0.7)\n",
    "    learning_rate = trial.suggest_loguniform('learning_rate', 1e-5, 1e-2)\n",
    "    activation = trial.suggest_categorical('activation', ['relu', 'tanh'])\n",
    "    optimizer = trial.suggest_categorical('optimizer', ['adam', 'rmsprop'])\n",
    "\n",
    "    model_ft = Sequential()\n",
    "    model_ft.add(embedding_layer)\n",
    "    model_ft.add(LSTM(lstm_units))\n",
    "    model_ft.add(Dropout(dropout_rate))\n",
    "    model_ft.add(Dense(dense_units, activation=activation, kernel_regularizer=l1_l2(l1=0.01, l2=0.01)))\n",
    "    model_ft.add(Dropout(dropout_rate))\n",
    "    model_ft.add(BatchNormalization())\n",
    "    model_ft.add(Dense(1, activation='sigmoid'))\n",
    "\n",
    "    if optimizer == 'adam':\n",
    "        opt = Adam(learning_rate=learning_rate)\n",
    "    else:\n",
    "        opt = RMSprop(learning_rate=learning_rate)\n",
    "\n",
    "    model_ft.compile(optimizer=opt, loss='binary_crossentropy', metrics=['accuracy'])\n",
    "\n",
    "    # Création du callback\n",
    "    model_save_path = \"./data/model_best_weights_optuna.keras\"\n",
    "    checkpoint = ModelCheckpoint(model_save_path, monitor='val_loss', verbose=0, save_best_only=True, mode='min')\n",
    "    es = EarlyStopping(monitor='val_loss', mode='min', verbose=0, patience=5)\n",
    "    callbacks_list = [checkpoint, es]\n",
    "\n",
    "    # Fit du modèle\n",
    "    model_ft.fit(X_train_ft, y_train, validation_data=(X_val_ft, y_val), batch_size=32, epochs=20, callbacks=callbacks_list, verbose=0)\n",
    "\n",
    "    model_ft.load_weights(model_save_path)\n",
    "    val_loss = model_ft.evaluate(X_val_ft, y_val, verbose=0)[0]\n",
    "    return val_loss"
   ]
  },
  {
   "cell_type": "code",
   "execution_count": 67,
   "metadata": {},
   "outputs": [],
   "source": [
    "# Effacer l'étude de la base de données si erreur\n",
    "# optuna.delete_study(study_name=\"projet-7_lstm_model\", storage='sqlite:///study.db')"
   ]
  },
  {
   "cell_type": "code",
   "execution_count": 68,
   "metadata": {},
   "outputs": [
    {
     "name": "stderr",
     "output_type": "stream",
     "text": [
      "[I 2024-04-18 07:34:30,974] A new study created in RDB with name: projet-7_lstm_model\n",
      "/tmp/ipykernel_734/98002110.py:14: FutureWarning: suggest_uniform has been deprecated in v3.0.0. This feature will be removed in v6.0.0. See https://github.com/optuna/optuna/releases/tag/v3.0.0. Use suggest_float instead.\n",
      "  dropout_rate = trial.suggest_uniform('dropout_rate', 0.1, 0.7)\n",
      "/tmp/ipykernel_734/98002110.py:15: FutureWarning: suggest_loguniform has been deprecated in v3.0.0. This feature will be removed in v6.0.0. See https://github.com/optuna/optuna/releases/tag/v3.0.0. Use suggest_float(..., log=True) instead.\n",
      "  learning_rate = trial.suggest_loguniform('learning_rate', 1e-5, 1e-2)\n"
     ]
    },
    {
     "name": "stdout",
     "output_type": "stream",
     "text": [
      "\n",
      "------------------------------------------------------------------------------\n",
      "Progress: 1/50\n",
      "------------------------------------------------------------------------------\n",
      "\n"
     ]
    },
    {
     "name": "stderr",
     "output_type": "stream",
     "text": [
      "[I 2024-04-18 07:45:21,893] Trial 0 finished with value: 0.47589653730392456 and parameters: {'lstm_units': 45, 'dense_units': 56, 'dropout_rate': 0.5592946939650149, 'learning_rate': 4.34697201010499e-05, 'activation': 'tanh', 'optimizer': 'rmsprop'}. Best is trial 0 with value: 0.47589653730392456.\n"
     ]
    },
    {
     "name": "stdout",
     "output_type": "stream",
     "text": [
      "\n",
      "------------------------------------------------------------------------------\n",
      "Progress: 2/50\n",
      "------------------------------------------------------------------------------\n",
      "\n"
     ]
    },
    {
     "name": "stderr",
     "output_type": "stream",
     "text": [
      "[I 2024-04-18 07:56:35,077] Trial 1 finished with value: 0.48116743564605713 and parameters: {'lstm_units': 29, 'dense_units': 19, 'dropout_rate': 0.24742292002581137, 'learning_rate': 1.4932736347991779e-05, 'activation': 'relu', 'optimizer': 'rmsprop'}. Best is trial 0 with value: 0.47589653730392456.\n"
     ]
    },
    {
     "name": "stdout",
     "output_type": "stream",
     "text": [
      "\n",
      "------------------------------------------------------------------------------\n",
      "Progress: 3/50\n",
      "------------------------------------------------------------------------------\n",
      "\n"
     ]
    },
    {
     "name": "stderr",
     "output_type": "stream",
     "text": [
      "[I 2024-04-18 08:00:14,111] Trial 2 finished with value: 0.5411349534988403 and parameters: {'lstm_units': 15, 'dense_units': 41, 'dropout_rate': 0.3747651480591555, 'learning_rate': 0.007041368079908117, 'activation': 'relu', 'optimizer': 'rmsprop'}. Best is trial 0 with value: 0.47589653730392456.\n"
     ]
    },
    {
     "name": "stdout",
     "output_type": "stream",
     "text": [
      "\n",
      "------------------------------------------------------------------------------\n",
      "Progress: 4/50\n",
      "------------------------------------------------------------------------------\n",
      "\n"
     ]
    },
    {
     "name": "stderr",
     "output_type": "stream",
     "text": [
      "[I 2024-04-18 08:04:14,532] Trial 3 finished with value: 0.6649969816207886 and parameters: {'lstm_units': 42, 'dense_units': 60, 'dropout_rate': 0.3699476864455108, 'learning_rate': 0.00637265643990249, 'activation': 'relu', 'optimizer': 'rmsprop'}. Best is trial 0 with value: 0.47589653730392456.\n"
     ]
    },
    {
     "name": "stdout",
     "output_type": "stream",
     "text": [
      "\n",
      "------------------------------------------------------------------------------\n",
      "Progress: 5/50\n",
      "------------------------------------------------------------------------------\n",
      "\n"
     ]
    },
    {
     "name": "stderr",
     "output_type": "stream",
     "text": [
      "[I 2024-04-18 08:09:16,108] Trial 4 finished with value: 0.5151749849319458 and parameters: {'lstm_units': 53, 'dense_units': 53, 'dropout_rate': 0.3476977045483717, 'learning_rate': 8.164009136284678e-05, 'activation': 'relu', 'optimizer': 'rmsprop'}. Best is trial 0 with value: 0.47589653730392456.\n"
     ]
    },
    {
     "name": "stdout",
     "output_type": "stream",
     "text": [
      "\n",
      "------------------------------------------------------------------------------\n",
      "Progress: 6/50\n",
      "------------------------------------------------------------------------------\n",
      "\n"
     ]
    },
    {
     "name": "stderr",
     "output_type": "stream",
     "text": [
      "[I 2024-04-18 08:17:20,800] Trial 5 finished with value: 0.621676504611969 and parameters: {'lstm_units': 60, 'dense_units': 19, 'dropout_rate': 0.12495059935535008, 'learning_rate': 0.0012587857155906524, 'activation': 'relu', 'optimizer': 'rmsprop'}. Best is trial 0 with value: 0.47589653730392456.\n"
     ]
    },
    {
     "name": "stdout",
     "output_type": "stream",
     "text": [
      "\n",
      "------------------------------------------------------------------------------\n",
      "Progress: 7/50\n",
      "------------------------------------------------------------------------------\n",
      "\n"
     ]
    },
    {
     "name": "stderr",
     "output_type": "stream",
     "text": [
      "[I 2024-04-18 08:26:18,887] Trial 6 finished with value: 0.5862017869949341 and parameters: {'lstm_units': 64, 'dense_units': 42, 'dropout_rate': 0.6311863064494633, 'learning_rate': 0.0001565133837079086, 'activation': 'tanh', 'optimizer': 'rmsprop'}. Best is trial 0 with value: 0.47589653730392456.\n"
     ]
    },
    {
     "name": "stdout",
     "output_type": "stream",
     "text": [
      "\n",
      "------------------------------------------------------------------------------\n",
      "Progress: 8/50\n",
      "------------------------------------------------------------------------------\n",
      "\n"
     ]
    },
    {
     "name": "stderr",
     "output_type": "stream",
     "text": [
      "[I 2024-04-18 08:34:18,566] Trial 7 finished with value: 0.574613094329834 and parameters: {'lstm_units': 61, 'dense_units': 46, 'dropout_rate': 0.4384140098892274, 'learning_rate': 2.9797586205911635e-05, 'activation': 'tanh', 'optimizer': 'adam'}. Best is trial 0 with value: 0.47589653730392456.\n"
     ]
    },
    {
     "name": "stdout",
     "output_type": "stream",
     "text": [
      "\n",
      "------------------------------------------------------------------------------\n",
      "Progress: 9/50\n",
      "------------------------------------------------------------------------------\n",
      "\n"
     ]
    },
    {
     "name": "stderr",
     "output_type": "stream",
     "text": [
      "[I 2024-04-18 08:42:10,924] Trial 8 finished with value: 0.5604071021080017 and parameters: {'lstm_units': 41, 'dense_units': 58, 'dropout_rate': 0.6607854519153883, 'learning_rate': 2.913757460605832e-05, 'activation': 'relu', 'optimizer': 'adam'}. Best is trial 0 with value: 0.47589653730392456.\n"
     ]
    },
    {
     "name": "stdout",
     "output_type": "stream",
     "text": [
      "\n",
      "------------------------------------------------------------------------------\n",
      "Progress: 10/50\n",
      "------------------------------------------------------------------------------\n",
      "\n"
     ]
    },
    {
     "name": "stderr",
     "output_type": "stream",
     "text": [
      "[I 2024-04-18 08:50:34,207] Trial 9 finished with value: 0.5317298173904419 and parameters: {'lstm_units': 8, 'dense_units': 43, 'dropout_rate': 0.571664902219248, 'learning_rate': 2.4741241938774898e-05, 'activation': 'relu', 'optimizer': 'rmsprop'}. Best is trial 0 with value: 0.47589653730392456.\n"
     ]
    },
    {
     "name": "stdout",
     "output_type": "stream",
     "text": [
      "\n",
      "------------------------------------------------------------------------------\n",
      "Progress: 11/50\n",
      "------------------------------------------------------------------------------\n",
      "\n"
     ]
    },
    {
     "name": "stderr",
     "output_type": "stream",
     "text": [
      "[I 2024-04-18 08:55:08,138] Trial 10 finished with value: 0.5850993990898132 and parameters: {'lstm_units': 30, 'dense_units': 26, 'dropout_rate': 0.5105259896276337, 'learning_rate': 0.0007563732941163151, 'activation': 'tanh', 'optimizer': 'adam'}. Best is trial 0 with value: 0.47589653730392456.\n"
     ]
    },
    {
     "name": "stdout",
     "output_type": "stream",
     "text": [
      "\n",
      "------------------------------------------------------------------------------\n",
      "Progress: 12/50\n",
      "------------------------------------------------------------------------------\n",
      "\n"
     ]
    },
    {
     "name": "stderr",
     "output_type": "stream",
     "text": [
      "[I 2024-04-18 09:07:35,492] Trial 11 finished with value: 0.6441192030906677 and parameters: {'lstm_units': 29, 'dense_units': 13, 'dropout_rate': 0.21476527320515632, 'learning_rate': 1.2918422939129425e-05, 'activation': 'tanh', 'optimizer': 'rmsprop'}. Best is trial 0 with value: 0.47589653730392456.\n"
     ]
    },
    {
     "name": "stdout",
     "output_type": "stream",
     "text": [
      "\n",
      "------------------------------------------------------------------------------\n",
      "Progress: 13/50\n",
      "------------------------------------------------------------------------------\n",
      "\n"
     ]
    },
    {
     "name": "stderr",
     "output_type": "stream",
     "text": [
      "[I 2024-04-18 09:20:03,945] Trial 12 finished with value: 0.6438692808151245 and parameters: {'lstm_units': 23, 'dense_units': 29, 'dropout_rate': 0.2437260372741053, 'learning_rate': 1.0253920515788389e-05, 'activation': 'tanh', 'optimizer': 'rmsprop'}. Best is trial 0 with value: 0.47589653730392456.\n"
     ]
    },
    {
     "name": "stdout",
     "output_type": "stream",
     "text": [
      "\n",
      "------------------------------------------------------------------------------\n",
      "Progress: 14/50\n",
      "------------------------------------------------------------------------------\n",
      "\n"
     ]
    },
    {
     "name": "stderr",
     "output_type": "stream",
     "text": [
      "[I 2024-04-18 09:27:25,928] Trial 13 finished with value: 0.5989691615104675 and parameters: {'lstm_units': 49, 'dense_units': 8, 'dropout_rate': 0.49835928777023086, 'learning_rate': 9.264812137262947e-05, 'activation': 'tanh', 'optimizer': 'rmsprop'}. Best is trial 0 with value: 0.47589653730392456.\n"
     ]
    },
    {
     "name": "stdout",
     "output_type": "stream",
     "text": [
      "\n",
      "------------------------------------------------------------------------------\n",
      "Progress: 15/50\n",
      "------------------------------------------------------------------------------\n",
      "\n"
     ]
    },
    {
     "name": "stderr",
     "output_type": "stream",
     "text": [
      "[I 2024-04-18 09:41:20,180] Trial 14 finished with value: 0.5912949442863464 and parameters: {'lstm_units': 35, 'dense_units': 29, 'dropout_rate': 0.27280483897604224, 'learning_rate': 0.00041730353939831226, 'activation': 'relu', 'optimizer': 'adam'}. Best is trial 0 with value: 0.47589653730392456.\n"
     ]
    },
    {
     "name": "stdout",
     "output_type": "stream",
     "text": [
      "\n",
      "------------------------------------------------------------------------------\n",
      "Progress: 16/50\n",
      "------------------------------------------------------------------------------\n",
      "\n"
     ]
    },
    {
     "name": "stderr",
     "output_type": "stream",
     "text": [
      "[I 2024-04-18 10:04:48,077] Trial 15 finished with value: 0.6590693593025208 and parameters: {'lstm_units': 22, 'dense_units': 64, 'dropout_rate': 0.13073587600079722, 'learning_rate': 4.898481249445262e-05, 'activation': 'tanh', 'optimizer': 'rmsprop'}. Best is trial 0 with value: 0.47589653730392456.\n"
     ]
    },
    {
     "name": "stdout",
     "output_type": "stream",
     "text": [
      "\n",
      "------------------------------------------------------------------------------\n",
      "Progress: 17/50\n",
      "------------------------------------------------------------------------------\n",
      "\n"
     ]
    },
    {
     "name": "stderr",
     "output_type": "stream",
     "text": [
      "[I 2024-04-18 10:24:15,861] Trial 16 finished with value: 0.6615114212036133 and parameters: {'lstm_units': 45, 'dense_units': 34, 'dropout_rate': 0.28833117706417694, 'learning_rate': 0.00019556881015733127, 'activation': 'relu', 'optimizer': 'rmsprop'}. Best is trial 0 with value: 0.47589653730392456.\n"
     ]
    },
    {
     "name": "stdout",
     "output_type": "stream",
     "text": [
      "\n",
      "------------------------------------------------------------------------------\n",
      "Progress: 18/50\n",
      "------------------------------------------------------------------------------\n",
      "\n"
     ]
    },
    {
     "name": "stderr",
     "output_type": "stream",
     "text": [
      "[I 2024-04-18 10:57:23,953] Trial 17 finished with value: 0.6502608060836792 and parameters: {'lstm_units': 35, 'dense_units': 20, 'dropout_rate': 0.46545343988799903, 'learning_rate': 1.671981469296405e-05, 'activation': 'tanh', 'optimizer': 'rmsprop'}. Best is trial 0 with value: 0.47589653730392456.\n"
     ]
    },
    {
     "name": "stdout",
     "output_type": "stream",
     "text": [
      "\n",
      "------------------------------------------------------------------------------\n",
      "Progress: 19/50\n",
      "------------------------------------------------------------------------------\n",
      "\n"
     ]
    },
    {
     "name": "stderr",
     "output_type": "stream",
     "text": [
      "[I 2024-04-18 11:15:56,577] Trial 18 finished with value: 0.6602199077606201 and parameters: {'lstm_units': 52, 'dense_units': 51, 'dropout_rate': 0.5875234568799123, 'learning_rate': 5.6832851465832195e-05, 'activation': 'relu', 'optimizer': 'adam'}. Best is trial 0 with value: 0.47589653730392456.\n"
     ]
    },
    {
     "name": "stdout",
     "output_type": "stream",
     "text": [
      "\n",
      "------------------------------------------------------------------------------\n",
      "Progress: 20/50\n",
      "------------------------------------------------------------------------------\n",
      "\n"
     ]
    },
    {
     "name": "stderr",
     "output_type": "stream",
     "text": [
      "[I 2024-04-18 11:27:02,761] Trial 19 finished with value: 0.6286000609397888 and parameters: {'lstm_units': 28, 'dense_units': 22, 'dropout_rate': 0.18024254887123115, 'learning_rate': 0.0014614692555736351, 'activation': 'tanh', 'optimizer': 'rmsprop'}. Best is trial 0 with value: 0.47589653730392456.\n"
     ]
    },
    {
     "name": "stdout",
     "output_type": "stream",
     "text": [
      "\n",
      "------------------------------------------------------------------------------\n",
      "Progress: 21/50\n",
      "------------------------------------------------------------------------------\n",
      "\n"
     ]
    },
    {
     "name": "stderr",
     "output_type": "stream",
     "text": [
      "[I 2024-04-18 11:40:04,151] Trial 20 finished with value: 0.6225493550300598 and parameters: {'lstm_units': 20, 'dense_units': 14, 'dropout_rate': 0.5446289520457372, 'learning_rate': 0.00015520687370178796, 'activation': 'relu', 'optimizer': 'rmsprop'}. Best is trial 0 with value: 0.47589653730392456.\n"
     ]
    },
    {
     "name": "stdout",
     "output_type": "stream",
     "text": [
      "\n",
      "------------------------------------------------------------------------------\n",
      "Progress: 22/50\n",
      "------------------------------------------------------------------------------\n",
      "\n"
     ]
    },
    {
     "name": "stderr",
     "output_type": "stream",
     "text": [
      "[I 2024-04-18 11:57:27,499] Trial 21 finished with value: 0.6721357703208923 and parameters: {'lstm_units': 55, 'dense_units': 53, 'dropout_rate': 0.326704444213903, 'learning_rate': 6.196088913577153e-05, 'activation': 'relu', 'optimizer': 'rmsprop'}. Best is trial 0 with value: 0.47589653730392456.\n"
     ]
    },
    {
     "name": "stdout",
     "output_type": "stream",
     "text": [
      "\n",
      "------------------------------------------------------------------------------\n",
      "Progress: 23/50\n",
      "------------------------------------------------------------------------------\n",
      "\n"
     ]
    },
    {
     "name": "stderr",
     "output_type": "stream",
     "text": [
      "[I 2024-04-18 12:10:35,357] Trial 22 finished with value: 0.6980569958686829 and parameters: {'lstm_units': 45, 'dense_units': 51, 'dropout_rate': 0.32212637335134386, 'learning_rate': 8.722309252731422e-05, 'activation': 'relu', 'optimizer': 'rmsprop'}. Best is trial 0 with value: 0.47589653730392456.\n"
     ]
    },
    {
     "name": "stdout",
     "output_type": "stream",
     "text": [
      "\n",
      "------------------------------------------------------------------------------\n",
      "Progress: 24/50\n",
      "------------------------------------------------------------------------------\n",
      "\n"
     ]
    },
    {
     "name": "stderr",
     "output_type": "stream",
     "text": [
      "[I 2024-04-18 12:30:53,107] Trial 23 finished with value: 0.697855532169342 and parameters: {'lstm_units': 54, 'dense_units': 37, 'dropout_rate': 0.4242276706164504, 'learning_rate': 3.5953977937904084e-05, 'activation': 'relu', 'optimizer': 'rmsprop'}. Best is trial 0 with value: 0.47589653730392456.\n"
     ]
    },
    {
     "name": "stdout",
     "output_type": "stream",
     "text": [
      "\n",
      "------------------------------------------------------------------------------\n",
      "Progress: 25/50\n",
      "------------------------------------------------------------------------------\n",
      "\n"
     ]
    },
    {
     "name": "stderr",
     "output_type": "stream",
     "text": [
      "[I 2024-04-18 12:56:43,671] Trial 24 finished with value: 0.680474579334259 and parameters: {'lstm_units': 39, 'dense_units': 56, 'dropout_rate': 0.33979479848549665, 'learning_rate': 1.846366186921522e-05, 'activation': 'relu', 'optimizer': 'rmsprop'}. Best is trial 0 with value: 0.47589653730392456.\n"
     ]
    },
    {
     "name": "stdout",
     "output_type": "stream",
     "text": [
      "\n",
      "------------------------------------------------------------------------------\n",
      "Progress: 26/50\n",
      "------------------------------------------------------------------------------\n",
      "\n"
     ]
    },
    {
     "name": "stderr",
     "output_type": "stream",
     "text": [
      "[I 2024-04-18 13:11:18,550] Trial 25 finished with value: 0.6663628220558167 and parameters: {'lstm_units': 45, 'dense_units': 64, 'dropout_rate': 0.20794381542326557, 'learning_rate': 0.00010085093048531182, 'activation': 'relu', 'optimizer': 'rmsprop'}. Best is trial 0 with value: 0.47589653730392456.\n"
     ]
    },
    {
     "name": "stdout",
     "output_type": "stream",
     "text": [
      "\n",
      "------------------------------------------------------------------------------\n",
      "Progress: 27/50\n",
      "------------------------------------------------------------------------------\n",
      "\n"
     ]
    },
    {
     "name": "stderr",
     "output_type": "stream",
     "text": [
      "[I 2024-04-18 13:27:13,905] Trial 26 finished with value: 0.6039205193519592 and parameters: {'lstm_units': 50, 'dense_units': 48, 'dropout_rate': 0.4032606036213035, 'learning_rate': 0.0002562213528688525, 'activation': 'tanh', 'optimizer': 'adam'}. Best is trial 0 with value: 0.47589653730392456.\n"
     ]
    },
    {
     "name": "stdout",
     "output_type": "stream",
     "text": [
      "\n",
      "------------------------------------------------------------------------------\n",
      "Progress: 28/50\n",
      "------------------------------------------------------------------------------\n",
      "\n"
     ]
    },
    {
     "name": "stderr",
     "output_type": "stream",
     "text": [
      "[I 2024-04-18 13:49:21,443] Trial 27 finished with value: 0.7110491394996643 and parameters: {'lstm_units': 58, 'dense_units': 37, 'dropout_rate': 0.26534377827204647, 'learning_rate': 1.9857966546384568e-05, 'activation': 'relu', 'optimizer': 'rmsprop'}. Best is trial 0 with value: 0.47589653730392456.\n"
     ]
    },
    {
     "name": "stdout",
     "output_type": "stream",
     "text": [
      "\n",
      "------------------------------------------------------------------------------\n",
      "Progress: 29/50\n",
      "------------------------------------------------------------------------------\n",
      "\n"
     ]
    },
    {
     "name": "stderr",
     "output_type": "stream",
     "text": [
      "[I 2024-04-18 14:07:23,821] Trial 28 finished with value: 0.6946616172790527 and parameters: {'lstm_units': 33, 'dense_units': 55, 'dropout_rate': 0.17083002948437087, 'learning_rate': 3.701212349133302e-05, 'activation': 'tanh', 'optimizer': 'rmsprop'}. Best is trial 0 with value: 0.47589653730392456.\n"
     ]
    },
    {
     "name": "stdout",
     "output_type": "stream",
     "text": [
      "\n",
      "------------------------------------------------------------------------------\n",
      "Progress: 30/50\n",
      "------------------------------------------------------------------------------\n",
      "\n"
     ]
    },
    {
     "name": "stderr",
     "output_type": "stream",
     "text": [
      "[I 2024-04-18 14:10:32,058] Trial 29 finished with value: 0.6937410235404968 and parameters: {'lstm_units': 14, 'dense_units': 47, 'dropout_rate': 0.3623326935332127, 'learning_rate': 0.0003766415421914831, 'activation': 'relu', 'optimizer': 'rmsprop'}. Best is trial 0 with value: 0.47589653730392456.\n"
     ]
    },
    {
     "name": "stdout",
     "output_type": "stream",
     "text": [
      "\n",
      "------------------------------------------------------------------------------\n",
      "Progress: 31/50\n",
      "------------------------------------------------------------------------------\n",
      "\n"
     ]
    },
    {
     "name": "stderr",
     "output_type": "stream",
     "text": [
      "[I 2024-04-18 14:14:26,288] Trial 30 finished with value: 0.7204755544662476 and parameters: {'lstm_units': 49, 'dense_units': 34, 'dropout_rate': 0.4789288014304549, 'learning_rate': 6.682605457411831e-05, 'activation': 'relu', 'optimizer': 'rmsprop'}. Best is trial 0 with value: 0.47589653730392456.\n"
     ]
    },
    {
     "name": "stdout",
     "output_type": "stream",
     "text": [
      "\n",
      "------------------------------------------------------------------------------\n",
      "Progress: 32/50\n",
      "------------------------------------------------------------------------------\n",
      "\n"
     ]
    },
    {
     "name": "stderr",
     "output_type": "stream",
     "text": [
      "[I 2024-04-18 14:20:59,171] Trial 31 finished with value: 0.5660979747772217 and parameters: {'lstm_units': 10, 'dense_units': 42, 'dropout_rate': 0.6909113975751239, 'learning_rate': 2.418881189515426e-05, 'activation': 'relu', 'optimizer': 'rmsprop'}. Best is trial 0 with value: 0.47589653730392456.\n"
     ]
    },
    {
     "name": "stdout",
     "output_type": "stream",
     "text": [
      "\n",
      "------------------------------------------------------------------------------\n",
      "Progress: 33/50\n",
      "------------------------------------------------------------------------------\n",
      "\n"
     ]
    },
    {
     "name": "stderr",
     "output_type": "stream",
     "text": [
      "[I 2024-04-18 14:29:51,136] Trial 32 finished with value: 0.6435293555259705 and parameters: {'lstm_units': 13, 'dense_units': 44, 'dropout_rate': 0.5550709175847189, 'learning_rate': 1.3776981193468868e-05, 'activation': 'relu', 'optimizer': 'rmsprop'}. Best is trial 0 with value: 0.47589653730392456.\n"
     ]
    },
    {
     "name": "stdout",
     "output_type": "stream",
     "text": [
      "\n",
      "------------------------------------------------------------------------------\n",
      "Progress: 34/50\n",
      "------------------------------------------------------------------------------\n",
      "\n"
     ]
    },
    {
     "name": "stderr",
     "output_type": "stream",
     "text": [
      "[I 2024-04-18 14:34:10,754] Trial 33 finished with value: 0.7463875412940979 and parameters: {'lstm_units': 9, 'dense_units': 59, 'dropout_rate': 0.5844883627483952, 'learning_rate': 0.0035096677604943972, 'activation': 'relu', 'optimizer': 'rmsprop'}. Best is trial 0 with value: 0.47589653730392456.\n"
     ]
    },
    {
     "name": "stdout",
     "output_type": "stream",
     "text": [
      "\n",
      "------------------------------------------------------------------------------\n",
      "Progress: 35/50\n",
      "------------------------------------------------------------------------------\n",
      "\n"
     ]
    },
    {
     "name": "stderr",
     "output_type": "stream",
     "text": [
      "[I 2024-04-18 14:38:55,870] Trial 34 finished with value: 0.6044493913650513 and parameters: {'lstm_units': 18, 'dense_units': 61, 'dropout_rate': 0.6194295802026659, 'learning_rate': 4.4070832217710465e-05, 'activation': 'relu', 'optimizer': 'rmsprop'}. Best is trial 0 with value: 0.47589653730392456.\n"
     ]
    },
    {
     "name": "stdout",
     "output_type": "stream",
     "text": [
      "\n",
      "------------------------------------------------------------------------------\n",
      "Progress: 36/50\n",
      "------------------------------------------------------------------------------\n",
      "\n"
     ]
    },
    {
     "name": "stderr",
     "output_type": "stream",
     "text": [
      "[I 2024-04-18 14:42:03,011] Trial 35 finished with value: 0.6410463452339172 and parameters: {'lstm_units': 25, 'dense_units': 50, 'dropout_rate': 0.3980106583514581, 'learning_rate': 0.0001306028309157112, 'activation': 'relu', 'optimizer': 'rmsprop'}. Best is trial 0 with value: 0.47589653730392456.\n"
     ]
    },
    {
     "name": "stdout",
     "output_type": "stream",
     "text": [
      "\n",
      "------------------------------------------------------------------------------\n",
      "Progress: 37/50\n",
      "------------------------------------------------------------------------------\n",
      "\n"
     ]
    },
    {
     "name": "stderr",
     "output_type": "stream",
     "text": [
      "[I 2024-04-18 14:47:57,885] Trial 36 finished with value: 0.6625829339027405 and parameters: {'lstm_units': 40, 'dense_units': 41, 'dropout_rate': 0.5354527699844939, 'learning_rate': 2.6759368662598993e-05, 'activation': 'relu', 'optimizer': 'rmsprop'}. Best is trial 0 with value: 0.47589653730392456.\n"
     ]
    },
    {
     "name": "stdout",
     "output_type": "stream",
     "text": [
      "\n",
      "------------------------------------------------------------------------------\n",
      "Progress: 38/50\n",
      "------------------------------------------------------------------------------\n",
      "\n"
     ]
    },
    {
     "name": "stderr",
     "output_type": "stream",
     "text": [
      "[I 2024-04-18 14:58:35,812] Trial 37 finished with value: 0.6702442169189453 and parameters: {'lstm_units': 63, 'dense_units': 54, 'dropout_rate': 0.45149915505698757, 'learning_rate': 1.1901136041806284e-05, 'activation': 'tanh', 'optimizer': 'adam'}. Best is trial 0 with value: 0.47589653730392456.\n"
     ]
    },
    {
     "name": "stdout",
     "output_type": "stream",
     "text": [
      "\n",
      "------------------------------------------------------------------------------\n",
      "Progress: 39/50\n",
      "------------------------------------------------------------------------------\n",
      "\n"
     ]
    },
    {
     "name": "stderr",
     "output_type": "stream",
     "text": [
      "[I 2024-04-18 15:05:17,951] Trial 38 finished with value: 0.6609421372413635 and parameters: {'lstm_units': 58, 'dense_units': 40, 'dropout_rate': 0.6456118674700387, 'learning_rate': 2.4807729298970574e-05, 'activation': 'relu', 'optimizer': 'rmsprop'}. Best is trial 0 with value: 0.47589653730392456.\n"
     ]
    },
    {
     "name": "stdout",
     "output_type": "stream",
     "text": [
      "\n",
      "------------------------------------------------------------------------------\n",
      "Progress: 40/50\n",
      "------------------------------------------------------------------------------\n",
      "\n"
     ]
    },
    {
     "name": "stderr",
     "output_type": "stream",
     "text": [
      "[I 2024-04-18 15:10:31,059] Trial 39 finished with value: 0.6928246021270752 and parameters: {'lstm_units': 43, 'dense_units': 45, 'dropout_rate': 0.3067472057227375, 'learning_rate': 4.0681404839439606e-05, 'activation': 'tanh', 'optimizer': 'rmsprop'}. Best is trial 0 with value: 0.47589653730392456.\n"
     ]
    },
    {
     "name": "stdout",
     "output_type": "stream",
     "text": [
      "\n",
      "------------------------------------------------------------------------------\n",
      "Progress: 41/50\n",
      "------------------------------------------------------------------------------\n",
      "\n"
     ]
    },
    {
     "name": "stderr",
     "output_type": "stream",
     "text": [
      "[I 2024-04-18 15:15:11,808] Trial 40 finished with value: 0.6516917943954468 and parameters: {'lstm_units': 37, 'dense_units': 58, 'dropout_rate': 0.5961119762918484, 'learning_rate': 7.736566505432505e-05, 'activation': 'relu', 'optimizer': 'adam'}. Best is trial 0 with value: 0.47589653730392456.\n"
     ]
    },
    {
     "name": "stdout",
     "output_type": "stream",
     "text": [
      "\n",
      "------------------------------------------------------------------------------\n",
      "Progress: 42/50\n",
      "------------------------------------------------------------------------------\n",
      "\n"
     ]
    },
    {
     "name": "stderr",
     "output_type": "stream",
     "text": [
      "[I 2024-04-18 15:18:19,575] Trial 41 finished with value: 0.740812361240387 and parameters: {'lstm_units': 16, 'dense_units': 30, 'dropout_rate': 0.36821396342320867, 'learning_rate': 0.006799032696043454, 'activation': 'relu', 'optimizer': 'rmsprop'}. Best is trial 0 with value: 0.47589653730392456.\n"
     ]
    },
    {
     "name": "stdout",
     "output_type": "stream",
     "text": [
      "\n",
      "------------------------------------------------------------------------------\n",
      "Progress: 43/50\n",
      "------------------------------------------------------------------------------\n",
      "\n"
     ]
    },
    {
     "name": "stderr",
     "output_type": "stream",
     "text": [
      "[I 2024-04-18 15:23:08,713] Trial 42 finished with value: 0.8284052610397339 and parameters: {'lstm_units': 12, 'dense_units': 24, 'dropout_rate': 0.2413232826075324, 'learning_rate': 0.0034466081923135504, 'activation': 'relu', 'optimizer': 'rmsprop'}. Best is trial 0 with value: 0.47589653730392456.\n"
     ]
    },
    {
     "name": "stdout",
     "output_type": "stream",
     "text": [
      "\n",
      "------------------------------------------------------------------------------\n",
      "Progress: 44/50\n",
      "------------------------------------------------------------------------------\n",
      "\n"
     ]
    },
    {
     "name": "stderr",
     "output_type": "stream",
     "text": [
      "[I 2024-04-18 15:26:16,741] Trial 43 finished with value: 0.8291199207305908 and parameters: {'lstm_units': 8, 'dense_units': 14, 'dropout_rate': 0.39294074802201473, 'learning_rate': 0.0009293047526696333, 'activation': 'relu', 'optimizer': 'rmsprop'}. Best is trial 0 with value: 0.47589653730392456.\n"
     ]
    },
    {
     "name": "stdout",
     "output_type": "stream",
     "text": [
      "\n",
      "------------------------------------------------------------------------------\n",
      "Progress: 45/50\n",
      "------------------------------------------------------------------------------\n",
      "\n"
     ]
    },
    {
     "name": "stderr",
     "output_type": "stream",
     "text": [
      "[I 2024-04-18 15:29:23,180] Trial 44 finished with value: 0.7449862360954285 and parameters: {'lstm_units': 26, 'dense_units': 8, 'dropout_rate': 0.5101296988216022, 'learning_rate': 0.0005088201155465336, 'activation': 'tanh', 'optimizer': 'rmsprop'}. Best is trial 0 with value: 0.47589653730392456.\n"
     ]
    },
    {
     "name": "stdout",
     "output_type": "stream",
     "text": [
      "\n",
      "------------------------------------------------------------------------------\n",
      "Progress: 46/50\n",
      "------------------------------------------------------------------------------\n",
      "\n"
     ]
    },
    {
     "name": "stderr",
     "output_type": "stream",
     "text": [
      "[I 2024-04-18 15:34:46,409] Trial 45 finished with value: 0.8072131872177124 and parameters: {'lstm_units': 18, 'dense_units': 39, 'dropout_rate': 0.6924057996168278, 'learning_rate': 0.00882386462771546, 'activation': 'relu', 'optimizer': 'rmsprop'}. Best is trial 0 with value: 0.47589653730392456.\n"
     ]
    },
    {
     "name": "stdout",
     "output_type": "stream",
     "text": [
      "\n",
      "------------------------------------------------------------------------------\n",
      "Progress: 47/50\n",
      "------------------------------------------------------------------------------\n",
      "\n"
     ]
    },
    {
     "name": "stderr",
     "output_type": "stream",
     "text": [
      "[I 2024-04-18 15:38:43,590] Trial 46 finished with value: 0.6580137014389038 and parameters: {'lstm_units': 11, 'dense_units': 33, 'dropout_rate': 0.4840632915101044, 'learning_rate': 0.00339093466135824, 'activation': 'tanh', 'optimizer': 'adam'}. Best is trial 0 with value: 0.47589653730392456.\n"
     ]
    },
    {
     "name": "stdout",
     "output_type": "stream",
     "text": [
      "\n",
      "------------------------------------------------------------------------------\n",
      "Progress: 48/50\n",
      "------------------------------------------------------------------------------\n",
      "\n"
     ]
    },
    {
     "name": "stderr",
     "output_type": "stream",
     "text": [
      "[I 2024-04-18 15:48:27,226] Trial 47 finished with value: 0.6340638995170593 and parameters: {'lstm_units': 30, 'dense_units': 43, 'dropout_rate': 0.41655449852859605, 'learning_rate': 1.5647838482023354e-05, 'activation': 'relu', 'optimizer': 'rmsprop'}. Best is trial 0 with value: 0.47589653730392456.\n"
     ]
    },
    {
     "name": "stdout",
     "output_type": "stream",
     "text": [
      "\n",
      "------------------------------------------------------------------------------\n",
      "Progress: 49/50\n",
      "------------------------------------------------------------------------------\n",
      "\n"
     ]
    },
    {
     "name": "stderr",
     "output_type": "stream",
     "text": [
      "[I 2024-04-18 15:54:35,032] Trial 48 finished with value: 0.6426784992218018 and parameters: {'lstm_units': 32, 'dense_units': 49, 'dropout_rate': 0.35027293349398375, 'learning_rate': 2.831286837138075e-05, 'activation': 'tanh', 'optimizer': 'rmsprop'}. Best is trial 0 with value: 0.47589653730392456.\n"
     ]
    },
    {
     "name": "stdout",
     "output_type": "stream",
     "text": [
      "\n",
      "------------------------------------------------------------------------------\n",
      "Progress: 50/50\n",
      "------------------------------------------------------------------------------\n",
      "\n"
     ]
    },
    {
     "name": "stderr",
     "output_type": "stream",
     "text": [
      "[I 2024-04-18 16:05:31,844] Trial 49 finished with value: 0.6312744617462158 and parameters: {'lstm_units': 47, 'dense_units': 61, 'dropout_rate': 0.10513553942121873, 'learning_rate': 1.0540760129393154e-05, 'activation': 'relu', 'optimizer': 'rmsprop'}. Best is trial 0 with value: 0.47589653730392456.\n"
     ]
    }
   ],
   "source": [
    "# Exécution de l'optimisation avec Optuna\n",
    "trial_number = 50\n",
    "pruner = optuna.pruners.PercentilePruner(\n",
    "    percentile=40, \n",
    "    n_startup_trials=5, \n",
    "    n_warmup_steps=3\n",
    ")\n",
    "\n",
    "study = optuna.create_study(direction='minimize', pruner=pruner, sampler=optuna.samplers.TPESampler(), storage='sqlite:///study.db', study_name=\"projet-7_lstm_model\")\n",
    "\n",
    "study.optimize(objective, n_trials=trial_number)"
   ]
  },
  {
   "cell_type": "markdown",
   "metadata": {},
   "source": [
    "#### Résultats"
   ]
  },
  {
   "cell_type": "code",
   "execution_count": 98,
   "metadata": {},
   "outputs": [],
   "source": [
    "# Créer un dataframe des résultats de l'études\n",
    "\n",
    "df_study = study.trials_dataframe().sort_values(by='value', ascending=True)\n",
    "df_study = df_study.drop(columns=['datetime_start', 'datetime_complete', 'state', 'number', 'duration'])\n",
    "df_study = pd.get_dummies(df_study, columns=['params_activation', 'params_optimizer'])\n",
    "# Selectionner les colonnes créées par get_dummmies\n",
    "dummy_columns = [col for col in df_study.columns if 'params_activation' in col or 'params_optimizer' in col]\n",
    "# Convertir ces colonnes en 0 et 1\n",
    "df_study[dummy_columns] = df_study[dummy_columns].astype(int)"
   ]
  },
  {
   "cell_type": "code",
   "execution_count": 100,
   "metadata": {},
   "outputs": [
    {
     "data": {
      "text/html": [
       "<div>\n",
       "<style scoped>\n",
       "    .dataframe tbody tr th:only-of-type {\n",
       "        vertical-align: middle;\n",
       "    }\n",
       "\n",
       "    .dataframe tbody tr th {\n",
       "        vertical-align: top;\n",
       "    }\n",
       "\n",
       "    .dataframe thead th {\n",
       "        text-align: right;\n",
       "    }\n",
       "</style>\n",
       "<table border=\"1\" class=\"dataframe\">\n",
       "  <thead>\n",
       "    <tr style=\"text-align: right;\">\n",
       "      <th></th>\n",
       "      <th>value</th>\n",
       "      <th>params_dense_units</th>\n",
       "      <th>params_dropout_rate</th>\n",
       "      <th>params_learning_rate</th>\n",
       "      <th>params_lstm_units</th>\n",
       "      <th>params_activation_relu</th>\n",
       "      <th>params_activation_tanh</th>\n",
       "      <th>params_optimizer_adam</th>\n",
       "      <th>params_optimizer_rmsprop</th>\n",
       "    </tr>\n",
       "  </thead>\n",
       "  <tbody>\n",
       "    <tr>\n",
       "      <th>mean_first_10</th>\n",
       "      <td>0.541752</td>\n",
       "      <td>42.60</td>\n",
       "      <td>0.503267</td>\n",
       "      <td>0.000820</td>\n",
       "      <td>35.60</td>\n",
       "      <td>0.60</td>\n",
       "      <td>0.40</td>\n",
       "      <td>0.30</td>\n",
       "      <td>0.70</td>\n",
       "    </tr>\n",
       "    <tr>\n",
       "      <th>mean_first_half</th>\n",
       "      <td>0.592793</td>\n",
       "      <td>37.44</td>\n",
       "      <td>0.417013</td>\n",
       "      <td>0.000485</td>\n",
       "      <td>34.00</td>\n",
       "      <td>0.56</td>\n",
       "      <td>0.44</td>\n",
       "      <td>0.20</td>\n",
       "      <td>0.80</td>\n",
       "    </tr>\n",
       "    <tr>\n",
       "      <th>mean_last_half</th>\n",
       "      <td>0.702953</td>\n",
       "      <td>43.52</td>\n",
       "      <td>0.403350</td>\n",
       "      <td>0.001403</td>\n",
       "      <td>35.76</td>\n",
       "      <td>0.76</td>\n",
       "      <td>0.24</td>\n",
       "      <td>0.16</td>\n",
       "      <td>0.84</td>\n",
       "    </tr>\n",
       "    <tr>\n",
       "      <th>mean_last_10</th>\n",
       "      <td>0.752436</td>\n",
       "      <td>33.30</td>\n",
       "      <td>0.428013</td>\n",
       "      <td>0.002423</td>\n",
       "      <td>29.50</td>\n",
       "      <td>0.90</td>\n",
       "      <td>0.10</td>\n",
       "      <td>0.00</td>\n",
       "      <td>1.00</td>\n",
       "    </tr>\n",
       "  </tbody>\n",
       "</table>\n",
       "</div>"
      ],
      "text/plain": [
       "                    value  params_dense_units  params_dropout_rate  \\\n",
       "mean_first_10    0.541752               42.60             0.503267   \n",
       "mean_first_half  0.592793               37.44             0.417013   \n",
       "mean_last_half   0.702953               43.52             0.403350   \n",
       "mean_last_10     0.752436               33.30             0.428013   \n",
       "\n",
       "                 params_learning_rate  params_lstm_units  \\\n",
       "mean_first_10                0.000820              35.60   \n",
       "mean_first_half              0.000485              34.00   \n",
       "mean_last_half               0.001403              35.76   \n",
       "mean_last_10                 0.002423              29.50   \n",
       "\n",
       "                 params_activation_relu  params_activation_tanh  \\\n",
       "mean_first_10                      0.60                    0.40   \n",
       "mean_first_half                    0.56                    0.44   \n",
       "mean_last_half                     0.76                    0.24   \n",
       "mean_last_10                       0.90                    0.10   \n",
       "\n",
       "                 params_optimizer_adam  params_optimizer_rmsprop  \n",
       "mean_first_10                     0.30                      0.70  \n",
       "mean_first_half                   0.20                      0.80  \n",
       "mean_last_half                    0.16                      0.84  \n",
       "mean_last_10                      0.00                      1.00  "
      ]
     },
     "execution_count": 100,
     "metadata": {},
     "output_type": "execute_result"
    }
   ],
   "source": [
    "# Calculer un dataframe avec la moyennes des 10 premières lignes, première moitié, dernière moitié et dix dernières lignes\n",
    " \n",
    "mean_first_10 = df_study.iloc[:10].mean()\n",
    "mean_last_10 = df_study.iloc[-10:].mean()\n",
    "mean_first_half = df_study.iloc[:25].mean()\n",
    "mean_last_half = df_study.iloc[-25:].mean()\n",
    "mean_df = pd.concat([mean_first_10, mean_first_half, mean_last_half, mean_last_10], axis=1)\n",
    "mean_df.columns = ['mean_first_10', 'mean_first_half', 'mean_last_half', 'mean_last_10']\n",
    "mean_df = mean_df.transpose()\n",
    "\n",
    "mean_df"
   ]
  },
  {
   "cell_type": "code",
   "execution_count": 117,
   "metadata": {},
   "outputs": [
    {
     "data": {
      "image/png": "[encoded data removed]",
      "text/plain": [
       "<Figure size 2500x600 with 1 Axes>"
      ]
     },
     "metadata": {},
     "output_type": "display_data"
    }
   ],
   "source": [
    "from sklearn.preprocessing import MinMaxScaler\n",
    "import matplotlib.pyplot as plt\n",
    "\n",
    "# Create a scaler object\n",
    "scaler = MinMaxScaler()\n",
    "\n",
    "# Fit the scaler to the data and transform the data\n",
    "mean_df_scaled = pd.DataFrame(scaler.fit_transform(mean_df), columns=mean_df.columns)\n",
    "mean_df_scaled = mean_df_scaled * 0.8 + 0.2\n",
    "# Unstack the DataFrame\n",
    "mean_df_scaled_transposed = mean_df_scaled.transpose()\n",
    "\n",
    "# Plot the transposed data as a grouped bar chart\n",
    "mean_df_scaled_transposed.plot.bar(width=.8, colormap='viridis', figsize=(25, 6))\n",
    "plt.legend(bbox_to_anchor=(1.05, 1), loc='upper left')\n",
    "plt.show()"
   ]
  },
  {
   "cell_type": "code",
   "execution_count": 73,
   "metadata": {},
   "outputs": [
    {
     "data": {
      "application/vnd.plotly.v1+json": {
       "config": {
        "plotlyServerURL": "https://plot.ly"
       },
       "data": [
        {
         "mode": "markers",
         "name": "Objective Value",
         "type": "scatter",
         "x": [
          0,
          1,
          2,
          3,
          4,
          5,
          6,
          7,
          8,
          9,
          10,
          11,
          12,
          13,
          14,
          15,
          16,
          17,
          18,
          19,
          20,
          21,
          22,
          23,
          24,
          25,
          26,
          27,
          28,
          29,
          30,
          31,
          32,
          33,
          34,
          35,
          36,
          37,
          38,
          39,
          40,
          41,
          42,
          43,
          44,
          45,
          46,
          47,
          48,
          49
         ],
         "y": [
          0.47589653730392456,
          0.48116743564605713,
          0.5411349534988403,
          0.6649969816207886,
          0.5151749849319458,
          0.621676504611969,
          0.5862017869949341,
          0.574613094329834,
          0.5604071021080017,
          0.5317298173904419,
          0.5850993990898132,
          0.6441192030906677,
          0.6438692808151245,
          0.5989691615104675,
          0.5912949442863464,
          0.6590693593025208,
          0.6615114212036133,
          0.6502608060836792,
          0.6602199077606201,
          0.6286000609397888,
          0.6225493550300598,
          0.6721357703208923,
          0.6980569958686829,
          0.697855532169342,
          0.680474579334259,
          0.6663628220558167,
          0.6039205193519592,
          0.7110491394996643,
          0.6946616172790527,
          0.6937410235404968,
          0.7204755544662476,
          0.5660979747772217,
          0.6435293555259705,
          0.7463875412940979,
          0.6044493913650513,
          0.6410463452339172,
          0.6625829339027405,
          0.6702442169189453,
          0.6609421372413635,
          0.6928246021270752,
          0.6516917943954468,
          0.740812361240387,
          0.8284052610397339,
          0.8291199207305908,
          0.7449862360954285,
          0.8072131872177124,
          0.6580137014389038,
          0.6340638995170593,
          0.6426784992218018,
          0.6312744617462158
         ]
        },
        {
         "mode": "lines",
         "name": "Best Value",
         "type": "scatter",
         "x": [
          0,
          1,
          2,
          3,
          4,
          5,
          6,
          7,
          8,
          9,
          10,
          11,
          12,
          13,
          14,
          15,
          16,
          17,
          18,
          19,
          20,
          21,
          22,
          23,
          24,
          25,
          26,
          27,
          28,
          29,
          30,
          31,
          32,
          33,
          34,
          35,
          36,
          37,
          38,
          39,
          40,
          41,
          42,
          43,
          44,
          45,
          46,
          47,
          48,
          49
         ],
         "y": [
          0.47589653730392456,
          0.47589653730392456,
          0.47589653730392456,
          0.47589653730392456,
          0.47589653730392456,
          0.47589653730392456,
          0.47589653730392456,
          0.47589653730392456,
          0.47589653730392456,
          0.47589653730392456,
          0.47589653730392456,
          0.47589653730392456,
          0.47589653730392456,
          0.47589653730392456,
          0.47589653730392456,
          0.47589653730392456,
          0.47589653730392456,
          0.47589653730392456,
          0.47589653730392456,
          0.47589653730392456,
          0.47589653730392456,
          0.47589653730392456,
          0.47589653730392456,
          0.47589653730392456,
          0.47589653730392456,
          0.47589653730392456,
          0.47589653730392456,
          0.47589653730392456,
          0.47589653730392456,
          0.47589653730392456,
          0.47589653730392456,
          0.47589653730392456,
          0.47589653730392456,
          0.47589653730392456,
          0.47589653730392456,
          0.47589653730392456,
          0.47589653730392456,
          0.47589653730392456,
          0.47589653730392456,
          0.47589653730392456,
          0.47589653730392456,
          0.47589653730392456,
          0.47589653730392456,
          0.47589653730392456,
          0.47589653730392456,
          0.47589653730392456,
          0.47589653730392456,
          0.47589653730392456,
          0.47589653730392456,
          0.47589653730392456
         ]
        },
        {
         "marker": {
          "color": "#cccccc"
         },
         "mode": "markers",
         "name": "Infeasible Trial",
         "showlegend": false,
         "type": "scatter",
         "x": [],
         "y": []
        }
       ],
       "layout": {
        "template": {
         "data": {
          "bar": [
           {
            "error_x": {
             "color": "#2a3f5f"
            },
            "error_y": {
             "color": "#2a3f5f"
            },
            "marker": {
             "line": {
              "color": "#E5ECF6",
              "width": 0.5
             },
             "pattern": {
              "fillmode": "overlay",
              "size": 10,
              "solidity": 0.2
             }
            },
            "type": "bar"
           }
          ],
          "barpolar": [
           {
            "marker": {
             "line": {
              "color": "#E5ECF6",
              "width": 0.5
             },
             "pattern": {
              "fillmode": "overlay",
              "size": 10,
              "solidity": 0.2
             }
            },
            "type": "barpolar"
           }
          ],
          "carpet": [
           {
            "aaxis": {
             "endlinecolor": "#2a3f5f",
             "gridcolor": "white",
             "linecolor": "white",
             "minorgridcolor": "white",
             "startlinecolor": "#2a3f5f"
            },
            "baxis": {
             "endlinecolor": "#2a3f5f",
             "gridcolor": "white",
             "linecolor": "white",
             "minorgridcolor": "white",
             "startlinecolor": "#2a3f5f"
            },
            "type": "carpet"
           }
          ],
          "choropleth": [
           {
            "colorbar": {
             "outlinewidth": 0,
             "ticks": ""
            },
            "type": "choropleth"
           }
          ],
          "contour": [
           {
            "colorbar": {
             "outlinewidth": 0,
             "ticks": ""
            },
            "colorscale": [
             [
              0,
              "#0d0887"
             ],
             [
              0.1111111111111111,
              "#46039f"
             ],
             [
              0.2222222222222222,
              "#7201a8"
             ],
             [
              0.3333333333333333,
              "#9c179e"
             ],
             [
              0.4444444444444444,
              "#bd3786"
             ],
             [
              0.5555555555555556,
              "#d8576b"
             ],
             [
              0.6666666666666666,
              "#ed7953"
             ],
             [
              0.7777777777777778,
              "#fb9f3a"
             ],
             [
              0.8888888888888888,
              "#fdca26"
             ],
             [
              1,
              "#f0f921"
             ]
            ],
            "type": "contour"
           }
          ],
          "contourcarpet": [
           {
            "colorbar": {
             "outlinewidth": 0,
             "ticks": ""
            },
            "type": "contourcarpet"
           }
          ],
          "heatmap": [
           {
            "colorbar": {
             "outlinewidth": 0,
             "ticks": ""
            },
            "colorscale": [
             [
              0,
              "#0d0887"
             ],
             [
              0.1111111111111111,
              "#46039f"
             ],
             [
              0.2222222222222222,
              "#7201a8"
             ],
             [
              0.3333333333333333,
              "#9c179e"
             ],
             [
              0.4444444444444444,
              "#bd3786"
             ],
             [
              0.5555555555555556,
              "#d8576b"
             ],
             [
              0.6666666666666666,
              "#ed7953"
             ],
             [
              0.7777777777777778,
              "#fb9f3a"
             ],
             [
              0.8888888888888888,
              "#fdca26"
             ],
             [
              1,
              "#f0f921"
             ]
            ],
            "type": "heatmap"
           }
          ],
          "heatmapgl": [
           {
            "colorbar": {
             "outlinewidth": 0,
             "ticks": ""
            },
            "colorscale": [
             [
              0,
              "#0d0887"
             ],
             [
              0.1111111111111111,
              "#46039f"
             ],
             [
              0.2222222222222222,
              "#7201a8"
             ],
             [
              0.3333333333333333,
              "#9c179e"
             ],
             [
              0.4444444444444444,
              "#bd3786"
             ],
             [
              0.5555555555555556,
              "#d8576b"
             ],
             [
              0.6666666666666666,
              "#ed7953"
             ],
             [
              0.7777777777777778,
              "#fb9f3a"
             ],
             [
              0.8888888888888888,
              "#fdca26"
             ],
             [
              1,
              "#f0f921"
             ]
            ],
            "type": "heatmapgl"
           }
          ],
          "histogram": [
           {
            "marker": {
             "pattern": {
              "fillmode": "overlay",
              "size": 10,
              "solidity": 0.2
             }
            },
            "type": "histogram"
           }
          ],
          "histogram2d": [
           {
            "colorbar": {
             "outlinewidth": 0,
             "ticks": ""
            },
            "colorscale": [
             [
              0,
              "#0d0887"
             ],
             [
              0.1111111111111111,
              "#46039f"
             ],
             [
              0.2222222222222222,
              "#7201a8"
             ],
             [
              0.3333333333333333,
              "#9c179e"
             ],
             [
              0.4444444444444444,
              "#bd3786"
             ],
             [
              0.5555555555555556,
              "#d8576b"
             ],
             [
              0.6666666666666666,
              "#ed7953"
             ],
             [
              0.7777777777777778,
              "#fb9f3a"
             ],
             [
              0.8888888888888888,
              "#fdca26"
             ],
             [
              1,
              "#f0f921"
             ]
            ],
            "type": "histogram2d"
           }
          ],
          "histogram2dcontour": [
           {
            "colorbar": {
             "outlinewidth": 0,
             "ticks": ""
            },
            "colorscale": [
             [
              0,
              "#0d0887"
             ],
             [
              0.1111111111111111,
              "#46039f"
             ],
             [
              0.2222222222222222,
              "#7201a8"
             ],
             [
              0.3333333333333333,
              "#9c179e"
             ],
             [
              0.4444444444444444,
              "#bd3786"
             ],
             [
              0.5555555555555556,
              "#d8576b"
             ],
             [
              0.6666666666666666,
              "#ed7953"
             ],
             [
              0.7777777777777778,
              "#fb9f3a"
             ],
             [
              0.8888888888888888,
              "#fdca26"
             ],
             [
              1,
              "#f0f921"
             ]
            ],
            "type": "histogram2dcontour"
           }
          ],
          "mesh3d": [
           {
            "colorbar": {
             "outlinewidth": 0,
             "ticks": ""
            },
            "type": "mesh3d"
           }
          ],
          "parcoords": [
           {
            "line": {
             "colorbar": {
              "outlinewidth": 0,
              "ticks": ""
             }
            },
            "type": "parcoords"
           }
          ],
          "pie": [
           {
            "automargin": true,
            "type": "pie"
           }
          ],
          "scatter": [
           {
            "fillpattern": {
             "fillmode": "overlay",
             "size": 10,
             "solidity": 0.2
            },
            "type": "scatter"
           }
          ],
          "scatter3d": [
           {
            "line": {
             "colorbar": {
              "outlinewidth": 0,
              "ticks": ""
             }
            },
            "marker": {
             "colorbar": {
              "outlinewidth": 0,
              "ticks": ""
             }
            },
            "type": "scatter3d"
           }
          ],
          "scattercarpet": [
           {
            "marker": {
             "colorbar": {
              "outlinewidth": 0,
              "ticks": ""
             }
            },
            "type": "scattercarpet"
           }
          ],
          "scattergeo": [
           {
            "marker": {
             "colorbar": {
              "outlinewidth": 0,
              "ticks": ""
             }
            },
            "type": "scattergeo"
           }
          ],
          "scattergl": [
           {
            "marker": {
             "colorbar": {
              "outlinewidth": 0,
              "ticks": ""
             }
            },
            "type": "scattergl"
           }
          ],
          "scattermapbox": [
           {
            "marker": {
             "colorbar": {
              "outlinewidth": 0,
              "ticks": ""
             }
            },
            "type": "scattermapbox"
           }
          ],
          "scatterpolar": [
           {
            "marker": {
             "colorbar": {
              "outlinewidth": 0,
              "ticks": ""
             }
            },
            "type": "scatterpolar"
           }
          ],
          "scatterpolargl": [
           {
            "marker": {
             "colorbar": {
              "outlinewidth": 0,
              "ticks": ""
             }
            },
            "type": "scatterpolargl"
           }
          ],
          "scatterternary": [
           {
            "marker": {
             "colorbar": {
              "outlinewidth": 0,
              "ticks": ""
             }
            },
            "type": "scatterternary"
           }
          ],
          "surface": [
           {
            "colorbar": {
             "outlinewidth": 0,
             "ticks": ""
            },
            "colorscale": [
             [
              0,
              "#0d0887"
             ],
             [
              0.1111111111111111,
              "#46039f"
             ],
             [
              0.2222222222222222,
              "#7201a8"
             ],
             [
              0.3333333333333333,
              "#9c179e"
             ],
             [
              0.4444444444444444,
              "#bd3786"
             ],
             [
              0.5555555555555556,
              "#d8576b"
             ],
             [
              0.6666666666666666,
              "#ed7953"
             ],
             [
              0.7777777777777778,
              "#fb9f3a"
             ],
             [
              0.8888888888888888,
              "#fdca26"
             ],
             [
              1,
              "#f0f921"
             ]
            ],
            "type": "surface"
           }
          ],
          "table": [
           {
            "cells": {
             "fill": {
              "color": "#EBF0F8"
             },
             "line": {
              "color": "white"
             }
            },
            "header": {
             "fill": {
              "color": "#C8D4E3"
             },
             "line": {
              "color": "white"
             }
            },
            "type": "table"
           }
          ]
         },
         "layout": {
          "annotationdefaults": {
           "arrowcolor": "#2a3f5f",
           "arrowhead": 0,
           "arrowwidth": 1
          },
          "autotypenumbers": "strict",
          "coloraxis": {
           "colorbar": {
            "outlinewidth": 0,
            "ticks": ""
           }
          },
          "colorscale": {
           "diverging": [
            [
             0,
             "#8e0152"
            ],
            [
             0.1,
             "#c51b7d"
            ],
            [
             0.2,
             "#de77ae"
            ],
            [
             0.3,
             "#f1b6da"
            ],
            [
             0.4,
             "#fde0ef"
            ],
            [
             0.5,
             "#f7f7f7"
            ],
            [
             0.6,
             "#e6f5d0"
            ],
            [
             0.7,
             "#b8e186"
            ],
            [
             0.8,
             "#7fbc41"
            ],
            [
             0.9,
             "#4d9221"
            ],
            [
             1,
             "#276419"
            ]
           ],
           "sequential": [
            [
             0,
             "#0d0887"
            ],
            [
             0.1111111111111111,
             "#46039f"
            ],
            [
             0.2222222222222222,
             "#7201a8"
            ],
            [
             0.3333333333333333,
             "#9c179e"
            ],
            [
             0.4444444444444444,
             "#bd3786"
            ],
            [
             0.5555555555555556,
             "#d8576b"
            ],
            [
             0.6666666666666666,
             "#ed7953"
            ],
            [
             0.7777777777777778,
             "#fb9f3a"
            ],
            [
             0.8888888888888888,
             "#fdca26"
            ],
            [
             1,
             "#f0f921"
            ]
           ],
           "sequentialminus": [
            [
             0,
             "#0d0887"
            ],
            [
             0.1111111111111111,
             "#46039f"
            ],
            [
             0.2222222222222222,
             "#7201a8"
            ],
            [
             0.3333333333333333,
             "#9c179e"
            ],
            [
             0.4444444444444444,
             "#bd3786"
            ],
            [
             0.5555555555555556,
             "#d8576b"
            ],
            [
             0.6666666666666666,
             "#ed7953"
            ],
            [
             0.7777777777777778,
             "#fb9f3a"
            ],
            [
             0.8888888888888888,
             "#fdca26"
            ],
            [
             1,
             "#f0f921"
            ]
           ]
          },
          "colorway": [
           "#636efa",
           "#EF553B",
           "#00cc96",
           "#ab63fa",
           "#FFA15A",
           "#19d3f3",
           "#FF6692",
           "#B6E880",
           "#FF97FF",
           "#FECB52"
          ],
          "font": {
           "color": "#2a3f5f"
          },
          "geo": {
           "bgcolor": "white",
           "lakecolor": "white",
           "landcolor": "#E5ECF6",
           "showlakes": true,
           "showland": true,
           "subunitcolor": "white"
          },
          "hoverlabel": {
           "align": "left"
          },
          "hovermode": "closest",
          "mapbox": {
           "style": "light"
          },
          "paper_bgcolor": "white",
          "plot_bgcolor": "#E5ECF6",
          "polar": {
           "angularaxis": {
            "gridcolor": "white",
            "linecolor": "white",
            "ticks": ""
           },
           "bgcolor": "#E5ECF6",
           "radialaxis": {
            "gridcolor": "white",
            "linecolor": "white",
            "ticks": ""
           }
          },
          "scene": {
           "xaxis": {
            "backgroundcolor": "#E5ECF6",
            "gridcolor": "white",
            "gridwidth": 2,
            "linecolor": "white",
            "showbackground": true,
            "ticks": "",
            "zerolinecolor": "white"
           },
           "yaxis": {
            "backgroundcolor": "#E5ECF6",
            "gridcolor": "white",
            "gridwidth": 2,
            "linecolor": "white",
            "showbackground": true,
            "ticks": "",
            "zerolinecolor": "white"
           },
           "zaxis": {
            "backgroundcolor": "#E5ECF6",
            "gridcolor": "white",
            "gridwidth": 2,
            "linecolor": "white",
            "showbackground": true,
            "ticks": "",
            "zerolinecolor": "white"
           }
          },
          "shapedefaults": {
           "line": {
            "color": "#2a3f5f"
           }
          },
          "ternary": {
           "aaxis": {
            "gridcolor": "white",
            "linecolor": "white",
            "ticks": ""
           },
           "baxis": {
            "gridcolor": "white",
            "linecolor": "white",
            "ticks": ""
           },
           "bgcolor": "#E5ECF6",
           "caxis": {
            "gridcolor": "white",
            "linecolor": "white",
            "ticks": ""
           }
          },
          "title": {
           "x": 0.05
          },
          "xaxis": {
           "automargin": true,
           "gridcolor": "white",
           "linecolor": "white",
           "ticks": "",
           "title": {
            "standoff": 15
           },
           "zerolinecolor": "white",
           "zerolinewidth": 2
          },
          "yaxis": {
           "automargin": true,
           "gridcolor": "white",
           "linecolor": "white",
           "ticks": "",
           "title": {
            "standoff": 15
           },
           "zerolinecolor": "white",
           "zerolinewidth": 2
          }
         }
        },
        "title": {
         "text": "Optimization History Plot"
        },
        "xaxis": {
         "title": {
          "text": "Trial"
         }
        },
        "yaxis": {
         "title": {
          "text": "Objective Value"
         }
        }
       }
      },
      "text/html": [
       "<div>                            <div id=\"d97f2885-4e45-40a3-9a8a-3ba9216c07f6\" class=\"plotly-graph-div\" style=\"height:525px; width:100%;\"></div>            <script type=\"text/javascript\">                require([\"plotly\"], function(Plotly) {                    window.PLOTLYENV=window.PLOTLYENV || {};                                    if (document.getElementById(\"d97f2885-4e45-40a3-9a8a-3ba9216c07f6\")) {                    Plotly.newPlot(                        \"d97f2885-4e45-40a3-9a8a-3ba9216c07f6\",                        [{\"mode\":\"markers\",\"name\":\"Objective Value\",\"x\":[0,1,2,3,4,5,6,7,8,9,10,11,12,13,14,15,16,17,18,19,20,21,22,23,24,25,26,27,28,29,30,31,32,33,34,35,36,37,38,39,40,41,42,43,44,45,46,47,48,49],\"y\":[0.47589653730392456,0.48116743564605713,0.5411349534988403,0.6649969816207886,0.5151749849319458,0.621676504611969,0.5862017869949341,0.574613094329834,0.5604071021080017,0.5317298173904419,0.5850993990898132,0.6441192030906677,0.6438692808151245,0.5989691615104675,0.5912949442863464,0.6590693593025208,0.6615114212036133,0.6502608060836792,0.6602199077606201,0.6286000609397888,0.6225493550300598,0.6721357703208923,0.6980569958686829,0.697855532169342,0.680474579334259,0.6663628220558167,0.6039205193519592,0.7110491394996643,0.6946616172790527,0.6937410235404968,0.7204755544662476,0.5660979747772217,0.6435293555259705,0.7463875412940979,0.6044493913650513,0.6410463452339172,0.6625829339027405,0.6702442169189453,0.6609421372413635,0.6928246021270752,0.6516917943954468,0.740812361240387,0.8284052610397339,0.8291199207305908,0.7449862360954285,0.8072131872177124,0.6580137014389038,0.6340638995170593,0.6426784992218018,0.6312744617462158],\"type\":\"scatter\"},{\"mode\":\"lines\",\"name\":\"Best Value\",\"x\":[0,1,2,3,4,5,6,7,8,9,10,11,12,13,14,15,16,17,18,19,20,21,22,23,24,25,26,27,28,29,30,31,32,33,34,35,36,37,38,39,40,41,42,43,44,45,46,47,48,49],\"y\":[0.47589653730392456,0.47589653730392456,0.47589653730392456,0.47589653730392456,0.47589653730392456,0.47589653730392456,0.47589653730392456,0.47589653730392456,0.47589653730392456,0.47589653730392456,0.47589653730392456,0.47589653730392456,0.47589653730392456,0.47589653730392456,0.47589653730392456,0.47589653730392456,0.47589653730392456,0.47589653730392456,0.47589653730392456,0.47589653730392456,0.47589653730392456,0.47589653730392456,0.47589653730392456,0.47589653730392456,0.47589653730392456,0.47589653730392456,0.47589653730392456,0.47589653730392456,0.47589653730392456,0.47589653730392456,0.47589653730392456,0.47589653730392456,0.47589653730392456,0.47589653730392456,0.47589653730392456,0.47589653730392456,0.47589653730392456,0.47589653730392456,0.47589653730392456,0.47589653730392456,0.47589653730392456,0.47589653730392456,0.47589653730392456,0.47589653730392456,0.47589653730392456,0.47589653730392456,0.47589653730392456,0.47589653730392456,0.47589653730392456,0.47589653730392456],\"type\":\"scatter\"},{\"marker\":{\"color\":\"#cccccc\"},\"mode\":\"markers\",\"name\":\"Infeasible Trial\",\"showlegend\":false,\"x\":[],\"y\":[],\"type\":\"scatter\"}],                        {\"title\":{\"text\":\"Optimization History Plot\"},\"xaxis\":{\"title\":{\"text\":\"Trial\"}},\"yaxis\":{\"title\":{\"text\":\"Objective Value\"}},\"template\":{\"data\":{\"histogram2dcontour\":[{\"type\":\"histogram2dcontour\",\"colorbar\":{\"outlinewidth\":0,\"ticks\":\"\"},\"colorscale\":[[0.0,\"#0d0887\"],[0.1111111111111111,\"#46039f\"],[0.2222222222222222,\"#7201a8\"],[0.3333333333333333,\"#9c179e\"],[0.4444444444444444,\"#bd3786\"],[0.5555555555555556,\"#d8576b\"],[0.6666666666666666,\"#ed7953\"],[0.7777777777777778,\"#fb9f3a\"],[0.8888888888888888,\"#fdca26\"],[1.0,\"#f0f921\"]]}],\"choropleth\":[{\"type\":\"choropleth\",\"colorbar\":{\"outlinewidth\":0,\"ticks\":\"\"}}],\"histogram2d\":[{\"type\":\"histogram2d\",\"colorbar\":{\"outlinewidth\":0,\"ticks\":\"\"},\"colorscale\":[[0.0,\"#0d0887\"],[0.1111111111111111,\"#46039f\"],[0.2222222222222222,\"#7201a8\"],[0.3333333333333333,\"#9c179e\"],[0.4444444444444444,\"#bd3786\"],[0.5555555555555556,\"#d8576b\"],[0.6666666666666666,\"#ed7953\"],[0.7777777777777778,\"#fb9f3a\"],[0.8888888888888888,\"#fdca26\"],[1.0,\"#f0f921\"]]}],\"heatmap\":[{\"type\":\"heatmap\",\"colorbar\":{\"outlinewidth\":0,\"ticks\":\"\"},\"colorscale\":[[0.0,\"#0d0887\"],[0.1111111111111111,\"#46039f\"],[0.2222222222222222,\"#7201a8\"],[0.3333333333333333,\"#9c179e\"],[0.4444444444444444,\"#bd3786\"],[0.5555555555555556,\"#d8576b\"],[0.6666666666666666,\"#ed7953\"],[0.7777777777777778,\"#fb9f3a\"],[0.8888888888888888,\"#fdca26\"],[1.0,\"#f0f921\"]]}],\"heatmapgl\":[{\"type\":\"heatmapgl\",\"colorbar\":{\"outlinewidth\":0,\"ticks\":\"\"},\"colorscale\":[[0.0,\"#0d0887\"],[0.1111111111111111,\"#46039f\"],[0.2222222222222222,\"#7201a8\"],[0.3333333333333333,\"#9c179e\"],[0.4444444444444444,\"#bd3786\"],[0.5555555555555556,\"#d8576b\"],[0.6666666666666666,\"#ed7953\"],[0.7777777777777778,\"#fb9f3a\"],[0.8888888888888888,\"#fdca26\"],[1.0,\"#f0f921\"]]}],\"contourcarpet\":[{\"type\":\"contourcarpet\",\"colorbar\":{\"outlinewidth\":0,\"ticks\":\"\"}}],\"contour\":[{\"type\":\"contour\",\"colorbar\":{\"outlinewidth\":0,\"ticks\":\"\"},\"colorscale\":[[0.0,\"#0d0887\"],[0.1111111111111111,\"#46039f\"],[0.2222222222222222,\"#7201a8\"],[0.3333333333333333,\"#9c179e\"],[0.4444444444444444,\"#bd3786\"],[0.5555555555555556,\"#d8576b\"],[0.6666666666666666,\"#ed7953\"],[0.7777777777777778,\"#fb9f3a\"],[0.8888888888888888,\"#fdca26\"],[1.0,\"#f0f921\"]]}],\"surface\":[{\"type\":\"surface\",\"colorbar\":{\"outlinewidth\":0,\"ticks\":\"\"},\"colorscale\":[[0.0,\"#0d0887\"],[0.1111111111111111,\"#46039f\"],[0.2222222222222222,\"#7201a8\"],[0.3333333333333333,\"#9c179e\"],[0.4444444444444444,\"#bd3786\"],[0.5555555555555556,\"#d8576b\"],[0.6666666666666666,\"#ed7953\"],[0.7777777777777778,\"#fb9f3a\"],[0.8888888888888888,\"#fdca26\"],[1.0,\"#f0f921\"]]}],\"mesh3d\":[{\"type\":\"mesh3d\",\"colorbar\":{\"outlinewidth\":0,\"ticks\":\"\"}}],\"scatter\":[{\"fillpattern\":{\"fillmode\":\"overlay\",\"size\":10,\"solidity\":0.2},\"type\":\"scatter\"}],\"parcoords\":[{\"type\":\"parcoords\",\"line\":{\"colorbar\":{\"outlinewidth\":0,\"ticks\":\"\"}}}],\"scatterpolargl\":[{\"type\":\"scatterpolargl\",\"marker\":{\"colorbar\":{\"outlinewidth\":0,\"ticks\":\"\"}}}],\"bar\":[{\"error_x\":{\"color\":\"#2a3f5f\"},\"error_y\":{\"color\":\"#2a3f5f\"},\"marker\":{\"line\":{\"color\":\"#E5ECF6\",\"width\":0.5},\"pattern\":{\"fillmode\":\"overlay\",\"size\":10,\"solidity\":0.2}},\"type\":\"bar\"}],\"scattergeo\":[{\"type\":\"scattergeo\",\"marker\":{\"colorbar\":{\"outlinewidth\":0,\"ticks\":\"\"}}}],\"scatterpolar\":[{\"type\":\"scatterpolar\",\"marker\":{\"colorbar\":{\"outlinewidth\":0,\"ticks\":\"\"}}}],\"histogram\":[{\"marker\":{\"pattern\":{\"fillmode\":\"overlay\",\"size\":10,\"solidity\":0.2}},\"type\":\"histogram\"}],\"scattergl\":[{\"type\":\"scattergl\",\"marker\":{\"colorbar\":{\"outlinewidth\":0,\"ticks\":\"\"}}}],\"scatter3d\":[{\"type\":\"scatter3d\",\"line\":{\"colorbar\":{\"outlinewidth\":0,\"ticks\":\"\"}},\"marker\":{\"colorbar\":{\"outlinewidth\":0,\"ticks\":\"\"}}}],\"scattermapbox\":[{\"type\":\"scattermapbox\",\"marker\":{\"colorbar\":{\"outlinewidth\":0,\"ticks\":\"\"}}}],\"scatterternary\":[{\"type\":\"scatterternary\",\"marker\":{\"colorbar\":{\"outlinewidth\":0,\"ticks\":\"\"}}}],\"scattercarpet\":[{\"type\":\"scattercarpet\",\"marker\":{\"colorbar\":{\"outlinewidth\":0,\"ticks\":\"\"}}}],\"carpet\":[{\"aaxis\":{\"endlinecolor\":\"#2a3f5f\",\"gridcolor\":\"white\",\"linecolor\":\"white\",\"minorgridcolor\":\"white\",\"startlinecolor\":\"#2a3f5f\"},\"baxis\":{\"endlinecolor\":\"#2a3f5f\",\"gridcolor\":\"white\",\"linecolor\":\"white\",\"minorgridcolor\":\"white\",\"startlinecolor\":\"#2a3f5f\"},\"type\":\"carpet\"}],\"table\":[{\"cells\":{\"fill\":{\"color\":\"#EBF0F8\"},\"line\":{\"color\":\"white\"}},\"header\":{\"fill\":{\"color\":\"#C8D4E3\"},\"line\":{\"color\":\"white\"}},\"type\":\"table\"}],\"barpolar\":[{\"marker\":{\"line\":{\"color\":\"#E5ECF6\",\"width\":0.5},\"pattern\":{\"fillmode\":\"overlay\",\"size\":10,\"solidity\":0.2}},\"type\":\"barpolar\"}],\"pie\":[{\"automargin\":true,\"type\":\"pie\"}]},\"layout\":{\"autotypenumbers\":\"strict\",\"colorway\":[\"#636efa\",\"#EF553B\",\"#00cc96\",\"#ab63fa\",\"#FFA15A\",\"#19d3f3\",\"#FF6692\",\"#B6E880\",\"#FF97FF\",\"#FECB52\"],\"font\":{\"color\":\"#2a3f5f\"},\"hovermode\":\"closest\",\"hoverlabel\":{\"align\":\"left\"},\"paper_bgcolor\":\"white\",\"plot_bgcolor\":\"#E5ECF6\",\"polar\":{\"bgcolor\":\"#E5ECF6\",\"angularaxis\":{\"gridcolor\":\"white\",\"linecolor\":\"white\",\"ticks\":\"\"},\"radialaxis\":{\"gridcolor\":\"white\",\"linecolor\":\"white\",\"ticks\":\"\"}},\"ternary\":{\"bgcolor\":\"#E5ECF6\",\"aaxis\":{\"gridcolor\":\"white\",\"linecolor\":\"white\",\"ticks\":\"\"},\"baxis\":{\"gridcolor\":\"white\",\"linecolor\":\"white\",\"ticks\":\"\"},\"caxis\":{\"gridcolor\":\"white\",\"linecolor\":\"white\",\"ticks\":\"\"}},\"coloraxis\":{\"colorbar\":{\"outlinewidth\":0,\"ticks\":\"\"}},\"colorscale\":{\"sequential\":[[0.0,\"#0d0887\"],[0.1111111111111111,\"#46039f\"],[0.2222222222222222,\"#7201a8\"],[0.3333333333333333,\"#9c179e\"],[0.4444444444444444,\"#bd3786\"],[0.5555555555555556,\"#d8576b\"],[0.6666666666666666,\"#ed7953\"],[0.7777777777777778,\"#fb9f3a\"],[0.8888888888888888,\"#fdca26\"],[1.0,\"#f0f921\"]],\"sequentialminus\":[[0.0,\"#0d0887\"],[0.1111111111111111,\"#46039f\"],[0.2222222222222222,\"#7201a8\"],[0.3333333333333333,\"#9c179e\"],[0.4444444444444444,\"#bd3786\"],[0.5555555555555556,\"#d8576b\"],[0.6666666666666666,\"#ed7953\"],[0.7777777777777778,\"#fb9f3a\"],[0.8888888888888888,\"#fdca26\"],[1.0,\"#f0f921\"]],\"diverging\":[[0,\"#8e0152\"],[0.1,\"#c51b7d\"],[0.2,\"#de77ae\"],[0.3,\"#f1b6da\"],[0.4,\"#fde0ef\"],[0.5,\"#f7f7f7\"],[0.6,\"#e6f5d0\"],[0.7,\"#b8e186\"],[0.8,\"#7fbc41\"],[0.9,\"#4d9221\"],[1,\"#276419\"]]},\"xaxis\":{\"gridcolor\":\"white\",\"linecolor\":\"white\",\"ticks\":\"\",\"title\":{\"standoff\":15},\"zerolinecolor\":\"white\",\"automargin\":true,\"zerolinewidth\":2},\"yaxis\":{\"gridcolor\":\"white\",\"linecolor\":\"white\",\"ticks\":\"\",\"title\":{\"standoff\":15},\"zerolinecolor\":\"white\",\"automargin\":true,\"zerolinewidth\":2},\"scene\":{\"xaxis\":{\"backgroundcolor\":\"#E5ECF6\",\"gridcolor\":\"white\",\"linecolor\":\"white\",\"showbackground\":true,\"ticks\":\"\",\"zerolinecolor\":\"white\",\"gridwidth\":2},\"yaxis\":{\"backgroundcolor\":\"#E5ECF6\",\"gridcolor\":\"white\",\"linecolor\":\"white\",\"showbackground\":true,\"ticks\":\"\",\"zerolinecolor\":\"white\",\"gridwidth\":2},\"zaxis\":{\"backgroundcolor\":\"#E5ECF6\",\"gridcolor\":\"white\",\"linecolor\":\"white\",\"showbackground\":true,\"ticks\":\"\",\"zerolinecolor\":\"white\",\"gridwidth\":2}},\"shapedefaults\":{\"line\":{\"color\":\"#2a3f5f\"}},\"annotationdefaults\":{\"arrowcolor\":\"#2a3f5f\",\"arrowhead\":0,\"arrowwidth\":1},\"geo\":{\"bgcolor\":\"white\",\"landcolor\":\"#E5ECF6\",\"subunitcolor\":\"white\",\"showland\":true,\"showlakes\":true,\"lakecolor\":\"white\"},\"title\":{\"x\":0.05},\"mapbox\":{\"style\":\"light\"}}}},                        {\"responsive\": true}                    ).then(function(){\n",
       "                            \n",
       "var gd = document.getElementById('d97f2885-4e45-40a3-9a8a-3ba9216c07f6');\n",
       "var x = new MutationObserver(function (mutations, observer) {{\n",
       "        var display = window.getComputedStyle(gd).display;\n",
       "        if (!display || display === 'none') {{\n",
       "            console.log([gd, 'removed!']);\n",
       "            Plotly.purge(gd);\n",
       "            observer.disconnect();\n",
       "        }}\n",
       "}});\n",
       "\n",
       "// Listen for the removal of the full notebook cells\n",
       "var notebookContainer = gd.closest('#notebook-container');\n",
       "if (notebookContainer) {{\n",
       "    x.observe(notebookContainer, {childList: true});\n",
       "}}\n",
       "\n",
       "// Listen for the clearing of the current output cell\n",
       "var outputEl = gd.closest('.output');\n",
       "if (outputEl) {{\n",
       "    x.observe(outputEl, {childList: true});\n",
       "}}\n",
       "\n",
       "                        })                };                });            </script>        </div>"
      ]
     },
     "metadata": {},
     "output_type": "display_data"
    }
   ],
   "source": [
    "import optuna.visualization as vis\n",
    "\n",
    "vis.plot_optimization_history(study)"
   ]
  },
  {
   "cell_type": "code",
   "execution_count": 72,
   "metadata": {},
   "outputs": [
    {
     "data": {
      "application/vnd.plotly.v1+json": {
       "config": {
        "plotlyServerURL": "https://plot.ly"
       },
       "data": [
        {
         "cliponaxis": false,
         "hovertemplate": [
          "activation (CategoricalDistribution): 0.017074894066451213<extra></extra>",
          "optimizer (CategoricalDistribution): 0.022095942158905646<extra></extra>",
          "dense_units (IntDistribution): 0.16769015632844456<extra></extra>",
          "dropout_rate (FloatDistribution): 0.1702996983343842<extra></extra>",
          "lstm_units (IntDistribution): 0.30150702525155887<extra></extra>",
          "learning_rate (FloatDistribution): 0.3213322838602557<extra></extra>"
         ],
         "name": "Objective Value",
         "orientation": "h",
         "text": [
          "0.02",
          "0.02",
          "0.17",
          "0.17",
          "0.30",
          "0.32"
         ],
         "textposition": "outside",
         "type": "bar",
         "x": [
          0.017074894066451213,
          0.022095942158905646,
          0.16769015632844456,
          0.1702996983343842,
          0.30150702525155887,
          0.3213322838602557
         ],
         "y": [
          "activation",
          "optimizer",
          "dense_units",
          "dropout_rate",
          "lstm_units",
          "learning_rate"
         ]
        }
       ],
       "layout": {
        "template": {
         "data": {
          "bar": [
           {
            "error_x": {
             "color": "#2a3f5f"
            },
            "error_y": {
             "color": "#2a3f5f"
            },
            "marker": {
             "line": {
              "color": "#E5ECF6",
              "width": 0.5
             },
             "pattern": {
              "fillmode": "overlay",
              "size": 10,
              "solidity": 0.2
             }
            },
            "type": "bar"
           }
          ],
          "barpolar": [
           {
            "marker": {
             "line": {
              "color": "#E5ECF6",
              "width": 0.5
             },
             "pattern": {
              "fillmode": "overlay",
              "size": 10,
              "solidity": 0.2
             }
            },
            "type": "barpolar"
           }
          ],
          "carpet": [
           {
            "aaxis": {
             "endlinecolor": "#2a3f5f",
             "gridcolor": "white",
             "linecolor": "white",
             "minorgridcolor": "white",
             "startlinecolor": "#2a3f5f"
            },
            "baxis": {
             "endlinecolor": "#2a3f5f",
             "gridcolor": "white",
             "linecolor": "white",
             "minorgridcolor": "white",
             "startlinecolor": "#2a3f5f"
            },
            "type": "carpet"
           }
          ],
          "choropleth": [
           {
            "colorbar": {
             "outlinewidth": 0,
             "ticks": ""
            },
            "type": "choropleth"
           }
          ],
          "contour": [
           {
            "colorbar": {
             "outlinewidth": 0,
             "ticks": ""
            },
            "colorscale": [
             [
              0,
              "#0d0887"
             ],
             [
              0.1111111111111111,
              "#46039f"
             ],
             [
              0.2222222222222222,
              "#7201a8"
             ],
             [
              0.3333333333333333,
              "#9c179e"
             ],
             [
              0.4444444444444444,
              "#bd3786"
             ],
             [
              0.5555555555555556,
              "#d8576b"
             ],
             [
              0.6666666666666666,
              "#ed7953"
             ],
             [
              0.7777777777777778,
              "#fb9f3a"
             ],
             [
              0.8888888888888888,
              "#fdca26"
             ],
             [
              1,
              "#f0f921"
             ]
            ],
            "type": "contour"
           }
          ],
          "contourcarpet": [
           {
            "colorbar": {
             "outlinewidth": 0,
             "ticks": ""
            },
            "type": "contourcarpet"
           }
          ],
          "heatmap": [
           {
            "colorbar": {
             "outlinewidth": 0,
             "ticks": ""
            },
            "colorscale": [
             [
              0,
              "#0d0887"
             ],
             [
              0.1111111111111111,
              "#46039f"
             ],
             [
              0.2222222222222222,
              "#7201a8"
             ],
             [
              0.3333333333333333,
              "#9c179e"
             ],
             [
              0.4444444444444444,
              "#bd3786"
             ],
             [
              0.5555555555555556,
              "#d8576b"
             ],
             [
              0.6666666666666666,
              "#ed7953"
             ],
             [
              0.7777777777777778,
              "#fb9f3a"
             ],
             [
              0.8888888888888888,
              "#fdca26"
             ],
             [
              1,
              "#f0f921"
             ]
            ],
            "type": "heatmap"
           }
          ],
          "heatmapgl": [
           {
            "colorbar": {
             "outlinewidth": 0,
             "ticks": ""
            },
            "colorscale": [
             [
              0,
              "#0d0887"
             ],
             [
              0.1111111111111111,
              "#46039f"
             ],
             [
              0.2222222222222222,
              "#7201a8"
             ],
             [
              0.3333333333333333,
              "#9c179e"
             ],
             [
              0.4444444444444444,
              "#bd3786"
             ],
             [
              0.5555555555555556,
              "#d8576b"
             ],
             [
              0.6666666666666666,
              "#ed7953"
             ],
             [
              0.7777777777777778,
              "#fb9f3a"
             ],
             [
              0.8888888888888888,
              "#fdca26"
             ],
             [
              1,
              "#f0f921"
             ]
            ],
            "type": "heatmapgl"
           }
          ],
          "histogram": [
           {
            "marker": {
             "pattern": {
              "fillmode": "overlay",
              "size": 10,
              "solidity": 0.2
             }
            },
            "type": "histogram"
           }
          ],
          "histogram2d": [
           {
            "colorbar": {
             "outlinewidth": 0,
             "ticks": ""
            },
            "colorscale": [
             [
              0,
              "#0d0887"
             ],
             [
              0.1111111111111111,
              "#46039f"
             ],
             [
              0.2222222222222222,
              "#7201a8"
             ],
             [
              0.3333333333333333,
              "#9c179e"
             ],
             [
              0.4444444444444444,
              "#bd3786"
             ],
             [
              0.5555555555555556,
              "#d8576b"
             ],
             [
              0.6666666666666666,
              "#ed7953"
             ],
             [
              0.7777777777777778,
              "#fb9f3a"
             ],
             [
              0.8888888888888888,
              "#fdca26"
             ],
             [
              1,
              "#f0f921"
             ]
            ],
            "type": "histogram2d"
           }
          ],
          "histogram2dcontour": [
           {
            "colorbar": {
             "outlinewidth": 0,
             "ticks": ""
            },
            "colorscale": [
             [
              0,
              "#0d0887"
             ],
             [
              0.1111111111111111,
              "#46039f"
             ],
             [
              0.2222222222222222,
              "#7201a8"
             ],
             [
              0.3333333333333333,
              "#9c179e"
             ],
             [
              0.4444444444444444,
              "#bd3786"
             ],
             [
              0.5555555555555556,
              "#d8576b"
             ],
             [
              0.6666666666666666,
              "#ed7953"
             ],
             [
              0.7777777777777778,
              "#fb9f3a"
             ],
             [
              0.8888888888888888,
              "#fdca26"
             ],
             [
              1,
              "#f0f921"
             ]
            ],
            "type": "histogram2dcontour"
           }
          ],
          "mesh3d": [
           {
            "colorbar": {
             "outlinewidth": 0,
             "ticks": ""
            },
            "type": "mesh3d"
           }
          ],
          "parcoords": [
           {
            "line": {
             "colorbar": {
              "outlinewidth": 0,
              "ticks": ""
             }
            },
            "type": "parcoords"
           }
          ],
          "pie": [
           {
            "automargin": true,
            "type": "pie"
           }
          ],
          "scatter": [
           {
            "fillpattern": {
             "fillmode": "overlay",
             "size": 10,
             "solidity": 0.2
            },
            "type": "scatter"
           }
          ],
          "scatter3d": [
           {
            "line": {
             "colorbar": {
              "outlinewidth": 0,
              "ticks": ""
             }
            },
            "marker": {
             "colorbar": {
              "outlinewidth": 0,
              "ticks": ""
             }
            },
            "type": "scatter3d"
           }
          ],
          "scattercarpet": [
           {
            "marker": {
             "colorbar": {
              "outlinewidth": 0,
              "ticks": ""
             }
            },
            "type": "scattercarpet"
           }
          ],
          "scattergeo": [
           {
            "marker": {
             "colorbar": {
              "outlinewidth": 0,
              "ticks": ""
             }
            },
            "type": "scattergeo"
           }
          ],
          "scattergl": [
           {
            "marker": {
             "colorbar": {
              "outlinewidth": 0,
              "ticks": ""
             }
            },
            "type": "scattergl"
           }
          ],
          "scattermapbox": [
           {
            "marker": {
             "colorbar": {
              "outlinewidth": 0,
              "ticks": ""
             }
            },
            "type": "scattermapbox"
           }
          ],
          "scatterpolar": [
           {
            "marker": {
             "colorbar": {
              "outlinewidth": 0,
              "ticks": ""
             }
            },
            "type": "scatterpolar"
           }
          ],
          "scatterpolargl": [
           {
            "marker": {
             "colorbar": {
              "outlinewidth": 0,
              "ticks": ""
             }
            },
            "type": "scatterpolargl"
           }
          ],
          "scatterternary": [
           {
            "marker": {
             "colorbar": {
              "outlinewidth": 0,
              "ticks": ""
             }
            },
            "type": "scatterternary"
           }
          ],
          "surface": [
           {
            "colorbar": {
             "outlinewidth": 0,
             "ticks": ""
            },
            "colorscale": [
             [
              0,
              "#0d0887"
             ],
             [
              0.1111111111111111,
              "#46039f"
             ],
             [
              0.2222222222222222,
              "#7201a8"
             ],
             [
              0.3333333333333333,
              "#9c179e"
             ],
             [
              0.4444444444444444,
              "#bd3786"
             ],
             [
              0.5555555555555556,
              "#d8576b"
             ],
             [
              0.6666666666666666,
              "#ed7953"
             ],
             [
              0.7777777777777778,
              "#fb9f3a"
             ],
             [
              0.8888888888888888,
              "#fdca26"
             ],
             [
              1,
              "#f0f921"
             ]
            ],
            "type": "surface"
           }
          ],
          "table": [
           {
            "cells": {
             "fill": {
              "color": "#EBF0F8"
             },
             "line": {
              "color": "white"
             }
            },
            "header": {
             "fill": {
              "color": "#C8D4E3"
             },
             "line": {
              "color": "white"
             }
            },
            "type": "table"
           }
          ]
         },
         "layout": {
          "annotationdefaults": {
           "arrowcolor": "#2a3f5f",
           "arrowhead": 0,
           "arrowwidth": 1
          },
          "autotypenumbers": "strict",
          "coloraxis": {
           "colorbar": {
            "outlinewidth": 0,
            "ticks": ""
           }
          },
          "colorscale": {
           "diverging": [
            [
             0,
             "#8e0152"
            ],
            [
             0.1,
             "#c51b7d"
            ],
            [
             0.2,
             "#de77ae"
            ],
            [
             0.3,
             "#f1b6da"
            ],
            [
             0.4,
             "#fde0ef"
            ],
            [
             0.5,
             "#f7f7f7"
            ],
            [
             0.6,
             "#e6f5d0"
            ],
            [
             0.7,
             "#b8e186"
            ],
            [
             0.8,
             "#7fbc41"
            ],
            [
             0.9,
             "#4d9221"
            ],
            [
             1,
             "#276419"
            ]
           ],
           "sequential": [
            [
             0,
             "#0d0887"
            ],
            [
             0.1111111111111111,
             "#46039f"
            ],
            [
             0.2222222222222222,
             "#7201a8"
            ],
            [
             0.3333333333333333,
             "#9c179e"
            ],
            [
             0.4444444444444444,
             "#bd3786"
            ],
            [
             0.5555555555555556,
             "#d8576b"
            ],
            [
             0.6666666666666666,
             "#ed7953"
            ],
            [
             0.7777777777777778,
             "#fb9f3a"
            ],
            [
             0.8888888888888888,
             "#fdca26"
            ],
            [
             1,
             "#f0f921"
            ]
           ],
           "sequentialminus": [
            [
             0,
             "#0d0887"
            ],
            [
             0.1111111111111111,
             "#46039f"
            ],
            [
             0.2222222222222222,
             "#7201a8"
            ],
            [
             0.3333333333333333,
             "#9c179e"
            ],
            [
             0.4444444444444444,
             "#bd3786"
            ],
            [
             0.5555555555555556,
             "#d8576b"
            ],
            [
             0.6666666666666666,
             "#ed7953"
            ],
            [
             0.7777777777777778,
             "#fb9f3a"
            ],
            [
             0.8888888888888888,
             "#fdca26"
            ],
            [
             1,
             "#f0f921"
            ]
           ]
          },
          "colorway": [
           "#636efa",
           "#EF553B",
           "#00cc96",
           "#ab63fa",
           "#FFA15A",
           "#19d3f3",
           "#FF6692",
           "#B6E880",
           "#FF97FF",
           "#FECB52"
          ],
          "font": {
           "color": "#2a3f5f"
          },
          "geo": {
           "bgcolor": "white",
           "lakecolor": "white",
           "landcolor": "#E5ECF6",
           "showlakes": true,
           "showland": true,
           "subunitcolor": "white"
          },
          "hoverlabel": {
           "align": "left"
          },
          "hovermode": "closest",
          "mapbox": {
           "style": "light"
          },
          "paper_bgcolor": "white",
          "plot_bgcolor": "#E5ECF6",
          "polar": {
           "angularaxis": {
            "gridcolor": "white",
            "linecolor": "white",
            "ticks": ""
           },
           "bgcolor": "#E5ECF6",
           "radialaxis": {
            "gridcolor": "white",
            "linecolor": "white",
            "ticks": ""
           }
          },
          "scene": {
           "xaxis": {
            "backgroundcolor": "#E5ECF6",
            "gridcolor": "white",
            "gridwidth": 2,
            "linecolor": "white",
            "showbackground": true,
            "ticks": "",
            "zerolinecolor": "white"
           },
           "yaxis": {
            "backgroundcolor": "#E5ECF6",
            "gridcolor": "white",
            "gridwidth": 2,
            "linecolor": "white",
            "showbackground": true,
            "ticks": "",
            "zerolinecolor": "white"
           },
           "zaxis": {
            "backgroundcolor": "#E5ECF6",
            "gridcolor": "white",
            "gridwidth": 2,
            "linecolor": "white",
            "showbackground": true,
            "ticks": "",
            "zerolinecolor": "white"
           }
          },
          "shapedefaults": {
           "line": {
            "color": "#2a3f5f"
           }
          },
          "ternary": {
           "aaxis": {
            "gridcolor": "white",
            "linecolor": "white",
            "ticks": ""
           },
           "baxis": {
            "gridcolor": "white",
            "linecolor": "white",
            "ticks": ""
           },
           "bgcolor": "#E5ECF6",
           "caxis": {
            "gridcolor": "white",
            "linecolor": "white",
            "ticks": ""
           }
          },
          "title": {
           "x": 0.05
          },
          "xaxis": {
           "automargin": true,
           "gridcolor": "white",
           "linecolor": "white",
           "ticks": "",
           "title": {
            "standoff": 15
           },
           "zerolinecolor": "white",
           "zerolinewidth": 2
          },
          "yaxis": {
           "automargin": true,
           "gridcolor": "white",
           "linecolor": "white",
           "ticks": "",
           "title": {
            "standoff": 15
           },
           "zerolinecolor": "white",
           "zerolinewidth": 2
          }
         }
        },
        "title": {
         "text": "Hyperparameter Importances"
        },
        "xaxis": {
         "title": {
          "text": "Hyperparameter Importance"
         }
        },
        "yaxis": {
         "title": {
          "text": "Hyperparameter"
         }
        }
       }
      },
      "text/html": [
       "<div>                            <div id=\"2c958ff1-943c-4eb3-8f53-534f229b30da\" class=\"plotly-graph-div\" style=\"height:525px; width:100%;\"></div>            <script type=\"text/javascript\">                require([\"plotly\"], function(Plotly) {                    window.PLOTLYENV=window.PLOTLYENV || {};                                    if (document.getElementById(\"2c958ff1-943c-4eb3-8f53-534f229b30da\")) {                    Plotly.newPlot(                        \"2c958ff1-943c-4eb3-8f53-534f229b30da\",                        [{\"cliponaxis\":false,\"hovertemplate\":[\"activation (CategoricalDistribution): 0.017074894066451213\\u003cextra\\u003e\\u003c\\u002fextra\\u003e\",\"optimizer (CategoricalDistribution): 0.022095942158905646\\u003cextra\\u003e\\u003c\\u002fextra\\u003e\",\"dense_units (IntDistribution): 0.16769015632844456\\u003cextra\\u003e\\u003c\\u002fextra\\u003e\",\"dropout_rate (FloatDistribution): 0.1702996983343842\\u003cextra\\u003e\\u003c\\u002fextra\\u003e\",\"lstm_units (IntDistribution): 0.30150702525155887\\u003cextra\\u003e\\u003c\\u002fextra\\u003e\",\"learning_rate (FloatDistribution): 0.3213322838602557\\u003cextra\\u003e\\u003c\\u002fextra\\u003e\"],\"name\":\"Objective Value\",\"orientation\":\"h\",\"text\":[\"0.02\",\"0.02\",\"0.17\",\"0.17\",\"0.30\",\"0.32\"],\"textposition\":\"outside\",\"x\":[0.017074894066451213,0.022095942158905646,0.16769015632844456,0.1702996983343842,0.30150702525155887,0.3213322838602557],\"y\":[\"activation\",\"optimizer\",\"dense_units\",\"dropout_rate\",\"lstm_units\",\"learning_rate\"],\"type\":\"bar\"}],                        {\"title\":{\"text\":\"Hyperparameter Importances\"},\"xaxis\":{\"title\":{\"text\":\"Hyperparameter Importance\"}},\"yaxis\":{\"title\":{\"text\":\"Hyperparameter\"}},\"template\":{\"data\":{\"histogram2dcontour\":[{\"type\":\"histogram2dcontour\",\"colorbar\":{\"outlinewidth\":0,\"ticks\":\"\"},\"colorscale\":[[0.0,\"#0d0887\"],[0.1111111111111111,\"#46039f\"],[0.2222222222222222,\"#7201a8\"],[0.3333333333333333,\"#9c179e\"],[0.4444444444444444,\"#bd3786\"],[0.5555555555555556,\"#d8576b\"],[0.6666666666666666,\"#ed7953\"],[0.7777777777777778,\"#fb9f3a\"],[0.8888888888888888,\"#fdca26\"],[1.0,\"#f0f921\"]]}],\"choropleth\":[{\"type\":\"choropleth\",\"colorbar\":{\"outlinewidth\":0,\"ticks\":\"\"}}],\"histogram2d\":[{\"type\":\"histogram2d\",\"colorbar\":{\"outlinewidth\":0,\"ticks\":\"\"},\"colorscale\":[[0.0,\"#0d0887\"],[0.1111111111111111,\"#46039f\"],[0.2222222222222222,\"#7201a8\"],[0.3333333333333333,\"#9c179e\"],[0.4444444444444444,\"#bd3786\"],[0.5555555555555556,\"#d8576b\"],[0.6666666666666666,\"#ed7953\"],[0.7777777777777778,\"#fb9f3a\"],[0.8888888888888888,\"#fdca26\"],[1.0,\"#f0f921\"]]}],\"heatmap\":[{\"type\":\"heatmap\",\"colorbar\":{\"outlinewidth\":0,\"ticks\":\"\"},\"colorscale\":[[0.0,\"#0d0887\"],[0.1111111111111111,\"#46039f\"],[0.2222222222222222,\"#7201a8\"],[0.3333333333333333,\"#9c179e\"],[0.4444444444444444,\"#bd3786\"],[0.5555555555555556,\"#d8576b\"],[0.6666666666666666,\"#ed7953\"],[0.7777777777777778,\"#fb9f3a\"],[0.8888888888888888,\"#fdca26\"],[1.0,\"#f0f921\"]]}],\"heatmapgl\":[{\"type\":\"heatmapgl\",\"colorbar\":{\"outlinewidth\":0,\"ticks\":\"\"},\"colorscale\":[[0.0,\"#0d0887\"],[0.1111111111111111,\"#46039f\"],[0.2222222222222222,\"#7201a8\"],[0.3333333333333333,\"#9c179e\"],[0.4444444444444444,\"#bd3786\"],[0.5555555555555556,\"#d8576b\"],[0.6666666666666666,\"#ed7953\"],[0.7777777777777778,\"#fb9f3a\"],[0.8888888888888888,\"#fdca26\"],[1.0,\"#f0f921\"]]}],\"contourcarpet\":[{\"type\":\"contourcarpet\",\"colorbar\":{\"outlinewidth\":0,\"ticks\":\"\"}}],\"contour\":[{\"type\":\"contour\",\"colorbar\":{\"outlinewidth\":0,\"ticks\":\"\"},\"colorscale\":[[0.0,\"#0d0887\"],[0.1111111111111111,\"#46039f\"],[0.2222222222222222,\"#7201a8\"],[0.3333333333333333,\"#9c179e\"],[0.4444444444444444,\"#bd3786\"],[0.5555555555555556,\"#d8576b\"],[0.6666666666666666,\"#ed7953\"],[0.7777777777777778,\"#fb9f3a\"],[0.8888888888888888,\"#fdca26\"],[1.0,\"#f0f921\"]]}],\"surface\":[{\"type\":\"surface\",\"colorbar\":{\"outlinewidth\":0,\"ticks\":\"\"},\"colorscale\":[[0.0,\"#0d0887\"],[0.1111111111111111,\"#46039f\"],[0.2222222222222222,\"#7201a8\"],[0.3333333333333333,\"#9c179e\"],[0.4444444444444444,\"#bd3786\"],[0.5555555555555556,\"#d8576b\"],[0.6666666666666666,\"#ed7953\"],[0.7777777777777778,\"#fb9f3a\"],[0.8888888888888888,\"#fdca26\"],[1.0,\"#f0f921\"]]}],\"mesh3d\":[{\"type\":\"mesh3d\",\"colorbar\":{\"outlinewidth\":0,\"ticks\":\"\"}}],\"scatter\":[{\"fillpattern\":{\"fillmode\":\"overlay\",\"size\":10,\"solidity\":0.2},\"type\":\"scatter\"}],\"parcoords\":[{\"type\":\"parcoords\",\"line\":{\"colorbar\":{\"outlinewidth\":0,\"ticks\":\"\"}}}],\"scatterpolargl\":[{\"type\":\"scatterpolargl\",\"marker\":{\"colorbar\":{\"outlinewidth\":0,\"ticks\":\"\"}}}],\"bar\":[{\"error_x\":{\"color\":\"#2a3f5f\"},\"error_y\":{\"color\":\"#2a3f5f\"},\"marker\":{\"line\":{\"color\":\"#E5ECF6\",\"width\":0.5},\"pattern\":{\"fillmode\":\"overlay\",\"size\":10,\"solidity\":0.2}},\"type\":\"bar\"}],\"scattergeo\":[{\"type\":\"scattergeo\",\"marker\":{\"colorbar\":{\"outlinewidth\":0,\"ticks\":\"\"}}}],\"scatterpolar\":[{\"type\":\"scatterpolar\",\"marker\":{\"colorbar\":{\"outlinewidth\":0,\"ticks\":\"\"}}}],\"histogram\":[{\"marker\":{\"pattern\":{\"fillmode\":\"overlay\",\"size\":10,\"solidity\":0.2}},\"type\":\"histogram\"}],\"scattergl\":[{\"type\":\"scattergl\",\"marker\":{\"colorbar\":{\"outlinewidth\":0,\"ticks\":\"\"}}}],\"scatter3d\":[{\"type\":\"scatter3d\",\"line\":{\"colorbar\":{\"outlinewidth\":0,\"ticks\":\"\"}},\"marker\":{\"colorbar\":{\"outlinewidth\":0,\"ticks\":\"\"}}}],\"scattermapbox\":[{\"type\":\"scattermapbox\",\"marker\":{\"colorbar\":{\"outlinewidth\":0,\"ticks\":\"\"}}}],\"scatterternary\":[{\"type\":\"scatterternary\",\"marker\":{\"colorbar\":{\"outlinewidth\":0,\"ticks\":\"\"}}}],\"scattercarpet\":[{\"type\":\"scattercarpet\",\"marker\":{\"colorbar\":{\"outlinewidth\":0,\"ticks\":\"\"}}}],\"carpet\":[{\"aaxis\":{\"endlinecolor\":\"#2a3f5f\",\"gridcolor\":\"white\",\"linecolor\":\"white\",\"minorgridcolor\":\"white\",\"startlinecolor\":\"#2a3f5f\"},\"baxis\":{\"endlinecolor\":\"#2a3f5f\",\"gridcolor\":\"white\",\"linecolor\":\"white\",\"minorgridcolor\":\"white\",\"startlinecolor\":\"#2a3f5f\"},\"type\":\"carpet\"}],\"table\":[{\"cells\":{\"fill\":{\"color\":\"#EBF0F8\"},\"line\":{\"color\":\"white\"}},\"header\":{\"fill\":{\"color\":\"#C8D4E3\"},\"line\":{\"color\":\"white\"}},\"type\":\"table\"}],\"barpolar\":[{\"marker\":{\"line\":{\"color\":\"#E5ECF6\",\"width\":0.5},\"pattern\":{\"fillmode\":\"overlay\",\"size\":10,\"solidity\":0.2}},\"type\":\"barpolar\"}],\"pie\":[{\"automargin\":true,\"type\":\"pie\"}]},\"layout\":{\"autotypenumbers\":\"strict\",\"colorway\":[\"#636efa\",\"#EF553B\",\"#00cc96\",\"#ab63fa\",\"#FFA15A\",\"#19d3f3\",\"#FF6692\",\"#B6E880\",\"#FF97FF\",\"#FECB52\"],\"font\":{\"color\":\"#2a3f5f\"},\"hovermode\":\"closest\",\"hoverlabel\":{\"align\":\"left\"},\"paper_bgcolor\":\"white\",\"plot_bgcolor\":\"#E5ECF6\",\"polar\":{\"bgcolor\":\"#E5ECF6\",\"angularaxis\":{\"gridcolor\":\"white\",\"linecolor\":\"white\",\"ticks\":\"\"},\"radialaxis\":{\"gridcolor\":\"white\",\"linecolor\":\"white\",\"ticks\":\"\"}},\"ternary\":{\"bgcolor\":\"#E5ECF6\",\"aaxis\":{\"gridcolor\":\"white\",\"linecolor\":\"white\",\"ticks\":\"\"},\"baxis\":{\"gridcolor\":\"white\",\"linecolor\":\"white\",\"ticks\":\"\"},\"caxis\":{\"gridcolor\":\"white\",\"linecolor\":\"white\",\"ticks\":\"\"}},\"coloraxis\":{\"colorbar\":{\"outlinewidth\":0,\"ticks\":\"\"}},\"colorscale\":{\"sequential\":[[0.0,\"#0d0887\"],[0.1111111111111111,\"#46039f\"],[0.2222222222222222,\"#7201a8\"],[0.3333333333333333,\"#9c179e\"],[0.4444444444444444,\"#bd3786\"],[0.5555555555555556,\"#d8576b\"],[0.6666666666666666,\"#ed7953\"],[0.7777777777777778,\"#fb9f3a\"],[0.8888888888888888,\"#fdca26\"],[1.0,\"#f0f921\"]],\"sequentialminus\":[[0.0,\"#0d0887\"],[0.1111111111111111,\"#46039f\"],[0.2222222222222222,\"#7201a8\"],[0.3333333333333333,\"#9c179e\"],[0.4444444444444444,\"#bd3786\"],[0.5555555555555556,\"#d8576b\"],[0.6666666666666666,\"#ed7953\"],[0.7777777777777778,\"#fb9f3a\"],[0.8888888888888888,\"#fdca26\"],[1.0,\"#f0f921\"]],\"diverging\":[[0,\"#8e0152\"],[0.1,\"#c51b7d\"],[0.2,\"#de77ae\"],[0.3,\"#f1b6da\"],[0.4,\"#fde0ef\"],[0.5,\"#f7f7f7\"],[0.6,\"#e6f5d0\"],[0.7,\"#b8e186\"],[0.8,\"#7fbc41\"],[0.9,\"#4d9221\"],[1,\"#276419\"]]},\"xaxis\":{\"gridcolor\":\"white\",\"linecolor\":\"white\",\"ticks\":\"\",\"title\":{\"standoff\":15},\"zerolinecolor\":\"white\",\"automargin\":true,\"zerolinewidth\":2},\"yaxis\":{\"gridcolor\":\"white\",\"linecolor\":\"white\",\"ticks\":\"\",\"title\":{\"standoff\":15},\"zerolinecolor\":\"white\",\"automargin\":true,\"zerolinewidth\":2},\"scene\":{\"xaxis\":{\"backgroundcolor\":\"#E5ECF6\",\"gridcolor\":\"white\",\"linecolor\":\"white\",\"showbackground\":true,\"ticks\":\"\",\"zerolinecolor\":\"white\",\"gridwidth\":2},\"yaxis\":{\"backgroundcolor\":\"#E5ECF6\",\"gridcolor\":\"white\",\"linecolor\":\"white\",\"showbackground\":true,\"ticks\":\"\",\"zerolinecolor\":\"white\",\"gridwidth\":2},\"zaxis\":{\"backgroundcolor\":\"#E5ECF6\",\"gridcolor\":\"white\",\"linecolor\":\"white\",\"showbackground\":true,\"ticks\":\"\",\"zerolinecolor\":\"white\",\"gridwidth\":2}},\"shapedefaults\":{\"line\":{\"color\":\"#2a3f5f\"}},\"annotationdefaults\":{\"arrowcolor\":\"#2a3f5f\",\"arrowhead\":0,\"arrowwidth\":1},\"geo\":{\"bgcolor\":\"white\",\"landcolor\":\"#E5ECF6\",\"subunitcolor\":\"white\",\"showland\":true,\"showlakes\":true,\"lakecolor\":\"white\"},\"title\":{\"x\":0.05},\"mapbox\":{\"style\":\"light\"}}}},                        {\"responsive\": true}                    ).then(function(){\n",
       "                            \n",
       "var gd = document.getElementById('2c958ff1-943c-4eb3-8f53-534f229b30da');\n",
       "var x = new MutationObserver(function (mutations, observer) {{\n",
       "        var display = window.getComputedStyle(gd).display;\n",
       "        if (!display || display === 'none') {{\n",
       "            console.log([gd, 'removed!']);\n",
       "            Plotly.purge(gd);\n",
       "            observer.disconnect();\n",
       "        }}\n",
       "}});\n",
       "\n",
       "// Listen for the removal of the full notebook cells\n",
       "var notebookContainer = gd.closest('#notebook-container');\n",
       "if (notebookContainer) {{\n",
       "    x.observe(notebookContainer, {childList: true});\n",
       "}}\n",
       "\n",
       "// Listen for the clearing of the current output cell\n",
       "var outputEl = gd.closest('.output');\n",
       "if (outputEl) {{\n",
       "    x.observe(outputEl, {childList: true});\n",
       "}}\n",
       "\n",
       "                        })                };                });            </script>        </div>"
      ]
     },
     "metadata": {},
     "output_type": "display_data"
    }
   ],
   "source": [
    "vis.plot_param_importances(study)"
   ]
  },
  {
   "cell_type": "markdown",
   "metadata": {},
   "source": [
    "### Best optuna"
   ]
  },
  {
   "cell_type": "code",
   "execution_count": 69,
   "metadata": {},
   "outputs": [
    {
     "name": "stdout",
     "output_type": "stream",
     "text": [
      "{'lstm_units': 45, 'dense_units': 56, 'dropout_rate': 0.5592946939650149, 'learning_rate': 4.34697201010499e-05, 'activation': 'tanh', 'optimizer': 'rmsprop'}\n"
     ]
    }
   ],
   "source": [
    "print(study.best_trial.params)"
   ]
  },
  {
   "cell_type": "code",
   "execution_count": 74,
   "metadata": {},
   "outputs": [],
   "source": [
    "model_ft_best = Sequential()\n",
    "\n",
    "# Ajouter les couches\n",
    "model_ft_best.add(embedding_layer)\n",
    "model_ft_best.add(LSTM(45))\n",
    "model_ft_best.add(Dropout(0.56))\n",
    "model_ft_best.add(Dense(56, activation='tanh', kernel_regularizer=l1_l2(l1=0.01, l2=0.01)))\n",
    "model_ft_best.add(Dropout(0.56))\n",
    "model_ft_best.add(BatchNormalization())\n",
    "model_ft_best.add(Dense(1, activation='sigmoid'))\n",
    "\n",
    "# Compiler le modèle\n",
    "model_ft_best.compile(optimizer=RMSprop(learning_rate=4.3e-05), loss='binary_crossentropy', metrics=['accuracy'])"
   ]
  },
  {
   "cell_type": "code",
   "execution_count": 76,
   "metadata": {},
   "outputs": [
    {
     "name": "stdout",
     "output_type": "stream",
     "text": [
      "Epoch 1/50\n"
     ]
    },
    {
     "name": "stdout",
     "output_type": "stream",
     "text": [
      "\u001b[1m2987/2987\u001b[0m \u001b[32m━━━━━━━━━━━━━━━━━━━━\u001b[0m\u001b[37m\u001b[0m \u001b[1m42s\u001b[0m 14ms/step - accuracy: 0.6275 - loss: 3.6799 - val_accuracy: 0.7630 - val_loss: 2.0546\n",
      "Epoch 2/50\n",
      "\u001b[1m2987/2987\u001b[0m \u001b[32m━━━━━━━━━━━━━━━━━━━━\u001b[0m\u001b[37m\u001b[0m \u001b[1m37s\u001b[0m 12ms/step - accuracy: 0.8728 - loss: 1.4831 - val_accuracy: 0.7631 - val_loss: 1.0433\n",
      "Epoch 3/50\n",
      "\u001b[1m2987/2987\u001b[0m \u001b[32m━━━━━━━━━━━━━━━━━━━━\u001b[0m\u001b[37m\u001b[0m \u001b[1m37s\u001b[0m 12ms/step - accuracy: 0.8954 - loss: 0.6164 - val_accuracy: 0.7622 - val_loss: 0.7346\n",
      "Epoch 4/50\n",
      "\u001b[1m2987/2987\u001b[0m \u001b[32m━━━━━━━━━━━━━━━━━━━━\u001b[0m\u001b[37m\u001b[0m \u001b[1m39s\u001b[0m 13ms/step - accuracy: 0.9099 - loss: 0.3411 - val_accuracy: 0.7603 - val_loss: 0.6472\n",
      "Epoch 5/50\n",
      "\u001b[1m2987/2987\u001b[0m \u001b[32m━━━━━━━━━━━━━━━━━━━━\u001b[0m\u001b[37m\u001b[0m \u001b[1m37s\u001b[0m 12ms/step - accuracy: 0.9133 - loss: 0.2726 - val_accuracy: 0.7619 - val_loss: 0.6588\n",
      "Epoch 6/50\n",
      "\u001b[1m2987/2987\u001b[0m \u001b[32m━━━━━━━━━━━━━━━━━━━━\u001b[0m\u001b[37m\u001b[0m \u001b[1m35s\u001b[0m 12ms/step - accuracy: 0.9197 - loss: 0.2461 - val_accuracy: 0.7631 - val_loss: 0.6633\n",
      "Epoch 7/50\n",
      "\u001b[1m2987/2987\u001b[0m \u001b[32m━━━━━━━━━━━━━━━━━━━━\u001b[0m\u001b[37m\u001b[0m \u001b[1m36s\u001b[0m 12ms/step - accuracy: 0.9238 - loss: 0.2343 - val_accuracy: 0.7607 - val_loss: 0.6591\n",
      "Epoch 8/50\n",
      "\u001b[1m2987/2987\u001b[0m \u001b[32m━━━━━━━━━━━━━━━━━━━━\u001b[0m\u001b[37m\u001b[0m \u001b[1m39s\u001b[0m 13ms/step - accuracy: 0.9245 - loss: 0.2279 - val_accuracy: 0.7625 - val_loss: 0.6981\n",
      "Epoch 9/50\n",
      "\u001b[1m2987/2987\u001b[0m \u001b[32m━━━━━━━━━━━━━━━━━━━━\u001b[0m\u001b[37m\u001b[0m \u001b[1m38s\u001b[0m 13ms/step - accuracy: 0.9272 - loss: 0.2206 - val_accuracy: 0.7625 - val_loss: 0.6786\n"
     ]
    }
   ],
   "source": [
    "# Entrainer le modèle\n",
    "\n",
    "# Création du callback\n",
    "model_save_path_ft_best = \"./data/model_best_weights_ft_best.keras\"\n",
    "checkpoint = ModelCheckpoint(model_save_path_ft_best, monitor='val_loss', verbose=0, save_best_only=True, mode='min')\n",
    "es = EarlyStopping(monitor='val_loss', mode='min', verbose=0, patience=5)\n",
    "callbacks_list = [checkpoint, es]\n",
    "\n",
    "# Train the model\n",
    "batch_size = 32\n",
    "epochs = 50\n",
    "\n",
    "history_ft_best = model_ft_best.fit(\n",
    "    X_train_ft, \n",
    "    y_train, \n",
    "    validation_data=(X_val_ft, y_val), \n",
    "    batch_size=batch_size, \n",
    "    epochs=epochs, \n",
    "    callbacks=callbacks_list\n",
    "    )"
   ]
  },
  {
   "cell_type": "code",
   "execution_count": 77,
   "metadata": {},
   "outputs": [
    {
     "data": {
      "image/png": "[encoded data removed]",
      "text/plain": [
       "<Figure size 1600x600 with 2 Axes>"
      ]
     },
     "metadata": {},
     "output_type": "display_data"
    }
   ],
   "source": [
    "visualize_history(history_ft_best)"
   ]
  },
  {
   "cell_type": "code",
   "execution_count": 78,
   "metadata": {},
   "outputs": [
    {
     "name": "stdout",
     "output_type": "stream",
     "text": [
      "Validation Accuracy :  0.7625\n",
      "Validation loss:  0.6786\n",
      "Test Accuracy       :  0.7647\n",
      "Test loss:  0.6627\n"
     ]
    }
   ],
   "source": [
    "# Prédire sur l'ensemble de test avec le dernier epoch\n",
    "\n",
    "loss, accuracy = model_ft_best.evaluate(X_val_ft, y_val, verbose=False)\n",
    "print(\"Validation Accuracy :  {:.4f}\".format(accuracy))\n",
    "print(\"Validation loss:  {:.4f}\".format(loss))\n",
    "\n",
    "loss, accuracy = model_ft_best.evaluate(X_test_ft, y_test, verbose=False)\n",
    "print(\"Test Accuracy       :  {:.4f}\".format(accuracy))\n",
    "print(\"Test loss:  {:.4f}\".format(loss))"
   ]
  },
  {
   "cell_type": "code",
   "execution_count": 80,
   "metadata": {},
   "outputs": [
    {
     "name": "stdout",
     "output_type": "stream",
     "text": [
      "Validation Accuracy :  0.7603\n",
      "Validation loss:  0.6472\n",
      "Test Accuracy       :  0.7635\n",
      "Test loss:  0.6376\n"
     ]
    }
   ],
   "source": [
    "# Prédire sur l'ensemble de test avec le meilleur epoch\n",
    "\n",
    "model_ft_best.load_weights(model_save_path_ft_best)\n",
    "\n",
    "loss, accuracy = model_ft_best.evaluate(X_val_ft, y_val, verbose=False)\n",
    "print(\"Validation Accuracy :  {:.4f}\".format(accuracy))\n",
    "print(\"Validation loss:  {:.4f}\".format(loss))\n",
    "\n",
    "start_time = time.time()\n",
    "loss, accuracy = model_ft_best.evaluate(X_test_ft, y_test, verbose=False)\n",
    "print(\"Test Accuracy       :  {:.4f}\".format(accuracy))\n",
    "print(\"Test loss:  {:.4f}\".format(loss))\n",
    "\n",
    "# Prédire les labels et enregistrer le temps de prédiction\n",
    "prediction_time = time.time() - start_time\n",
    "# Calculer le temps de prédiction par tweet\n",
    "prediction_time_per_tweet = prediction_time / len(y_test)"
   ]
  },
  {
   "cell_type": "code",
   "execution_count": 81,
   "metadata": {},
   "outputs": [
    {
     "name": "stdout",
     "output_type": "stream",
     "text": [
      "\u001b[1m2987/2987\u001b[0m \u001b[32m━━━━━━━━━━━━━━━━━━━━\u001b[0m\u001b[37m\u001b[0m \u001b[1m8s\u001b[0m 2ms/step\n"
     ]
    },
    {
     "name": "stderr",
     "output_type": "stream",
     "text": [
      "Successfully registered model 'Keras_FastText_lstm_best'.\n",
      "2024/04/18 20:46:54 INFO mlflow.store.model_registry.abstract_store: Waiting up to 300 seconds for model version to finish creation. Model name: Keras_FastText_lstm_best, version 1\n",
      "Created version '1' of model 'Keras_FastText_lstm_best'.\n"
     ]
    }
   ],
   "source": [
    "# Enregistrer dans mlFlow\n",
    "\n",
    "with mlflow.start_run(run_name=\"Keras model with LSTM layer and FastText embedding best optuna\"):\n",
    "\n",
    "    # Enregistrement des paramètres du modèle\n",
    "    mlflow.log_params(model_ft_best.get_config())\n",
    "\n",
    "    # Enregistrement des résultats\n",
    "    mlflow.log_metric(\"accuracy\", accuracy)\n",
    "    mlflow.log_metric(\"total time\", prediction_time)\n",
    "    mlflow.log_metric(\"time per prediction\", prediction_time_per_tweet)\n",
    "\n",
    "    # Définir la signature du modèle\n",
    "    signature = infer_signature(X_train_ft, model_ft_best.predict(X_train_ft))\n",
    "\n",
    "    # Enregistrement du modèle\n",
    "    mlflow.keras.log_model(\n",
    "        model=model_ft_best,\n",
    "        artifact_path=\"Keras_FastText_lstm_best\",\n",
    "        signature=signature,\n",
    "        registered_model_name=\"Keras_FastText_lstm_best\",\n",
    "    )"
   ]
  }
 ],
 "metadata": {
  "kernelspec": {
   "display_name": "Python 3",
   "language": "python",
   "name": "python3"
  },
  "language_info": {
   "codemirror_mode": {
    "name": "ipython",
    "version": 3
   },
   "file_extension": ".py",
   "mimetype": "text/x-python",
   "name": "python",
   "nbconvert_exporter": "python",
   "pygments_lexer": "ipython3",
   "version": "3.11.0rc1"
  }
 },
 "nbformat": 4,
 "nbformat_minor": 2
}
