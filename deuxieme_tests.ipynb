{
 "cells": [
  {
   "cell_type": "code",
   "execution_count": 1,
   "metadata": {},
   "outputs": [],
   "source": [
    "import pandas as pd\n",
    "import numpy as np\n",
    "import seaborn as sns\n",
    "import matplotlib.pyplot as plt\n",
    "%matplotlib inline\n",
    "import missingno as msno\n",
    "import time\n",
    "\n",
    "from sklearn.model_selection import train_test_split\n",
    "from sklearn.metrics import confusion_matrix, classification_report, accuracy_score, precision_score, recall_score, f1_score\n",
    "\n",
    "import os\n",
    "\n",
    "# Afficher toutes les colonnes du dataframe;\n",
    "pd.set_option('display.max_columns', None)\n",
    "# pd.set_option('display.max_columns', 20)"
   ]
  },
  {
   "cell_type": "code",
   "execution_count": 2,
   "metadata": {},
   "outputs": [
    {
     "data": {
      "text/plain": [
       "<Experiment: artifact_location='mlflow-artifacts:/557530386428684495', creation_time=1713335388110, experiment_id='557530386428684495', last_update_time=1713335388110, lifecycle_stage='active', name='projet_7', tags={}>"
      ]
     },
     "execution_count": 2,
     "metadata": {},
     "output_type": "execute_result"
    }
   ],
   "source": [
    "# Lancement de Mlflow\n",
    "import mlflow\n",
    "from mlflow.models import infer_signature\n",
    "\n",
    "mlflow.set_tracking_uri(\"http://localhost:5000\")\n",
    "mlflow.set_experiment(\"projet_7\")"
   ]
  },
  {
   "cell_type": "markdown",
   "metadata": {},
   "source": [
    "### Prep"
   ]
  },
  {
   "cell_type": "code",
   "execution_count": 3,
   "metadata": {},
   "outputs": [
    {
     "name": "stderr",
     "output_type": "stream",
     "text": [
      "2024-04-19 15:59:25.755393: I tensorflow/core/util/port.cc:113] oneDNN custom operations are on. You may see slightly different numerical results due to floating-point round-off errors from different computation orders. To turn them off, set the environment variable `TF_ENABLE_ONEDNN_OPTS=0`.\n",
      "2024-04-19 15:59:25.852470: I tensorflow/core/platform/cpu_feature_guard.cc:210] This TensorFlow binary is optimized to use available CPU instructions in performance-critical operations.\n",
      "To enable the following instructions: AVX2 AVX_VNNI FMA, in other operations, rebuild TensorFlow with the appropriate compiler flags.\n"
     ]
    }
   ],
   "source": [
    "from gensim.models import Word2Vec, FastText\n",
    "import tensorflow as tf\n",
    "import tensorflow_hub as hub\n",
    "\n",
    "from tensorflow.keras.preprocessing.text import Tokenizer\n",
    "from tensorflow.keras.preprocessing.sequence import pad_sequences\n",
    "from tensorflow.keras.models import Sequential\n",
    "from tensorflow.keras.layers import Embedding, Flatten, Dense, Dropout, BatchNormalization, LSTM, Layer\n",
    "from tensorflow.keras.callbacks import ModelCheckpoint, EarlyStopping\n",
    "from tensorflow.keras.regularizers import l1, l2, l1_l2\n",
    "from keras.optimizers import Adam, RMSprop\n"
   ]
  },
  {
   "cell_type": "code",
   "execution_count": 4,
   "metadata": {},
   "outputs": [],
   "source": [
    "df = pd.read_csv('data/tweets_tokenized.csv')"
   ]
  },
  {
   "cell_type": "code",
   "execution_count": 5,
   "metadata": {},
   "outputs": [],
   "source": [
    "X_full = df['dl']\n",
    "y_full = df['label']\n",
    "\n",
    "_, X, _, y = train_test_split(X_full, y_full, test_size=0.01, stratify=y_full, random_state=42)\n",
    "\n",
    "# Split the data into training, validation, and test sets\n",
    "X_train, X_temp, y_train, y_temp = train_test_split(X, y, test_size=0.4, stratify=y, random_state=42)\n",
    "X_val, X_test, y_val, y_test = train_test_split(X_temp, y_temp, test_size=0.5, stratify=y_temp, random_state=42)"
   ]
  },
  {
   "cell_type": "code",
   "execution_count": 6,
   "metadata": {},
   "outputs": [],
   "source": [
    "# Afficher l'évolution des performances lors de l'entrainement\n",
    "def visualize_history(history):\n",
    "        fig, axes = plt.subplots(1, 2, figsize=(16, 6))\n",
    "\n",
    "        plt.subplot(121)\n",
    "        plt.plot(history.history['loss'], label='Loss')\n",
    "        plt.plot(history.history['val_loss'], label='Val Loss')\n",
    "        plt.xlabel('Epoch')\n",
    "        plt.ylabel('Loss')\n",
    "        plt.legend()\n",
    "\n",
    "        plt.subplot(122)\n",
    "        plt.plot(history.history['accuracy'], label='Accuracy')\n",
    "        plt.plot(history.history['val_accuracy'], label='Val Accuracy')\n",
    "        plt.xlabel('Epoch')\n",
    "        plt.ylabel('Accuracy')\n",
    "        plt.legend()\n",
    "\n",
    "        plt.tight_layout()\n",
    "        plt.show()"
   ]
  },
  {
   "cell_type": "markdown",
   "metadata": {},
   "source": [
    "# modèle Kera LSTM + embedding Glove"
   ]
  },
  {
   "cell_type": "code",
   "execution_count": 58,
   "metadata": {},
   "outputs": [],
   "source": [
    "# Préparation de l'embedding\n",
    "\n",
    "# Charger le modèle d'embedding GloVe\n",
    "embeddings_index = {}\n",
    "with open('../Glove/glove.6B.100d.txt') as f:\n",
    "    for line in f:\n",
    "        values = line.split()\n",
    "        word = values[0]\n",
    "        coefs = np.asarray(values[1:], dtype='float32')\n",
    "        embeddings_index[word] = coefs\n",
    "\n",
    "# Préparer les datas pour keras\n",
    "tokenizer = Tokenizer()\n",
    "tokenizer.fit_on_texts(X_train)\n",
    "X_train_glove = tokenizer.texts_to_sequences(X_train)\n",
    "X_val_glove = tokenizer.texts_to_sequences(X_val)\n",
    "X_test_glove = tokenizer.texts_to_sequences(X_test)\n",
    "word_index = tokenizer.word_index\n",
    "\n",
    "# Normalisation de la taille des séquences\n",
    "max_seq = max(len(seq) for seq in X_train_glove)\n",
    "X_train_glove = pad_sequences(X_train_glove, maxlen=max_seq)\n",
    "X_val_glove = pad_sequences(X_val_glove, maxlen=max_seq)\n",
    "X_test_glove = pad_sequences(X_test_glove, maxlen=max_seq)\n",
    "\n",
    "# Préparation de la matrice d'embedding\n",
    "for word in embeddings_index:\n",
    "    embedding_dim = len(embeddings_index[word])\n",
    "    break\n",
    "\n",
    "embedding_matrix = np.zeros((len(word_index) + 1, embedding_dim))\n",
    "for word, i in word_index.items():\n",
    "    embedding_vector = embeddings_index.get(word)\n",
    "    if embedding_vector is not None:\n",
    "        embedding_matrix[i] = embedding_vector\n",
    "\n",
    "# Définir l'embedding\n",
    "embedding_layer = Embedding(len(word_index) + 1, embedding_dim, trainable=False)\n",
    "embedding_layer.build((None,))\n",
    "embedding_layer.set_weights([embedding_matrix])"
   ]
  },
  {
   "cell_type": "code",
   "execution_count": 59,
   "metadata": {},
   "outputs": [],
   "source": [
    "model_glove = Sequential()\n",
    "\n",
    "# Ajouter les couches\n",
    "model_glove.add(embedding_layer)\n",
    "model_glove.add(LSTM(32))\n",
    "model_glove.add(Dropout(0.5))\n",
    "model_glove.add(Dense(32, activation='relu', kernel_regularizer=l1_l2(l1=0.01, l2=0.01)))\n",
    "model_glove.add(Dropout(0.5))\n",
    "model_glove.add(BatchNormalization())\n",
    "model_glove.add(Dense(1, activation='sigmoid'))\n",
    "\n",
    "# Compiler le modèle\n",
    "model_glove.compile(optimizer='adam', loss='binary_crossentropy', metrics=['accuracy'])"
   ]
  },
  {
   "cell_type": "code",
   "execution_count": 60,
   "metadata": {},
   "outputs": [
    {
     "name": "stdout",
     "output_type": "stream",
     "text": [
      "Epoch 1/50\n",
      "\u001b[1m2987/2987\u001b[0m \u001b[32m━━━━━━━━━━━━━━━━━━━━\u001b[0m\u001b[37m\u001b[0m \u001b[1m47s\u001b[0m 15ms/step - accuracy: 0.6564 - loss: 1.1210 - val_accuracy: 0.7811 - val_loss: 0.4985\n",
      "Epoch 2/50\n",
      "\u001b[1m2987/2987\u001b[0m \u001b[32m━━━━━━━━━━━━━━━━━━━━\u001b[0m\u001b[37m\u001b[0m \u001b[1m43s\u001b[0m 14ms/step - accuracy: 0.8269 - loss: 0.4447 - val_accuracy: 0.7677 - val_loss: 0.5264\n",
      "Epoch 3/50\n",
      "\u001b[1m2987/2987\u001b[0m \u001b[32m━━━━━━━━━━━━━━━━━━━━\u001b[0m\u001b[37m\u001b[0m \u001b[1m43s\u001b[0m 14ms/step - accuracy: 0.8998 - loss: 0.3057 - val_accuracy: 0.7739 - val_loss: 0.5622\n",
      "Epoch 4/50\n",
      "\u001b[1m2987/2987\u001b[0m \u001b[32m━━━━━━━━━━━━━━━━━━━━\u001b[0m\u001b[37m\u001b[0m \u001b[1m43s\u001b[0m 14ms/step - accuracy: 0.9231 - loss: 0.2487 - val_accuracy: 0.7702 - val_loss: 0.5910\n",
      "Epoch 5/50\n",
      "\u001b[1m2987/2987\u001b[0m \u001b[32m━━━━━━━━━━━━━━━━━━━━\u001b[0m\u001b[37m\u001b[0m \u001b[1m40s\u001b[0m 13ms/step - accuracy: 0.9378 - loss: 0.2135 - val_accuracy: 0.7683 - val_loss: 0.6689\n",
      "Epoch 6/50\n",
      "\u001b[1m2987/2987\u001b[0m \u001b[32m━━━━━━━━━━━━━━━━━━━━\u001b[0m\u001b[37m\u001b[0m \u001b[1m40s\u001b[0m 13ms/step - accuracy: 0.9456 - loss: 0.1896 - val_accuracy: 0.7621 - val_loss: 0.8815\n"
     ]
    }
   ],
   "source": [
    "# Entrainer le modèle\n",
    "\n",
    "# Création du callback\n",
    "model_save_path_glove = \"./data/model_best_weights_glove.keras\"\n",
    "checkpoint = ModelCheckpoint(model_save_path_glove, monitor='val_loss', verbose=0, save_best_only=True, mode='min')\n",
    "es = EarlyStopping(monitor='val_loss', mode='min', verbose=0, patience=5)\n",
    "callbacks_list = [checkpoint, es]\n",
    "\n",
    "# Train the model\n",
    "batch_size = 32\n",
    "epochs = 50\n",
    "\n",
    "history_glove = model_glove.fit(\n",
    "    X_train_glove, \n",
    "    y_train, \n",
    "    validation_data=(X_val_glove, y_val), \n",
    "    batch_size=batch_size, \n",
    "    epochs=epochs, \n",
    "    callbacks=callbacks_list\n",
    "    )"
   ]
  },
  {
   "cell_type": "code",
   "execution_count": null,
   "metadata": {},
   "outputs": [
    {
     "data": {
      "image/png": "[encoded data removed]",
      "text/plain": [
       "<Figure size 1600x600 with 2 Axes>"
      ]
     },
     "metadata": {},
     "output_type": "display_data"
    }
   ],
   "source": [
    "visualize_history(history_glove)"
   ]
  },
  {
   "cell_type": "code",
   "execution_count": null,
   "metadata": {},
   "outputs": [
    {
     "name": "stdout",
     "output_type": "stream",
     "text": [
      "Validation Accuracy :  0.7606\n",
      "Validation loss:  0.7519\n",
      "Test Accuracy       :  0.7630\n",
      "Test loss:  0.7397\n"
     ]
    }
   ],
   "source": [
    "# Prédire sur l'ensemble de test avec le dernier epoch\n",
    "\n",
    "loss, accuracy = model_glove.evaluate(X_val_glove, y_val, verbose=False)\n",
    "print(\"Validation Accuracy :  {:.4f}\".format(accuracy))\n",
    "print(\"Validation loss:  {:.4f}\".format(loss))\n",
    "\n",
    "loss, accuracy = model_glove.evaluate(X_test_glove, y_test, verbose=False)\n",
    "print(\"Test Accuracy       :  {:.4f}\".format(accuracy))\n",
    "print(\"Test loss:  {:.4f}\".format(loss))"
   ]
  },
  {
   "cell_type": "code",
   "execution_count": null,
   "metadata": {},
   "outputs": [
    {
     "name": "stdout",
     "output_type": "stream",
     "text": [
      "Validation Accuracy :  0.7867\n",
      "Validation loss:  0.4834\n",
      "Test Accuracy       :  0.7906\n",
      "Test loss:  0.4782\n"
     ]
    }
   ],
   "source": [
    "# Prédire sur l'ensemble de test avec le meilleur epoch\n",
    "\n",
    "model_glove.load_weights(model_save_path_glove)\n",
    "\n",
    "loss, accuracy = model_glove.evaluate(X_val_glove, y_val, verbose=False)\n",
    "print(\"Validation Accuracy :  {:.4f}\".format(accuracy))\n",
    "print(\"Validation loss:  {:.4f}\".format(loss))\n",
    "\n",
    "start_time = time.time()\n",
    "loss, accuracy = model_glove.evaluate(X_test_glove, y_test, verbose=False)\n",
    "print(\"Test Accuracy       :  {:.4f}\".format(accuracy))\n",
    "print(\"Test loss:  {:.4f}\".format(loss))\n",
    "\n",
    "# Prédire les labels et enregistrer le temps de prédiction\n",
    "prediction_time = time.time() - start_time\n",
    "# Calculer le temps de prédiction par tweet\n",
    "prediction_time_per_tweet = prediction_time / len(y_test)"
   ]
  },
  {
   "cell_type": "code",
   "execution_count": 29,
   "metadata": {},
   "outputs": [
    {
     "name": "stdout",
     "output_type": "stream",
     "text": [
      "\u001b[1m2987/2987\u001b[0m \u001b[32m━━━━━━━━━━━━━━━━━━━━\u001b[0m\u001b[37m\u001b[0m \u001b[1m24s\u001b[0m 8ms/step\n"
     ]
    },
    {
     "name": "stderr",
     "output_type": "stream",
     "text": [
      "/usr/local/lib/python3.11/dist-packages/_distutils_hack/__init__.py:26: UserWarning: Setuptools is replacing distutils.\n",
      "  warnings.warn(\"Setuptools is replacing distutils.\")\n",
      "Successfully registered model 'Keras_Glove_lstm'.\n",
      "2024/04/18 09:04:48 INFO mlflow.store.model_registry.abstract_store: Waiting up to 300 seconds for model version to finish creation. Model name: Keras_Glove_lstm, version 1\n",
      "Created version '1' of model 'Keras_Glove_lstm'.\n"
     ]
    }
   ],
   "source": [
    "# Enregistrer dans mlFlow\n",
    "\n",
    "with mlflow.start_run(run_name=\"Simple Keras model with LSTM layer and glove 100 embedding\"):\n",
    "\n",
    "    # Enregistrement des paramètres du modèle\n",
    "    mlflow.log_params(model_glove.get_config())\n",
    "\n",
    "    # Enregistrement des résultats\n",
    "    mlflow.log_metric(\"accuracy\", accuracy)\n",
    "    mlflow.log_metric(\"total time\", prediction_time)\n",
    "    mlflow.log_metric(\"time per prediction\", prediction_time_per_tweet)\n",
    "\n",
    "    # Définir la signature du modèle\n",
    "    signature = infer_signature(X_train_glove, model_glove.predict(X_train_glove))\n",
    "\n",
    "    # Enregistrement du modèle\n",
    "    mlflow.keras.log_model(\n",
    "        model=model_glove,\n",
    "        artifact_path=\"Keras_Glove_lstm\",\n",
    "        signature=signature,\n",
    "        registered_model_name=\"Keras_Glove_lstm\",\n",
    "    )"
   ]
  },
  {
   "cell_type": "markdown",
   "metadata": {},
   "source": [
    "# Modèle Keras LSTM et embedding USE"
   ]
  },
  {
   "cell_type": "code",
   "execution_count": 7,
   "metadata": {},
   "outputs": [],
   "source": [
    "class USEEmbeddingLayer(Layer):\n",
    "    # Chargement du module USE et définition de la dimension de sortie\n",
    "    def __init__(self, **kwargs):\n",
    "        self.use = hub.load(\"https://tfhub.dev/google/universal-sentence-encoder-large/5\")\n",
    "        # Use a test sentence to get the output dimension\n",
    "        test_sentence = [\"This is a test sentence.\"]\n",
    "        self.dimensions = self.use(test_sentence).shape[1]\n",
    "        super(USEEmbeddingLayer, self).__init__(**kwargs)\n",
    "\n",
    "    # Initialisation des poids mais pas nécessaire ici\n",
    "    def build(self, input_shape):\n",
    "        super(USEEmbeddingLayer, self).build(input_shape)\n",
    "\n",
    "    # Propagation avant. On utilise le module USE pour encoder les phrases\n",
    "    def call(self, x, mask=None):\n",
    "        result = self.use(tf.squeeze(tf.cast(x, tf.string)))\n",
    "        return result\n",
    "    # Définir la dimension de sortie\n",
    "    def compute_output_shape(self, input_shape):\n",
    "        return (input_shape[0], self.dimensions)"
   ]
  },
  {
   "cell_type": "code",
   "execution_count": 8,
   "metadata": {},
   "outputs": [
    {
     "name": "stderr",
     "output_type": "stream",
     "text": [
      "2024-04-19 15:59:53.548338: I external/local_xla/xla/stream_executor/cuda/cuda_executor.cc:984] could not open file to read NUMA node: /sys/bus/pci/devices/0000:01:00.0/numa_node\n",
      "Your kernel may have been built without NUMA support.\n",
      "2024-04-19 15:59:53.622911: I external/local_xla/xla/stream_executor/cuda/cuda_executor.cc:984] could not open file to read NUMA node: /sys/bus/pci/devices/0000:01:00.0/numa_node\n",
      "Your kernel may have been built without NUMA support.\n",
      "2024-04-19 15:59:53.622952: I external/local_xla/xla/stream_executor/cuda/cuda_executor.cc:984] could not open file to read NUMA node: /sys/bus/pci/devices/0000:01:00.0/numa_node\n",
      "Your kernel may have been built without NUMA support.\n",
      "2024-04-19 15:59:53.626158: I external/local_xla/xla/stream_executor/cuda/cuda_executor.cc:984] could not open file to read NUMA node: /sys/bus/pci/devices/0000:01:00.0/numa_node\n",
      "Your kernel may have been built without NUMA support.\n",
      "2024-04-19 15:59:53.626210: I external/local_xla/xla/stream_executor/cuda/cuda_executor.cc:984] could not open file to read NUMA node: /sys/bus/pci/devices/0000:01:00.0/numa_node\n",
      "Your kernel may have been built without NUMA support.\n",
      "2024-04-19 15:59:53.626225: I external/local_xla/xla/stream_executor/cuda/cuda_executor.cc:984] could not open file to read NUMA node: /sys/bus/pci/devices/0000:01:00.0/numa_node\n",
      "Your kernel may have been built without NUMA support.\n",
      "2024-04-19 15:59:53.731676: I external/local_xla/xla/stream_executor/cuda/cuda_executor.cc:984] could not open file to read NUMA node: /sys/bus/pci/devices/0000:01:00.0/numa_node\n",
      "Your kernel may have been built without NUMA support.\n",
      "2024-04-19 15:59:53.731739: I external/local_xla/xla/stream_executor/cuda/cuda_executor.cc:984] could not open file to read NUMA node: /sys/bus/pci/devices/0000:01:00.0/numa_node\n",
      "Your kernel may have been built without NUMA support.\n",
      "2024-04-19 15:59:53.731745: I tensorflow/core/common_runtime/gpu/gpu_device.cc:2019] Could not identify NUMA node of platform GPU id 0, defaulting to 0.  Your kernel may not have been built with NUMA support.\n",
      "2024-04-19 15:59:53.731774: I external/local_xla/xla/stream_executor/cuda/cuda_executor.cc:984] could not open file to read NUMA node: /sys/bus/pci/devices/0000:01:00.0/numa_node\n",
      "Your kernel may have been built without NUMA support.\n",
      "2024-04-19 15:59:53.731809: I tensorflow/core/common_runtime/gpu/gpu_device.cc:1928] Created device /job:localhost/replica:0/task:0/device:GPU:0 with 5564 MB memory:  -> device: 0, name: NVIDIA GeForce RTX 3070 Ti Laptop GPU, pci bus id: 0000:01:00.0, compute capability: 8.6\n",
      "/usr/local/lib/python3.11/dist-packages/keras/src/layers/core/input_layer.py:25: UserWarning: Argument `input_shape` is deprecated. Use `shape` instead.\n",
      "  warnings.warn(\n"
     ]
    }
   ],
   "source": [
    "# Créer une instance de la couche USEEmbeddingLayer\n",
    "use_layer = USEEmbeddingLayer()\n",
    "\n",
    "# Ajouter les couches\n",
    "model_use = tf.keras.models.Sequential()\n",
    "model_use.add(tf.keras.layers.InputLayer(input_shape=(), dtype=tf.string))\n",
    "model_use.add(use_layer)\n",
    "model_use.add(tf.keras.layers.Reshape((1, 512)))\n",
    "model_use.add(LSTM(32))\n",
    "model_use.add(Dropout(0.5))\n",
    "model_use.add(Dense(32, activation='relu', kernel_regularizer=l1_l2(l1=0.01, l2=0.01)))\n",
    "model_use.add(Dropout(0.5))\n",
    "model_use.add(BatchNormalization())\n",
    "model_use.add(Dense(1, activation='sigmoid'))\n",
    "\n",
    "# Compiler le modèle\n",
    "model_use.compile(optimizer='adam', loss='binary_crossentropy', metrics=['accuracy'])"
   ]
  },
  {
   "cell_type": "code",
   "execution_count": 9,
   "metadata": {},
   "outputs": [
    {
     "name": "stdout",
     "output_type": "stream",
     "text": [
      "Epoch 1/50\n"
     ]
    },
    {
     "name": "stderr",
     "output_type": "stream",
     "text": [
      "2024-04-19 16:00:35.737111: I external/local_xla/xla/stream_executor/cuda/cuda_dnn.cc:465] Loaded cuDNN version 8907\n"
     ]
    },
    {
     "name": "stdout",
     "output_type": "stream",
     "text": [
      "\u001b[1m150/150\u001b[0m \u001b[32m━━━━━━━━━━━━━━━━━━━━\u001b[0m\u001b[37m\u001b[0m \u001b[1m31s\u001b[0m 103ms/step - accuracy: 0.6139 - loss: 2.1186 - val_accuracy: 0.8010 - val_loss: 1.2505\n",
      "Epoch 2/50\n",
      "\u001b[1m150/150\u001b[0m \u001b[32m━━━━━━━━━━━━━━━━━━━━\u001b[0m\u001b[37m\u001b[0m \u001b[1m12s\u001b[0m 80ms/step - accuracy: 0.7698 - loss: 0.9260 - val_accuracy: 0.7841 - val_loss: 0.7334\n",
      "Epoch 3/50\n",
      "\u001b[1m150/150\u001b[0m \u001b[32m━━━━━━━━━━━━━━━━━━━━\u001b[0m\u001b[37m\u001b[0m \u001b[1m12s\u001b[0m 79ms/step - accuracy: 0.7766 - loss: 0.5551 - val_accuracy: 0.8136 - val_loss: 0.6138\n",
      "Epoch 4/50\n",
      "\u001b[1m150/150\u001b[0m \u001b[32m━━━━━━━━━━━━━━━━━━━━\u001b[0m\u001b[37m\u001b[0m \u001b[1m12s\u001b[0m 80ms/step - accuracy: 0.7947 - loss: 0.5137 - val_accuracy: 0.8085 - val_loss: 0.5166\n",
      "Epoch 5/50\n",
      "\u001b[1m150/150\u001b[0m \u001b[32m━━━━━━━━━━━━━━━━━━━━\u001b[0m\u001b[37m\u001b[0m \u001b[1m12s\u001b[0m 80ms/step - accuracy: 0.7932 - loss: 0.5080 - val_accuracy: 0.8060 - val_loss: 0.4834\n",
      "Epoch 6/50\n",
      "\u001b[1m150/150\u001b[0m \u001b[32m━━━━━━━━━━━━━━━━━━━━\u001b[0m\u001b[37m\u001b[0m \u001b[1m12s\u001b[0m 81ms/step - accuracy: 0.7982 - loss: 0.4875 - val_accuracy: 0.8045 - val_loss: 0.4789\n",
      "Epoch 7/50\n",
      "\u001b[1m150/150\u001b[0m \u001b[32m━━━━━━━━━━━━━━━━━━━━\u001b[0m\u001b[37m\u001b[0m \u001b[1m12s\u001b[0m 80ms/step - accuracy: 0.8046 - loss: 0.4800 - val_accuracy: 0.8082 - val_loss: 0.4631\n",
      "Epoch 8/50\n",
      "\u001b[1m150/150\u001b[0m \u001b[32m━━━━━━━━━━━━━━━━━━━━\u001b[0m\u001b[37m\u001b[0m \u001b[1m12s\u001b[0m 81ms/step - accuracy: 0.8028 - loss: 0.4762 - val_accuracy: 0.8082 - val_loss: 0.4638\n",
      "Epoch 9/50\n",
      "\u001b[1m150/150\u001b[0m \u001b[32m━━━━━━━━━━━━━━━━━━━━\u001b[0m\u001b[37m\u001b[0m \u001b[1m12s\u001b[0m 81ms/step - accuracy: 0.8058 - loss: 0.4755 - val_accuracy: 0.8085 - val_loss: 0.4617\n",
      "Epoch 10/50\n",
      "\u001b[1m150/150\u001b[0m \u001b[32m━━━━━━━━━━━━━━━━━━━━\u001b[0m\u001b[37m\u001b[0m \u001b[1m12s\u001b[0m 82ms/step - accuracy: 0.8023 - loss: 0.4783 - val_accuracy: 0.8045 - val_loss: 0.4596\n",
      "Epoch 11/50\n",
      "\u001b[1m150/150\u001b[0m \u001b[32m━━━━━━━━━━━━━━━━━━━━\u001b[0m\u001b[37m\u001b[0m \u001b[1m12s\u001b[0m 82ms/step - accuracy: 0.8036 - loss: 0.4691 - val_accuracy: 0.8089 - val_loss: 0.4575\n",
      "Epoch 12/50\n",
      "\u001b[1m150/150\u001b[0m \u001b[32m━━━━━━━━━━━━━━━━━━━━\u001b[0m\u001b[37m\u001b[0m \u001b[1m12s\u001b[0m 80ms/step - accuracy: 0.8103 - loss: 0.4638 - val_accuracy: 0.8076 - val_loss: 0.4577\n",
      "Epoch 13/50\n",
      "\u001b[1m150/150\u001b[0m \u001b[32m━━━━━━━━━━━━━━━━━━━━\u001b[0m\u001b[37m\u001b[0m \u001b[1m12s\u001b[0m 81ms/step - accuracy: 0.8116 - loss: 0.4598 - val_accuracy: 0.8070 - val_loss: 0.4615\n",
      "Epoch 14/50\n",
      "\u001b[1m150/150\u001b[0m \u001b[32m━━━━━━━━━━━━━━━━━━━━\u001b[0m\u001b[37m\u001b[0m \u001b[1m12s\u001b[0m 83ms/step - accuracy: 0.7996 - loss: 0.4777 - val_accuracy: 0.8073 - val_loss: 0.4548\n",
      "Epoch 15/50\n",
      "\u001b[1m150/150\u001b[0m \u001b[32m━━━━━━━━━━━━━━━━━━━━\u001b[0m\u001b[37m\u001b[0m \u001b[1m12s\u001b[0m 83ms/step - accuracy: 0.8087 - loss: 0.4640 - val_accuracy: 0.8038 - val_loss: 0.4588\n",
      "Epoch 16/50\n",
      "\u001b[1m150/150\u001b[0m \u001b[32m━━━━━━━━━━━━━━━━━━━━\u001b[0m\u001b[37m\u001b[0m \u001b[1m12s\u001b[0m 81ms/step - accuracy: 0.8132 - loss: 0.4550 - val_accuracy: 0.8057 - val_loss: 0.4548\n",
      "Epoch 17/50\n",
      "\u001b[1m150/150\u001b[0m \u001b[32m━━━━━━━━━━━━━━━━━━━━\u001b[0m\u001b[37m\u001b[0m \u001b[1m21s\u001b[0m 81ms/step - accuracy: 0.8066 - loss: 0.4609 - val_accuracy: 0.7954 - val_loss: 0.4713\n",
      "Epoch 18/50\n",
      "\u001b[1m150/150\u001b[0m \u001b[32m━━━━━━━━━━━━━━━━━━━━\u001b[0m\u001b[37m\u001b[0m \u001b[1m12s\u001b[0m 79ms/step - accuracy: 0.8045 - loss: 0.4594 - val_accuracy: 0.8076 - val_loss: 0.4520\n",
      "Epoch 19/50\n",
      "\u001b[1m150/150\u001b[0m \u001b[32m━━━━━━━━━━━━━━━━━━━━\u001b[0m\u001b[37m\u001b[0m \u001b[1m12s\u001b[0m 81ms/step - accuracy: 0.8048 - loss: 0.4577 - val_accuracy: 0.8067 - val_loss: 0.4573\n",
      "Epoch 20/50\n",
      "\u001b[1m150/150\u001b[0m \u001b[32m━━━━━━━━━━━━━━━━━━━━\u001b[0m\u001b[37m\u001b[0m \u001b[1m12s\u001b[0m 80ms/step - accuracy: 0.8110 - loss: 0.4503 - val_accuracy: 0.8038 - val_loss: 0.4542\n",
      "Epoch 21/50\n",
      "\u001b[1m150/150\u001b[0m \u001b[32m━━━━━━━━━━━━━━━━━━━━\u001b[0m\u001b[37m\u001b[0m \u001b[1m12s\u001b[0m 80ms/step - accuracy: 0.8163 - loss: 0.4496 - val_accuracy: 0.8057 - val_loss: 0.4524\n",
      "Epoch 22/50\n",
      "\u001b[1m150/150\u001b[0m \u001b[32m━━━━━━━━━━━━━━━━━━━━\u001b[0m\u001b[37m\u001b[0m \u001b[1m12s\u001b[0m 79ms/step - accuracy: 0.8047 - loss: 0.4557 - val_accuracy: 0.8045 - val_loss: 0.4558\n",
      "Epoch 23/50\n",
      "\u001b[1m150/150\u001b[0m \u001b[32m━━━━━━━━━━━━━━━━━━━━\u001b[0m\u001b[37m\u001b[0m \u001b[1m12s\u001b[0m 81ms/step - accuracy: 0.8070 - loss: 0.4500 - val_accuracy: 0.8070 - val_loss: 0.4568\n"
     ]
    }
   ],
   "source": [
    "# Entrainer le modèle\n",
    "\n",
    "# Création du callback\n",
    "model_save_path_use = \"./data/model_best_weights_use.keras\"\n",
    "checkpoint = ModelCheckpoint(model_save_path_use, monitor='val_loss', verbose=0, save_best_only=True, mode='min')\n",
    "es = EarlyStopping(monitor='val_loss', mode='min', verbose=0, patience=5)\n",
    "callbacks_list = [checkpoint, es]\n",
    "\n",
    "# Train the model\n",
    "batch_size = 64\n",
    "epochs = 50\n",
    "\n",
    "history_use = model_use.fit(\n",
    "    X_train, \n",
    "    y_train, \n",
    "    validation_data=(X_val, y_val), \n",
    "    batch_size=batch_size, \n",
    "    epochs=epochs, \n",
    "    callbacks=callbacks_list\n",
    "    )"
   ]
  },
  {
   "cell_type": "code",
   "execution_count": 10,
   "metadata": {},
   "outputs": [
    {
     "data": {
      "image/png": "[encoded data removed]",
      "text/plain": [
       "<Figure size 1600x600 with 2 Axes>"
      ]
     },
     "metadata": {},
     "output_type": "display_data"
    }
   ],
   "source": [
    "visualize_history(history_use)"
   ]
  },
  {
   "cell_type": "code",
   "execution_count": 11,
   "metadata": {},
   "outputs": [
    {
     "name": "stdout",
     "output_type": "stream",
     "text": [
      "Validation Accuracy :  0.8067\n",
      "Validation loss:  0.4563\n",
      "Test Accuracy       :  0.8054\n",
      "Test loss:  0.4531\n"
     ]
    }
   ],
   "source": [
    "# Prédire sur l'ensemble de test avec le dernier epoch\n",
    "\n",
    "loss, accuracy = model_use.evaluate(X_val, y_val, verbose=False)\n",
    "print(\"Validation Accuracy :  {:.4f}\".format(accuracy))\n",
    "print(\"Validation loss:  {:.4f}\".format(loss))\n",
    "\n",
    "loss, accuracy = model_use.evaluate(X_test, y_test, verbose=False)\n",
    "print(\"Test Accuracy       :  {:.4f}\".format(accuracy))\n",
    "print(\"Test loss:  {:.4f}\".format(loss))"
   ]
  },
  {
   "cell_type": "code",
   "execution_count": 12,
   "metadata": {},
   "outputs": [
    {
     "name": "stdout",
     "output_type": "stream",
     "text": [
      "Validation Accuracy :  0.8076\n",
      "Validation loss:  0.4516\n",
      "Test Accuracy       :  0.8117\n",
      "Test loss:  0.4473\n"
     ]
    }
   ],
   "source": [
    "# Prédire sur l'ensemble de test avec le meilleur epoch\n",
    "\n",
    "model_use.load_weights(model_save_path_use)\n",
    "\n",
    "loss, accuracy = model_use.evaluate(X_val, y_val, verbose=False)\n",
    "print(\"Validation Accuracy :  {:.4f}\".format(accuracy))\n",
    "print(\"Validation loss:  {:.4f}\".format(loss))\n",
    "\n",
    "start_time = time.time()\n",
    "loss, accuracy = model_use.evaluate(X_test, y_test, verbose=False)\n",
    "print(\"Test Accuracy       :  {:.4f}\".format(accuracy))\n",
    "print(\"Test loss:  {:.4f}\".format(loss))\n",
    "\n",
    "# Prédire les labels et enregistrer le temps de prédiction\n",
    "prediction_time = time.time() - start_time\n",
    "# Calculer le temps de prédiction par tweet\n",
    "prediction_time_per_tweet = prediction_time / len(y_test)"
   ]
  },
  {
   "cell_type": "code",
   "execution_count": 50,
   "metadata": {},
   "outputs": [
    {
     "name": "stderr",
     "output_type": "stream",
     "text": [
      "2024/04/18 20:49:38 WARNING mlflow.utils.environment: Encountered an unexpected error while inferring pip requirements (model URI: /tmp/tmptljda9f5/model, flavor: keras). Fall back to return ['keras==3.0.5']. Set logging level to DEBUG to see the full traceback. \n",
      "Successfully registered model 'Keras_USE_lstm'.\n",
      "2024/04/18 20:49:39 INFO mlflow.store.model_registry.abstract_store: Waiting up to 300 seconds for model version to finish creation. Model name: Keras_USE_lstm, version 1\n",
      "Created version '1' of model 'Keras_USE_lstm'.\n"
     ]
    }
   ],
   "source": [
    "# Enregistrer dans mlFlow\n",
    "from mlflow.models.signature import ModelSignature\n",
    "from mlflow.types.schema import Schema, TensorSpec\n",
    "\n",
    "\n",
    "with mlflow.start_run(run_name=\"Keras model with LSTM layer and use embedding\"):\n",
    "\n",
    "    # Enregistrement des paramètres du modèle\n",
    "    mlflow.log_params(model_use.get_config())\n",
    "\n",
    "    # Enregistrement des résultats\n",
    "    mlflow.log_metric(\"accuracy\", accuracy)\n",
    "    mlflow.log_metric(\"total time\", prediction_time)\n",
    "    mlflow.log_metric(\"time per prediction\", prediction_time_per_tweet)\n",
    "\n",
    "    # Définir la signature du modèle\n",
    "    input_schema = Schema([TensorSpec(type=np.dtype('float32'), shape=(-1,))])\n",
    "    output_schema = Schema([TensorSpec(type=np.dtype('float32'), shape=(-1,))])\n",
    "    signature = ModelSignature(inputs=input_schema, outputs=output_schema)\n",
    "\n",
    "    # Enregistrement du modèle\n",
    "    mlflow.keras.log_model(\n",
    "        model=model_use,\n",
    "        artifact_path=\"Keras_USE_lstm\",\n",
    "        signature=signature,\n",
    "        registered_model_name=\"Keras_USE_lstm\",\n",
    "    )"
   ]
  },
  {
   "cell_type": "markdown",
   "metadata": {},
   "source": [
    "# Modèle bert bert-base-uncased"
   ]
  },
  {
   "cell_type": "code",
   "execution_count": 19,
   "metadata": {},
   "outputs": [],
   "source": [
    "from transformers import DistilBertForSequenceClassification, DistilBertTokenizer, get_linear_schedule_with_warmup\n",
    "\n",
    "import torch\n",
    "from torch.optim import AdamW\n",
    "from torch.utils.data import TensorDataset, DataLoader\n",
    "\n",
    "from tqdm import tqdm\n",
    "import re"
   ]
  },
  {
   "cell_type": "code",
   "execution_count": 20,
   "metadata": {},
   "outputs": [
    {
     "name": "stderr",
     "output_type": "stream",
     "text": [
      "Some weights of DistilBertForSequenceClassification were not initialized from the model checkpoint at distilbert-base-uncased and are newly initialized: ['classifier.bias', 'classifier.weight', 'pre_classifier.bias', 'pre_classifier.weight']\n",
      "You should probably TRAIN this model on a down-stream task to be able to use it for predictions and inference.\n"
     ]
    }
   ],
   "source": [
    "# Charger le modèle BERT pré-entraîné pour la classification de séquences\n",
    "model_bert = DistilBertForSequenceClassification.from_pretrained('distilbert-base-uncased')\n",
    "# Charger le tokeniseur BERT\n",
    "tokenizer = DistilBertTokenizer.from_pretrained('distilbert-base-uncased')\n",
    "# Définir où s'effectuera le calcule\n",
    "device = torch.device(\"cuda\" if torch.cuda.is_available() else \"cpu\")"
   ]
  },
  {
   "cell_type": "markdown",
   "metadata": {},
   "source": [
    "### Prétraitement"
   ]
  },
  {
   "cell_type": "markdown",
   "metadata": {},
   "source": [
    "Special_tokens : \n",
    "* C'est une représentation d'une unité de texte. Cela peut être aussi simple qu'un mot ou aussi complexe qu'un sous-mot, selon le tokenizer utilisé.\n",
    "    * CLS : jeton est toujours ajouté au début d'une séquence de texte.\n",
    "    * SEP :jeton est utilisé pour marquer la fin d'une phrase ou la séparation entre deux phrases\n",
    "\n",
    "Masques d'attention : \n",
    "* Les masques d'attention sont utilisés pour indiquer quels jetons sont des jetons de padding et quels jetons sont de vrais jetons, afin que le modèle ne tienne pas compte des jetons de padding lors du calcul de l'attention.\n",
    "\n",
    "Tensor : \n",
    "* Classe qui offre de nombreuses opérations similaires à celles des matrices numpy, mais peut également être utilisée sur un GPU pour accélérer les calculs.\n",
    "\n",
    "TensorDataset: \n",
    "* Utilisé pour emballer ensemble plusieurs tenseurs de données en un seul objet qui peut être utilisé comme un ensemble de données.\n",
    "\n",
    "DataLoader: \n",
    "* Fournit des fonctionnalités telles que le chargement des données en mémoire par lots (batch), ce qui est essentiel lors de l'entraînement de modèles sur de grands ensembles de données, et le mélange des données (si shuffle=True est défini lors de l'initialisation du DataLoader). Il peut également effectuer des opérations en parallèle pour améliorer les performances, comme le chargement des données en utilisant plusieurs processus (si num_workers > 0 est défini lors de l'initialisation du DataLoader).\n",
    "    * Shuffle = True : l'ordre des exemples d'entraînement change à chaque époque\n",
    "    * num_workers > 0 : charger les données en utilisant plusieurs sous-processus"
   ]
  },
  {
   "cell_type": "code",
   "execution_count": 36,
   "metadata": {},
   "outputs": [],
   "source": [
    "# Fonction de preprocessing du texte\n",
    "def preprocess_text(text, max_length):\n",
    "    # Nettoyage du texte\n",
    "    text = re.sub(r'https?:\\/\\/\\S*', '', text, flags=re.MULTILINE)  # Supprimer les URL\n",
    "    text = re.sub(r'@\\w*', '', text)  # Supprimer les mentions\n",
    "    text = re.sub(r'#', '', text)  # Supprimer les hashtags\n",
    "    text = re.sub(r'\\s+', ' ', text).strip()  # Supprimer les espaces excessifs\n",
    "\n",
    "    # Tokenisation, conversion en identifiants de jetons et padding\n",
    "    inputs = tokenizer.encode_plus(\n",
    "        text,\n",
    "        add_special_tokens=True,  # Ajouter les jetons spéciaux [CLS] et [SEP]\n",
    "        max_length=max_length,  # Longueur maximale des séquences\n",
    "        padding='max_length',  # Ajouter des padding\n",
    "        return_attention_mask=True,  # Retourner les masques d'attention\n",
    "        truncation=True  # Tronquer les séquences trop longues\n",
    "    )\n",
    "\n",
    "    return inputs['input_ids'], inputs['attention_mask']\n",
    "\n",
    "\n",
    "# Fonction de création des tensors et dataloaders\n",
    "def prepare_dataloader(X, y, preprocess_func, batch_size, max_length):\n",
    "    inputs = [preprocess_func(tweet, max_length) for tweet in X] # Prétraiter les tweets\n",
    "    input_ids = torch.tensor([i[0] for i in inputs]) # Créer un tensor pour les identifiants de jetons\n",
    "    attention_masks = torch.tensor([i[1] for i in inputs]) # Créer un tensor pour les masques d'attention\n",
    "    y_tensor = torch.tensor(y.values) # Créer un tensor pour les labels\n",
    "    data = TensorDataset(input_ids, attention_masks, y_tensor)\n",
    "    dataloader = DataLoader(data, batch_size=batch_size)\n",
    "    return dataloader"
   ]
  },
  {
   "cell_type": "code",
   "execution_count": 37,
   "metadata": {},
   "outputs": [],
   "source": [
    "batch_size = 128\n",
    "max_length = max(len(sentence.split()) for sentence in X_train)\n",
    "\n",
    "train_dataloader = prepare_dataloader(X_train, y_train, preprocess_text, batch_size, max_length)\n",
    "val_dataloader = prepare_dataloader(X_val, y_val, preprocess_text, batch_size, max_length)\n",
    "test_dataloader = prepare_dataloader(X_test, y_test, preprocess_text, batch_size, max_length)"
   ]
  },
  {
   "cell_type": "code",
   "execution_count": 14,
   "metadata": {},
   "outputs": [
    {
     "ename": "RuntimeError",
     "evalue": "CUDA error: out of memory\nCUDA kernel errors might be asynchronously reported at some other API call, so the stacktrace below might be incorrect.\nFor debugging consider passing CUDA_LAUNCH_BLOCKING=1.\nCompile with `TORCH_USE_CUDA_DSA` to enable device-side assertions.\n",
     "output_type": "error",
     "traceback": [
      "\u001b[0;31m---------------------------------------------------------------------------\u001b[0m",
      "\u001b[0;31mRuntimeError\u001b[0m                              Traceback (most recent call last)",
      "Cell \u001b[0;32mIn[14], line 10\u001b[0m\n\u001b[1;32m      8\u001b[0m \u001b[38;5;28;01mfor\u001b[39;00m batch_size \u001b[38;5;129;01min\u001b[39;00m batch_sizes:\n\u001b[1;32m      9\u001b[0m     gc\u001b[38;5;241m.\u001b[39mcollect()\n\u001b[0;32m---> 10\u001b[0m     \u001b[43mtorch\u001b[49m\u001b[38;5;241;43m.\u001b[39;49m\u001b[43mcuda\u001b[49m\u001b[38;5;241;43m.\u001b[39;49m\u001b[43mempty_cache\u001b[49m\u001b[43m(\u001b[49m\u001b[43m)\u001b[49m\n\u001b[1;32m     11\u001b[0m     \u001b[38;5;28;01mtry\u001b[39;00m:\n\u001b[1;32m     12\u001b[0m         outputs \u001b[38;5;241m=\u001b[39m \u001b[38;5;28;01mNone\u001b[39;00m\n",
      "File \u001b[0;32m/usr/local/lib/python3.11/dist-packages/torch/cuda/memory.py:162\u001b[0m, in \u001b[0;36mempty_cache\u001b[0;34m()\u001b[0m\n\u001b[1;32m    151\u001b[0m \u001b[38;5;250m\u001b[39m\u001b[38;5;124mr\u001b[39m\u001b[38;5;124;03m\"\"\"Release all unoccupied cached memory currently held by the caching\u001b[39;00m\n\u001b[1;32m    152\u001b[0m \u001b[38;5;124;03mallocator so that those can be used in other GPU application and visible in\u001b[39;00m\n\u001b[1;32m    153\u001b[0m \u001b[38;5;124;03m`nvidia-smi`.\u001b[39;00m\n\u001b[0;32m   (...)\u001b[0m\n\u001b[1;32m    159\u001b[0m \u001b[38;5;124;03m    more details about GPU memory management.\u001b[39;00m\n\u001b[1;32m    160\u001b[0m \u001b[38;5;124;03m\"\"\"\u001b[39;00m\n\u001b[1;32m    161\u001b[0m \u001b[38;5;28;01mif\u001b[39;00m is_initialized():\n\u001b[0;32m--> 162\u001b[0m     \u001b[43mtorch\u001b[49m\u001b[38;5;241;43m.\u001b[39;49m\u001b[43m_C\u001b[49m\u001b[38;5;241;43m.\u001b[39;49m\u001b[43m_cuda_emptyCache\u001b[49m\u001b[43m(\u001b[49m\u001b[43m)\u001b[49m\n",
      "\u001b[0;31mRuntimeError\u001b[0m: CUDA error: out of memory\nCUDA kernel errors might be asynchronously reported at some other API call, so the stacktrace below might be incorrect.\nFor debugging consider passing CUDA_LAUNCH_BLOCKING=1.\nCompile with `TORCH_USE_CUDA_DSA` to enable device-side assertions.\n"
     ]
    }
   ],
   "source": [
    "'''\n",
    "import gc\n",
    "from torch import cuda\n",
    "\n",
    "# Tester la taille de lot appropriée\n",
    "batch_sizes = [16, 32, 64, 128, 256, 512, 1024, 2048, 4096]\n",
    "max_batch_size = None\n",
    "\n",
    "for batch_size in batch_sizes:\n",
    "    gc.collect()\n",
    "    torch.cuda.empty_cache()\n",
    "    try:\n",
    "        outputs = None\n",
    "        loss = None\n",
    "        optimizer = AdamW(model.parameters(), lr=1e-5)\n",
    "\n",
    "        # Créer un DataLoader avec la taille de lot actuelle\n",
    "        train_data = TensorDataset(train_input_ids, train_attention_masks, y_train_tensor)\n",
    "        dataloader = DataLoader(train_data, batch_size=batch_size)\n",
    "\n",
    "        # Obtenir le premier lot\n",
    "        inputs, masks, targets = next(iter(dataloader))\n",
    "\n",
    "        # Déplacer le lot vers le GPU\n",
    "        model_gpu = model.to(device)\n",
    "        inputs = inputs.to(device)\n",
    "        masks = masks.to(device)\n",
    "        targets = targets.to(device)\n",
    "        \n",
    "\n",
    "        # Essayer d'effectuer une passe avant et arrière avec le lot\n",
    "        optimizer.zero_grad()\n",
    "        outputs = model_gpu(inputs, attention_mask=masks, labels=targets)\n",
    "        loss = outputs.loss\n",
    "        loss.backward()\n",
    "        optimizer.step()\n",
    "\n",
    "        print(f\"Batch size {batch_size} fits in GPU memory\")\n",
    "        max_batch_size = batch_size\n",
    "\n",
    "    except RuntimeError as e:\n",
    "        if \"out of memory\" in str(e):\n",
    "            print(f\"Batch size {batch_size} doesn't fit in GPU memory\")\n",
    "            break\n",
    "        else:\n",
    "            raise e\n",
    "    finally:\n",
    "        # Supprimer les variables inutiles\n",
    "        if inputs is not None: del inputs\n",
    "        if masks is not None: del masks\n",
    "        if targets is not None: del targets\n",
    "        if outputs is not None: del outputs\n",
    "        if loss is not None: del loss\n",
    "        if model_gpu is not None: del model_gpu\n",
    "        if optimizer is not None: del optimizer\n",
    "\n",
    "        # Appeler le ramasse-miettes de Python\n",
    "        gc.collect()\n",
    "        torch.cuda.empty_cache()\n",
    "\n",
    "print(f\"The maximum batch size that fits in GPU memory is {max_batch_size}\")\n",
    "'''"
   ]
  },
  {
   "cell_type": "markdown",
   "metadata": {},
   "source": [
    "### Utilisation du modèle"
   ]
  },
  {
   "cell_type": "code",
   "execution_count": 41,
   "metadata": {},
   "outputs": [],
   "source": [
    "# Fonction d'entraînement et d'évaluation du modèle\n",
    "\n",
    "def train_eval_model(model, dataloader, optimizer, scheduler, train=True):\n",
    "    # Changer le mode du modèle en mode entraînement ou évaluation\n",
    "    if train:\n",
    "        model.train()\n",
    "    else:\n",
    "        model.eval()\n",
    "\n",
    "    # Initialiser les variables pour le calcul de la perte et de l'exactitude\n",
    "    loss_total = 0\n",
    "    preds_list, true_list = [], []\n",
    "\n",
    "    for batch in dataloader:\n",
    "\n",
    "        input_ids, attention_mask, labels = batch\n",
    "\n",
    "        # Déplacer les données vers le GPU\n",
    "        model = model.to(device)\n",
    "        input_ids = input_ids.to(device)\n",
    "        attention_mask = attention_mask.to(device)\n",
    "        labels = labels.to(device)\n",
    "\n",
    "        # Réinitialiser les gradients si le mode est entraînement\n",
    "        if train:\n",
    "            optimizer.zero_grad()\n",
    "\n",
    "        with torch.set_grad_enabled(train):\n",
    "            outputs = model(input_ids, attention_mask=attention_mask, labels=labels)\n",
    "            loss = outputs.loss\n",
    "            preds = torch.argmax(outputs.logits, dim=1)\n",
    "\n",
    "        loss_total += loss.item()\n",
    "        preds_list.extend(preds.cpu().numpy())\n",
    "        true_list.extend(labels.cpu().numpy())\n",
    "\n",
    "        # Calculer les gradients et effectuer une étape d'optimisation si le mode est entraînement\n",
    "        if train:\n",
    "            loss.backward()\n",
    "            optimizer.step()\n",
    "            scheduler.step()\n",
    "            \n",
    "        # Mettre à jour la barre de progression avec la perte du lot actuel\n",
    "        dataloader.set_postfix({'batch_loss': loss.item()}, refresh=True)\n",
    "        dataloader.update()\n",
    "\n",
    "        # Supprimer les variables pour libérer la mémoire du GPU\n",
    "        del input_ids, attention_mask, labels, outputs, loss, preds\n",
    "        torch.cuda.empty_cache()\n",
    "\n",
    "    # Calculer la perte moyenne et l'exactitude\n",
    "    avg_loss = loss_total / len(dataloader)\n",
    "    acc = accuracy_score(true_list, preds_list)\n",
    "\n",
    "    return avg_loss, acc"
   ]
  },
  {
   "cell_type": "code",
   "execution_count": 26,
   "metadata": {},
   "outputs": [
    {
     "name": "stdout",
     "output_type": "stream",
     "text": [
      "Epoch 1/50\n"
     ]
    },
    {
     "name": "stderr",
     "output_type": "stream",
     "text": [
      "                                                                             \r"
     ]
    },
    {
     "name": "stdout",
     "output_type": "stream",
     "text": [
      "Train loss: 0.5878, Train accuracy: 0.7025\n",
      "Val loss: 0.4740, Val accuracy: 0.7828\n",
      "Epoch 2/50\n"
     ]
    },
    {
     "name": "stderr",
     "output_type": "stream",
     "text": [
      "                                                                             \r"
     ]
    },
    {
     "name": "stdout",
     "output_type": "stream",
     "text": [
      "Train loss: 0.4355, Train accuracy: 0.8060\n",
      "Val loss: 0.4441, Val accuracy: 0.7976\n",
      "Epoch 3/50\n"
     ]
    },
    {
     "name": "stderr",
     "output_type": "stream",
     "text": [
      "                                                                             \r"
     ]
    },
    {
     "name": "stdout",
     "output_type": "stream",
     "text": [
      "Train loss: 0.3811, Train accuracy: 0.8391\n",
      "Val loss: 0.4410, Val accuracy: 0.8001\n",
      "Epoch 4/50\n"
     ]
    },
    {
     "name": "stderr",
     "output_type": "stream",
     "text": [
      "                                                                             \r"
     ]
    },
    {
     "name": "stdout",
     "output_type": "stream",
     "text": [
      "Train loss: 0.3291, Train accuracy: 0.8685\n",
      "Val loss: 0.4565, Val accuracy: 0.8010\n",
      "Epoch 5/50\n"
     ]
    },
    {
     "name": "stderr",
     "output_type": "stream",
     "text": [
      "                                                                             \r"
     ]
    },
    {
     "name": "stdout",
     "output_type": "stream",
     "text": [
      "Train loss: 0.2770, Train accuracy: 0.8968\n",
      "Val loss: 0.4886, Val accuracy: 0.7976\n",
      "Epoch 6/50\n"
     ]
    },
    {
     "name": "stderr",
     "output_type": "stream",
     "text": [
      "                                                                             "
     ]
    },
    {
     "name": "stdout",
     "output_type": "stream",
     "text": [
      "Train loss: 0.2313, Train accuracy: 0.9188\n",
      "Val loss: 0.5258, Val accuracy: 0.7972\n",
      "Early stopping!\n"
     ]
    },
    {
     "name": "stderr",
     "output_type": "stream",
     "text": [
      "\r"
     ]
    }
   ],
   "source": [
    "\n",
    "\n",
    "# Initialiser le meilleur loss à l'infini\n",
    "best_val_loss = float('inf')\n",
    "# Définir le nombre d'époques sans amélioration avant d'arrêter\n",
    "patience = 3\n",
    "epochs_no_improve = 0\n",
    "\n",
    "# Définir l'optimiseur et le scheduler\n",
    "optimizer = AdamW(model_bert.parameters(), lr=1e-5)\n",
    "scheduler = get_linear_schedule_with_warmup(optimizer, num_warmup_steps=0, num_training_steps=len(train_dataloader)*epochs)\n",
    "\n",
    "# Initialiser les listes pour stocker les losses et les accuracies\n",
    "history_bert = {'train_loss': [], 'val_loss': [], 'train_acc': [], 'val_acc': []}\n",
    "\n",
    "\n",
    "# Entrainer le modèle\n",
    "for epoch in range(epochs):\n",
    "    print(f'Epoch {epoch+1}/{epochs}')\n",
    "\n",
    "    for phase, dataloader in [('train', train_dataloader), ('val', val_dataloader)]:\n",
    "        progress = tqdm(dataloader, desc=phase, leave=False)\n",
    "        loss, acc = train_eval_model(model_bert, progress, optimizer, scheduler, train=(phase=='train'))\n",
    "        \n",
    "        history_bert[f'{phase}_loss'].append(loss)\n",
    "        history_bert[f'{phase}_acc'].append(acc)\n",
    "\n",
    "        print(f'{phase} loss: {loss:.4f}, {phase} accuracy: {acc:.4f}')\n",
    "\n",
    "        # Si la loss de validation est la meilleure jusqu'à présent, sauvegarder le modèle\n",
    "        if phase == 'val':\n",
    "            if loss < best_val_loss:\n",
    "                model_bert.to('cpu')\n",
    "                torch.save(model_bert.state_dict(), model_save_path)\n",
    "                model_bert.to(device)\n",
    "                best_val_loss = loss\n",
    "                epochs_no_improve = 0\n",
    "            else:\n",
    "                epochs_no_improve += 1\n",
    "                # Si aucune amélioration après 'patience' époques, arrêter l'entraînement\n",
    "                if epochs_no_improve == patience:\n",
    "                    print('Early stopping!')\n",
    "                    break\n",
    "\n",
    "    # Déplacer le modèle vers la CPU et vider le cache du GPU après chaque époque\n",
    "    model_bert.to('cpu')\n",
    "    torch.cuda.empty_cache()"
   ]
  },
  {
   "cell_type": "code",
   "execution_count": 30,
   "metadata": {},
   "outputs": [
    {
     "name": "stderr",
     "output_type": "stream",
     "text": [
      "                                                                             "
     ]
    },
    {
     "name": "stdout",
     "output_type": "stream",
     "text": [
      "Test loss: 0.4088, Test accuracy: 0.8220\n"
     ]
    },
    {
     "name": "stderr",
     "output_type": "stream",
     "text": [
      "\r"
     ]
    }
   ],
   "source": [
    "# Charger les poids du meilleur modèle\n",
    "model_bert.load_state_dict(torch.load(model_save_path))\n",
    "\n",
    "# Tester le modèle sur l'ensemble de test\n",
    "start_time = time.time()\n",
    "\n",
    "test_progress = tqdm(test_dataloader, desc='Validation', leave=False)\n",
    "test_loss, test_acc = train_eval_model(model, test_progress, optimizer, scheduler, train=False)\n",
    "print(f'Test loss: {test_loss:.4f}, Test accuracy: {test_acc:.4f}')\n",
    "# Prédire les labels et enregistrer le temps de prédiction\n",
    "prediction_time = time.time() - start_time\n",
    "# Calculer le temps de prédiction par tweet\n",
    "prediction_time_per_tweet = prediction_time / len(y_test)"
   ]
  },
  {
   "cell_type": "code",
   "execution_count": 34,
   "metadata": {},
   "outputs": [
    {
     "name": "stderr",
     "output_type": "stream",
     "text": [
      "/usr/local/lib/python3.11/dist-packages/_distutils_hack/__init__.py:26: UserWarning: Setuptools is replacing distutils.\n",
      "  warnings.warn(\"Setuptools is replacing distutils.\")\n",
      "Successfully registered model 'distilbert'.\n",
      "2024/04/19 14:32:35 INFO mlflow.store.model_registry.abstract_store: Waiting up to 300 seconds for model version to finish creation. Model name: distilbert, version 1\n",
      "Created version '1' of model 'distilbert'.\n"
     ]
    }
   ],
   "source": [
    "# Enregistrer dans mlFlow\n",
    "from mlflow.models.signature import ModelSignature\n",
    "from mlflow.types.schema import Schema, ColSpec\n",
    "\n",
    "with mlflow.start_run(run_name=\"Modèle distilbert\"):\n",
    "\n",
    "    # Enregistrement des paramètres du modèle\n",
    "    mlflow.log_params(model_bert.config.to_dict())\n",
    "\n",
    "    # Enregistrement des résultats\n",
    "    mlflow.log_metric(\"accuracy\", test_acc)\n",
    "    mlflow.log_metric(\"total time\", prediction_time)\n",
    "    mlflow.log_metric(\"time per prediction\", prediction_time_per_tweet)\n",
    "\n",
    "    # Définir la signature du modèle\n",
    "    input_schema = Schema([\n",
    "        ColSpec(\"long\", \"input_ids\"),\n",
    "        ColSpec(\"long\", \"attention_mask\"),\n",
    "        ColSpec(\"long\", \"labels\")\n",
    "    ])\n",
    "    output_schema = Schema([ColSpec(\"long\", \"class\")])\n",
    "    signature = ModelSignature(inputs=input_schema, outputs=output_schema)\n",
    "\n",
    "    # Enregistrement du modèle\n",
    "    mlflow.pytorch.log_model(\n",
    "        pytorch_model=model_bert,\n",
    "        artifact_path=\"Distilbert\",\n",
    "        signature=signature,\n",
    "        registered_model_name=\"distilbert\",\n",
    "    )"
   ]
  },
  {
   "cell_type": "code",
   "execution_count": null,
   "metadata": {},
   "outputs": [],
   "source": []
  }
 ],
 "metadata": {
  "kernelspec": {
   "display_name": "Python 3",
   "language": "python",
   "name": "python3"
  },
  "language_info": {
   "codemirror_mode": {
    "name": "ipython",
    "version": 3
   },
   "file_extension": ".py",
   "mimetype": "text/x-python",
   "name": "python",
   "nbconvert_exporter": "python",
   "pygments_lexer": "ipython3",
   "version": "3.11.0"
  }
 },
 "nbformat": 4,
 "nbformat_minor": 2
}
